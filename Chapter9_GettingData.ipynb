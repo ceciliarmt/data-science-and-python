{
 "cells": [
  {
   "cell_type": "code",
   "execution_count": 1,
   "metadata": {},
   "outputs": [],
   "source": [
    "# stdin and stdout\n",
    "# You can pipe data through them using sys.stdin and sys.stdout\n",
    "# For example, here is a script that reads in lines of text and spits back out the ones that match \n",
    "# a regular expression:\n",
    "\n",
    "# egrep.py\n",
    "import sys, re\n",
    "\n",
    "# sys.argv is the list of command-line arguments\n",
    "# sys.argv[0] is the name of the program itself\n",
    "# sys.argv[1] will be the regex specified at the command line\n",
    "regex = sys.argv[1]\n",
    "# for every line passed into the script\n",
    "for line in sys.stdin:\n",
    "    # if it matches the regex, write it to stdout\n",
    "    if re.search(regex, line):\n",
    "        sys.stdout.write(line)"
   ]
  },
  {
   "cell_type": "code",
   "execution_count": 2,
   "metadata": {},
   "outputs": [
    {
     "name": "stdout",
     "output_type": "stream",
     "text": [
      "0\n"
     ]
    }
   ],
   "source": [
    "# This code counts the lines it receives and then writes out the count:\n",
    "\n",
    "# line_count.py\n",
    "import sys\n",
    "\n",
    "count = 0\n",
    "for line in sys.stdin:\n",
    "    count += 1\n",
    "\n",
    "# print goes to sys.stdout\n",
    "print count"
   ]
  },
  {
   "cell_type": "code",
   "execution_count": 4,
   "metadata": {
    "scrolled": true
   },
   "outputs": [],
   "source": [
    "# Here’s a script that counts the words in its input and writes out the most common ones:\n",
    "# - - - - - - - - - - - - -- - - - -- - - - - -- - - -- - - - - - - - - - - - - - - -- - - - - - - - - -- - - - - - \n",
    "\n",
    "# most_common_words.py\n",
    "#import sys\n",
    "#from collections import Counter\n",
    "\n",
    "# pass in number of words as first argument\n",
    "#try:\n",
    "    #num_words = int(sys.argv[1])\n",
    "#except:\n",
    "    #print \"usage: most_common_words.py num_words\"\n",
    "    #sys.exit(1)   # non-zero exit code indicates error\n",
    "\n",
    "#counter = Counter(word.lower()  # lowercase words\n",
    "                  #for line in sys.stdin             #\n",
    "                  #for word in line.strip().split()  # split on spaces\n",
    "                  #if word)                          # skip empty 'words'\n",
    "\n",
    "#for word, count in counter.most_common(num_words):\n",
    "    #sys.stdout.write(str(count))\n",
    "    #sys.stdout.write(\"\\t\")\n",
    "    #sys.stdout.write(word)\n",
    "    #sys.stdout.write(\"\\n\")      \n",
    "\n",
    "#“after which you could do something like: \n",
    "#“C:\\DataScience>type the_bible.txt | python most_common_words.py 10\n",
    "#64193   the\n",
    "#51380   and\n",
    "#34753   of\n",
    "#13643   to\n",
    "#12799   that\n",
    "#12560   in\n",
    "#10263   he\n",
    "#9840    shall\n",
    "#8987    unto\n",
    "#8836    for "
   ]
  },
  {
   "cell_type": "code",
   "execution_count": 6,
   "metadata": {},
   "outputs": [],
   "source": [
    "# BASICS OF TEXTFILES\n",
    "# The first step to working with a text file is to obtain a file object using open:\n",
    "# - - - - - - - - - - - - -- - - - -- - - - - -- - - -- - - - - - - - - - - - - - - -- - - - - - - - - -- - - - - - \n",
    "\n",
    "# 'r' means read-only\n",
    "#file_for_reading = open('reading_file.txt', 'r')\n",
    "\n",
    "# 'w' is write -- will destroy the file if it already exists!\n",
    "#file_for_writing = open('writing_file.txt', 'w')\n",
    "\n",
    "# 'a' is append -- for adding to the end of the file\n",
    "#file_for_appending = open('appending_file.txt', 'a')\n",
    "\n",
    "# don't forget to close your files when you're done\n",
    "#file_for_writing.close()"
   ]
  },
  {
   "cell_type": "code",
   "execution_count": 8,
   "metadata": {},
   "outputs": [],
   "source": [
    "# “Because it is easy to forget to close your files, you should always use them in a with block, \n",
    "# at the end of which they will be closed automatically:\n",
    "# - - - - - - - - - - - - -- - - - -- - - - - -- - - -- - - - - - - - - - - - - - - -- - - - - - - - - -- - - - - - \n",
    "\n",
    "#with open(filename,'r') as f:\n",
    "    #data = function_that_gets_data_from(f)\n",
    "\n",
    "# at this point f has already been closed, so don't try to use it\n",
    "#process(data)"
   ]
  },
  {
   "cell_type": "code",
   "execution_count": 9,
   "metadata": {},
   "outputs": [],
   "source": [
    "# If you need to read a whole text file, you can just iterate over the lines of the file using for:\n",
    "# - - - - - - - - - - - - -- - - - -- - - - - -- - - -- - - - - - - - - - - - - - - -- - - - - - - - - -- - - - - - \n",
    "\n",
    "#starts_with_hash = 0\n",
    "\n",
    "#with open('input.txt','r') as f:\n",
    "    #for line in file:               # look at each line in the file\n",
    "        #if re.match(\"^#\",line):     # use a regex to see if it starts with '#'\n",
    "            #starts_with_hash += 1   # if it does, add 1 to the count"
   ]
  },
  {
   "cell_type": "code",
   "execution_count": 11,
   "metadata": {},
   "outputs": [],
   "source": [
    "# For example, imagine you have a file full of email addresses, one per line, \n",
    "# and that you need to generate a histogram of the domain\n",
    "# - - - - - - - - - - - - -- - - - -- - - - - -- - - -- - - - - - - - - - - - - - - -- - - - - - - - - -- - - - - - \n",
    "\n",
    "#def get_domain(email_address):\n",
    "    #\"\"\"split on '@' and return the last piece\"\"\"\n",
    "    #return email_address.lower().split(\"@\")[-1]\n",
    "\n",
    "#with open('email_addresses.txt', 'r') as f:\n",
    "    #domain_counts = Counter(get_domain(line.strip())\n",
    "                            #for line in f\n",
    "                            #if \"@\" in line)"
   ]
  },
  {
   "cell_type": "code",
   "execution_count": 2,
   "metadata": {},
   "outputs": [],
   "source": [
    "# More frequently you’ll work with files with lots of data on each line. \n",
    "# These files are very often either comma-separated or tab-separated. \n",
    "# Each line has several fields, with a comma (or a tab) indicating where one field ends and the next field starts.\n",
    "\n",
    "# If your file has no headers (which means you probably want each row as a list, and which places the burden on you \n",
    "# to know what’s in each “column), you can use csv.reader to iterate over the rows, each of which will be \n",
    "# an appropriately split list.\n",
    "# - - - - - - - - - - - - -- - - - -- - - - - -- - - -- - - - - - - - - - - - - - - -- - - - - - - - - -- - - - - - \n",
    "\n",
    "#import csv\n",
    "\n",
    "#with open('tab_delimited_stock_prices.txt', 'rb') as f:\n",
    "    #reader = csv.reader(f, delimiter='\\t')\n",
    "    #for row in reader:\n",
    "        #date = row[0]\n",
    "        #symbol = row[1]\n",
    "        #closing_price = float(row[2])\n",
    "        #process(date, symbol, closing_price)\n",
    "        \n",
    "# If your file has headers you can either skip the header row (with an initial call to reader.next()) or get each row as a dict\n",
    "# (with the headers as keys) by using csv.DictReader\n",
    "# - - - - - - - - - - - - -- - - - -- - - - - -- - - -- - - - - - - - - - - - - - - -- - - - - - - - - -- - - - - - \n",
    "\n",
    "#with open('colon_delimited_stock_prices.txt', 'rb') as f:\n",
    "    #reader = csv.DictReader(f, delimiter=':')\n",
    "    #for row in reader:\n",
    "        #date = row[\"date\"]\n",
    "        #symbol = row[\"symbol\"]\n",
    "        #closing_price = float(row[\"closing_price\"])\n",
    "        #process(date, symbol, closing_price)\n",
    "        \n",
    "# You can similarly write out delimited data using csv.writer:\n",
    "# - - - - - - - - - - - - -- - - - -- - - - - -- - - -- - - - - - - - - - - - - - - -- - - - - - - - - -- - - - - - \n",
    "\n",
    "#today_prices = { 'AAPL' : 90.91, 'MSFT' : 41.68, 'FB' : 64.5 }\n",
    "\n",
    "#with open('comma_delimited_stock_prices.txt','wb') as f:\n",
    "    #writer = csv.writer(f, delimiter=',')\n",
    "    #for stock, price in today_prices.items():\n",
    "        #writer.writerow([stock, price])       "
   ]
  },
  {
   "cell_type": "code",
   "execution_count": 3,
   "metadata": {},
   "outputs": [],
   "source": [
    "# HTML AND THE PARSING THEREOF\n",
    "\n",
    "# To get data out of HTML, we will use the BeautifulSoup library, which builds a tree out of the various elements\n",
    "# on a web page and provides a simple interface for accessing them.\n",
    "# - - - - - - - - - - - - -- - - - -- - - - - -- - - -- - - - - - - - - - - - - - - -- - - - - - - - - -- - - - - - \n",
    "\n",
    "#from bs4 import BeautifulSoup\n",
    "#import requests\n",
    "#html = requests.get(\"http://www.example.com\").text\n",
    "#soup = BeautifulSoup(html, 'html5lib')\n",
    "\n",
    "\n",
    "# For example, to find the first <p> tag (and its contents) you can use:\n",
    "# - - - - - - - - - - - - -- - - - -- - - - - -- - - -- - - - - - - - - - - - - - - -- - - - - - - - - -- - - - - - \n",
    "\n",
    "# first_paragraph = soup.find('p')        # or just soup.p”\n",
    "\n",
    "\n",
    "# You can get the text contents of a Tag using its text property:\n",
    "# - - - - - - - - - - - - -- - - - -- - - - - -- - - -- - - - - - - - - - - - - - - -- - - - - - - - - -- - - - - - \n",
    "\n",
    "# first_paragraph_text = soup.p.text\n",
    "# first_paragraph_words = soup.p.text.split()\n",
    "\n",
    "\n",
    "# You can extract a tag’s attributes by treating it like a dict:\n",
    "# - - - - - - - - - - - - -- - - - -- - - - - -- - - -- - - - - - - - - - - - - - - -- - - - - - - - - -- - - - - - \n",
    "\n",
    "#first_paragraph_id = soup.p['id']       # raises KeyError if no 'id'\n",
    "#first_paragraph_id2 = soup.p.get('id')  # returns None if no 'id'\n",
    "\n",
    "\n",
    "# You can get multiple tags at once\n",
    "# - - - - - - - - - - - - -- - - - -- - - - - -- - - -- - - - - - - - - - - - - - - -- - - - - - - - - -- - - - - - \n",
    "\n",
    "#all_paragraphs = soup.find_all('p')  # or just soup('p')\n",
    "#paragraphs_with_ids = [p for p in soup('p') if p.get('id')]\n",
    "\n",
    "\n",
    "#Frequently you’ll want to find tags with a specific class:\n",
    "# - - - - - - - - - - - - -- - - - -- - - - - -- - - -- - - - - - - - - - - - - - - -- - - - - - - - - -- - - - - - \n",
    "\n",
    "#important_paragraphs = soup('p', {'class' : 'important'})\n",
    "#important_paragraphs2 = soup('p', 'important')\n",
    "#important_paragraphs3 = [p for p in soup('p')\n",
    "                         #if 'important' in p.get('class', [])]\n",
    "    \n",
    "\n",
    "    \n",
    "# If you want to find every <span> element that is contained inside a <div> element, you could do this:\n",
    "# - - - - - - - - - - - - -- - - - -- - - - - -- - - -- - - - - - - - - - - - - - - -- - - - - - - - - -- - - - - - \n",
    "\n",
    "# warning, will return the same span multiple times\n",
    "# if it sits inside multiple divs\n",
    "# be more clever if that's the case\n",
    "#spans_inside_divs = [span\n",
    "                     #for div in soup('div')     # for each <div> on the page\n",
    "                     #for span in div('span')]   # find each <span> inside it"
   ]
  },
  {
   "cell_type": "code",
   "execution_count": 19,
   "metadata": {},
   "outputs": [],
   "source": [
    "# EXAMPLE: O’Reilly Books About Data\n",
    "\n",
    "# To figure out how to extract the data, let’s download one of those pages and feed it to Beautiful Soup”\n",
    "\n",
    "from bs4 import BeautifulSoup\n",
    "import requests\n",
    "\n",
    "# you don't have to split the url like this unless it needs to fit in a book\n",
    "url = \"http://shop.oreilly.com/category/browse-subjects/\" + \\\n",
    "\"data.do?sortby=publicationDate&page=1\"\n",
    "soup = BeautifulSoup(requests.get(url).text, 'html5lib')"
   ]
  },
  {
   "cell_type": "code",
   "execution_count": 26,
   "metadata": {},
   "outputs": [
    {
     "name": "stdout",
     "output_type": "stream",
     "text": [
      "0\n"
     ]
    }
   ],
   "source": [
    "# Each book (or video) seems to be uniquely contained in a <td> table cell element whose class is thumbtext\n",
    "\n",
    "# A good first step is to find all of the td thumbtext tag elements:\n",
    "tds = soup('td', 'thumbtext')\n",
    "print len(tds)\n",
    "# 30"
   ]
  },
  {
   "cell_type": "code",
   "execution_count": 27,
   "metadata": {},
   "outputs": [
    {
     "name": "stdout",
     "output_type": "stream",
     "text": [
      "0\n"
     ]
    }
   ],
   "source": [
    "# “Next we’d like to filter out the videos. If we inspect the HTML further, we see that each td contains one or more\n",
    "# span elements whose class is pricelabel, and whose text looks like Ebook: or Video: or Print:. \n",
    "# It appears that the videos contain only one pricelabel, whose text starts with Video (after removing leading spaces) \n",
    "# This means we can test for videos with:\n",
    "\n",
    "def is_video(td):\n",
    "    \"\"\"it's a video if it has exactly one pricelabel, and if\n",
    "    the stripped text inside that pricelabel starts with 'Video'\"\"\"\n",
    "    pricelabels = td('span', 'pricelabel')\n",
    "    return (len(pricelabels) == 1 and\n",
    "            pricelabels[0].text.strip().startswith(\"Video\"))\n",
    "\n",
    "print len([td for td in tds if not is_video(td)])\n",
    "# 21 for me, might be different for you"
   ]
  },
  {
   "cell_type": "code",
   "execution_count": 32,
   "metadata": {},
   "outputs": [],
   "source": [
    "# “Now we’re ready to start pulling data out of the td elements. It looks like the book title is the text inside \n",
    "# the <a> tag inside the <div class=\"thumbheader\">:”\n",
    "\n",
    "# title = td.find(\"div\", \"thumbheader\").a.text"
   ]
  },
  {
   "cell_type": "code",
   "execution_count": null,
   "metadata": {},
   "outputs": [],
   "source": []
  }
 ],
 "metadata": {
  "kernelspec": {
   "display_name": "Python 2",
   "language": "python",
   "name": "python2"
  },
  "language_info": {
   "codemirror_mode": {
    "name": "ipython",
    "version": 2
   },
   "file_extension": ".py",
   "mimetype": "text/x-python",
   "name": "python",
   "nbconvert_exporter": "python",
   "pygments_lexer": "ipython2",
   "version": "2.7.15"
  }
 },
 "nbformat": 4,
 "nbformat_minor": 2
}
