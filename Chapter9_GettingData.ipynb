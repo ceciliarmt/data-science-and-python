{
 "cells": [
  {
   "cell_type": "code",
   "execution_count": 1,
   "metadata": {},
   "outputs": [],
   "source": [
    "# stdin and stdout\n",
    "# You can pipe data through them using sys.stdin and sys.stdout\n",
    "# For example, here is a script that reads in lines of text and spits back out the ones that match \n",
    "# a regular expression:\n",
    "\n",
    "# egrep.py\n",
    "import sys, re\n",
    "\n",
    "# sys.argv is the list of command-line arguments\n",
    "# sys.argv[0] is the name of the program itself\n",
    "# sys.argv[1] will be the regex specified at the command line\n",
    "regex = sys.argv[1]\n",
    "# for every line passed into the script\n",
    "for line in sys.stdin:\n",
    "    # if it matches the regex, write it to stdout\n",
    "    if re.search(regex, line):\n",
    "        sys.stdout.write(line)"
   ]
  },
  {
   "cell_type": "code",
   "execution_count": 2,
   "metadata": {},
   "outputs": [
    {
     "name": "stdout",
     "output_type": "stream",
     "text": [
      "0\n"
     ]
    }
   ],
   "source": [
    "# This code counts the lines it receives and then writes out the count:\n",
    "\n",
    "# line_count.py\n",
    "import sys\n",
    "\n",
    "count = 0\n",
    "for line in sys.stdin:\n",
    "    count += 1\n",
    "\n",
    "# print goes to sys.stdout\n",
    "print count"
   ]
  },
  {
   "cell_type": "code",
   "execution_count": 4,
   "metadata": {
    "scrolled": true
   },
   "outputs": [],
   "source": [
    "# Here’s a script that counts the words in its input and writes out the most common ones:\n",
    "# - - - - - - - - - - - - -- - - - -- - - - - -- - - -- - - - - - - - - - - - - - - -- - - - - - - - - -- - - - - - \n",
    "\n",
    "# most_common_words.py\n",
    "#import sys\n",
    "#from collections import Counter\n",
    "\n",
    "# pass in number of words as first argument\n",
    "#try:\n",
    "    #num_words = int(sys.argv[1])\n",
    "#except:\n",
    "    #print \"usage: most_common_words.py num_words\"\n",
    "    #sys.exit(1)   # non-zero exit code indicates error\n",
    "\n",
    "#counter = Counter(word.lower()  # lowercase words\n",
    "                  #for line in sys.stdin             #\n",
    "                  #for word in line.strip().split()  # split on spaces\n",
    "                  #if word)                          # skip empty 'words'\n",
    "\n",
    "#for word, count in counter.most_common(num_words):\n",
    "    #sys.stdout.write(str(count))\n",
    "    #sys.stdout.write(\"\\t\")\n",
    "    #sys.stdout.write(word)\n",
    "    #sys.stdout.write(\"\\n\")      \n",
    "\n",
    "#“after which you could do something like: \n",
    "#“C:\\DataScience>type the_bible.txt | python most_common_words.py 10\n",
    "#64193   the\n",
    "#51380   and\n",
    "#34753   of\n",
    "#13643   to\n",
    "#12799   that\n",
    "#12560   in\n",
    "#10263   he\n",
    "#9840    shall\n",
    "#8987    unto\n",
    "#8836    for "
   ]
  },
  {
   "cell_type": "code",
   "execution_count": 6,
   "metadata": {},
   "outputs": [],
   "source": [
    "# BASICS OF TEXTFILES\n",
    "# The first step to working with a text file is to obtain a file object using open:\n",
    "# - - - - - - - - - - - - -- - - - -- - - - - -- - - -- - - - - - - - - - - - - - - -- - - - - - - - - -- - - - - - \n",
    "\n",
    "# 'r' means read-only\n",
    "#file_for_reading = open('reading_file.txt', 'r')\n",
    "\n",
    "# 'w' is write -- will destroy the file if it already exists!\n",
    "#file_for_writing = open('writing_file.txt', 'w')\n",
    "\n",
    "# 'a' is append -- for adding to the end of the file\n",
    "#file_for_appending = open('appending_file.txt', 'a')\n",
    "\n",
    "# don't forget to close your files when you're done\n",
    "#file_for_writing.close()"
   ]
  },
  {
   "cell_type": "code",
   "execution_count": 8,
   "metadata": {},
   "outputs": [],
   "source": [
    "# “Because it is easy to forget to close your files, you should always use them in a with block, \n",
    "# at the end of which they will be closed automatically:\n",
    "# - - - - - - - - - - - - -- - - - -- - - - - -- - - -- - - - - - - - - - - - - - - -- - - - - - - - - -- - - - - - \n",
    "\n",
    "#with open(filename,'r') as f:\n",
    "    #data = function_that_gets_data_from(f)\n",
    "\n",
    "# at this point f has already been closed, so don't try to use it\n",
    "#process(data)"
   ]
  },
  {
   "cell_type": "code",
   "execution_count": 9,
   "metadata": {},
   "outputs": [],
   "source": [
    "# If you need to read a whole text file, you can just iterate over the lines of the file using for:\n",
    "# - - - - - - - - - - - - -- - - - -- - - - - -- - - -- - - - - - - - - - - - - - - -- - - - - - - - - -- - - - - - \n",
    "\n",
    "#starts_with_hash = 0\n",
    "\n",
    "#with open('input.txt','r') as f:\n",
    "    #for line in file:               # look at each line in the file\n",
    "        #if re.match(\"^#\",line):     # use a regex to see if it starts with '#'\n",
    "            #starts_with_hash += 1   # if it does, add 1 to the count"
   ]
  },
  {
   "cell_type": "code",
   "execution_count": 11,
   "metadata": {},
   "outputs": [],
   "source": [
    "# For example, imagine you have a file full of email addresses, one per line, \n",
    "# and that you need to generate a histogram of the domain\n",
    "# - - - - - - - - - - - - -- - - - -- - - - - -- - - -- - - - - - - - - - - - - - - -- - - - - - - - - -- - - - - - \n",
    "\n",
    "#def get_domain(email_address):\n",
    "    #\"\"\"split on '@' and return the last piece\"\"\"\n",
    "    #return email_address.lower().split(\"@\")[-1]\n",
    "\n",
    "#with open('email_addresses.txt', 'r') as f:\n",
    "    #domain_counts = Counter(get_domain(line.strip())\n",
    "                            #for line in f\n",
    "                            #if \"@\" in line)"
   ]
  },
  {
   "cell_type": "code",
   "execution_count": 2,
   "metadata": {},
   "outputs": [],
   "source": [
    "# More frequently you’ll work with files with lots of data on each line. \n",
    "# These files are very often either comma-separated or tab-separated. \n",
    "# Each line has several fields, with a comma (or a tab) indicating where one field ends and the next field starts.\n",
    "\n",
    "# If your file has no headers (which means you probably want each row as a list, and which places the burden on you \n",
    "# to know what’s in each “column), you can use csv.reader to iterate over the rows, each of which will be \n",
    "# an appropriately split list.\n",
    "# - - - - - - - - - - - - -- - - - -- - - - - -- - - -- - - - - - - - - - - - - - - -- - - - - - - - - -- - - - - - \n",
    "\n",
    "#import csv\n",
    "\n",
    "#with open('tab_delimited_stock_prices.txt', 'rb') as f:\n",
    "    #reader = csv.reader(f, delimiter='\\t')\n",
    "    #for row in reader:\n",
    "        #date = row[0]\n",
    "        #symbol = row[1]\n",
    "        #closing_price = float(row[2])\n",
    "        #process(date, symbol, closing_price)\n",
    "        \n",
    "# If your file has headers you can either skip the header row (with an initial call to reader.next()) or get each row as a dict\n",
    "# (with the headers as keys) by using csv.DictReader\n",
    "# - - - - - - - - - - - - -- - - - -- - - - - -- - - -- - - - - - - - - - - - - - - -- - - - - - - - - -- - - - - - \n",
    "\n",
    "#with open('colon_delimited_stock_prices.txt', 'rb') as f:\n",
    "    #reader = csv.DictReader(f, delimiter=':')\n",
    "    #for row in reader:\n",
    "        #date = row[\"date\"]\n",
    "        #symbol = row[\"symbol\"]\n",
    "        #closing_price = float(row[\"closing_price\"])\n",
    "        #process(date, symbol, closing_price)\n",
    "        \n",
    "# You can similarly write out delimited data using csv.writer:\n",
    "# - - - - - - - - - - - - -- - - - -- - - - - -- - - -- - - - - - - - - - - - - - - -- - - - - - - - - -- - - - - - \n",
    "\n",
    "#today_prices = { 'AAPL' : 90.91, 'MSFT' : 41.68, 'FB' : 64.5 }\n",
    "\n",
    "#with open('comma_delimited_stock_prices.txt','wb') as f:\n",
    "    #writer = csv.writer(f, delimiter=',')\n",
    "    #for stock, price in today_prices.items():\n",
    "        #writer.writerow([stock, price])       "
   ]
  },
  {
   "cell_type": "code",
   "execution_count": 3,
   "metadata": {},
   "outputs": [],
   "source": [
    "# HTML AND THE PARSING THEREOF\n",
    "\n",
    "# To get data out of HTML, we will use the BeautifulSoup library, which builds a tree out of the various elements\n",
    "# on a web page and provides a simple interface for accessing them.\n",
    "# - - - - - - - - - - - - -- - - - -- - - - - -- - - -- - - - - - - - - - - - - - - -- - - - - - - - - -- - - - - - \n",
    "\n",
    "#from bs4 import BeautifulSoup\n",
    "#import requests\n",
    "#html = requests.get(\"http://www.example.com\").text\n",
    "#soup = BeautifulSoup(html, 'html5lib')\n",
    "\n",
    "\n",
    "# For example, to find the first <p> tag (and its contents) you can use:\n",
    "# - - - - - - - - - - - - -- - - - -- - - - - -- - - -- - - - - - - - - - - - - - - -- - - - - - - - - -- - - - - - \n",
    "\n",
    "# first_paragraph = soup.find('p')        # or just soup.p”\n",
    "\n",
    "\n",
    "# You can get the text contents of a Tag using its text property:\n",
    "# - - - - - - - - - - - - -- - - - -- - - - - -- - - -- - - - - - - - - - - - - - - -- - - - - - - - - -- - - - - - \n",
    "\n",
    "# first_paragraph_text = soup.p.text\n",
    "# first_paragraph_words = soup.p.text.split()\n",
    "\n",
    "\n",
    "# You can extract a tag’s attributes by treating it like a dict:\n",
    "# - - - - - - - - - - - - -- - - - -- - - - - -- - - -- - - - - - - - - - - - - - - -- - - - - - - - - -- - - - - - \n",
    "\n",
    "#first_paragraph_id = soup.p['id']       # raises KeyError if no 'id'\n",
    "#first_paragraph_id2 = soup.p.get('id')  # returns None if no 'id'\n",
    "\n",
    "\n",
    "# You can get multiple tags at once\n",
    "# - - - - - - - - - - - - -- - - - -- - - - - -- - - -- - - - - - - - - - - - - - - -- - - - - - - - - -- - - - - - \n",
    "\n",
    "#all_paragraphs = soup.find_all('p')  # or just soup('p')\n",
    "#paragraphs_with_ids = [p for p in soup('p') if p.get('id')]\n",
    "\n",
    "\n",
    "#Frequently you’ll want to find tags with a specific class:\n",
    "# - - - - - - - - - - - - -- - - - -- - - - - -- - - -- - - - - - - - - - - - - - - -- - - - - - - - - -- - - - - - \n",
    "\n",
    "#important_paragraphs = soup('p', {'class' : 'important'})\n",
    "#important_paragraphs2 = soup('p', 'important')\n",
    "#important_paragraphs3 = [p for p in soup('p')\n",
    "                         #if 'important' in p.get('class', [])]\n",
    "    \n",
    "\n",
    "    \n",
    "# If you want to find every <span> element that is contained inside a <div> element, you could do this:\n",
    "# - - - - - - - - - - - - -- - - - -- - - - - -- - - -- - - - - - - - - - - - - - - -- - - - - - - - - -- - - - - - \n",
    "\n",
    "# warning, will return the same span multiple times\n",
    "# if it sits inside multiple divs\n",
    "# be more clever if that's the case\n",
    "#spans_inside_divs = [span\n",
    "                     #for div in soup('div')     # for each <div> on the page\n",
    "                     #for span in div('span')]   # find each <span> inside it"
   ]
  },
  {
   "cell_type": "code",
   "execution_count": 1,
   "metadata": {},
   "outputs": [],
   "source": [
    "# EXAMPLE: O’Reilly Books About Data\n",
    "\n",
    "# To figure out how to extract the data, let’s download one of those pages and feed it to Beautiful Soup”\n",
    "\n",
    "from bs4 import BeautifulSoup\n",
    "import requests\n",
    "\n",
    "# you don't have to split the url like this unless it needs to fit in a book\n",
    "url = \"http://shop.oreilly.com/category/browse-subjects/\" + \\\n",
    "\"data.do?sortby=publicationDate&page=1\"\n",
    "soup = BeautifulSoup(requests.get(url).text, 'html5lib')"
   ]
  },
  {
   "cell_type": "code",
   "execution_count": 2,
   "metadata": {},
   "outputs": [
    {
     "name": "stdout",
     "output_type": "stream",
     "text": [
      "0\n"
     ]
    }
   ],
   "source": [
    "# Each book (or video) seems to be uniquely contained in a <td> table cell element whose class is thumbtext\n",
    "\n",
    "# A good first step is to find all of the td thumbtext tag elements:\n",
    "tds = soup('td', 'thumbtext')\n",
    "print len(tds)\n",
    "# 30"
   ]
  },
  {
   "cell_type": "code",
   "execution_count": 3,
   "metadata": {},
   "outputs": [
    {
     "name": "stdout",
     "output_type": "stream",
     "text": [
      "0\n"
     ]
    }
   ],
   "source": [
    "# “Next we’d like to filter out the videos. If we inspect the HTML further, we see that each td contains one or more\n",
    "# span elements whose class is pricelabel, and whose text looks like Ebook: or Video: or Print:. \n",
    "# It appears that the videos contain only one pricelabel, whose text starts with Video (after removing leading spaces) \n",
    "# This means we can test for videos with:\n",
    "\n",
    "def is_video(td):\n",
    "    \"\"\"it's a video if it has exactly one pricelabel, and if\n",
    "    the stripped text inside that pricelabel starts with 'Video'\"\"\"\n",
    "    pricelabels = td('span', 'pricelabel')\n",
    "    return (len(pricelabels) == 1 and\n",
    "            pricelabels[0].text.strip().startswith(\"Video\"))\n",
    "\n",
    "print len([td for td in tds if not is_video(td)])\n",
    "# 21 for me, might be different for you"
   ]
  },
  {
   "cell_type": "code",
   "execution_count": 6,
   "metadata": {},
   "outputs": [
    {
     "ename": "NameError",
     "evalue": "name 'td' is not defined",
     "output_type": "error",
     "traceback": [
      "\u001b[0;31m---------------------------------------------------------------------------\u001b[0m",
      "\u001b[0;31mNameError\u001b[0m                                 Traceback (most recent call last)",
      "\u001b[0;32m<ipython-input-6-852707856232>\u001b[0m in \u001b[0;36m<module>\u001b[0;34m()\u001b[0m\n\u001b[1;32m      2\u001b[0m \u001b[0;31m# the <a> tag inside the <div class=\"thumbheader\">:”\u001b[0m\u001b[0;34m\u001b[0m\u001b[0;34m\u001b[0m\u001b[0m\n\u001b[1;32m      3\u001b[0m \u001b[0;34m\u001b[0m\u001b[0m\n\u001b[0;32m----> 4\u001b[0;31m \u001b[0mtitle\u001b[0m \u001b[0;34m=\u001b[0m \u001b[0mtd\u001b[0m\u001b[0;34m.\u001b[0m\u001b[0mfind\u001b[0m\u001b[0;34m(\u001b[0m\u001b[0;34m\"div\"\u001b[0m\u001b[0;34m,\u001b[0m \u001b[0;34m\"thumbheader\"\u001b[0m\u001b[0;34m)\u001b[0m\u001b[0;34m.\u001b[0m\u001b[0ma\u001b[0m\u001b[0;34m.\u001b[0m\u001b[0mtext\u001b[0m\u001b[0;34m\u001b[0m\u001b[0m\n\u001b[0m\u001b[1;32m      5\u001b[0m \u001b[0mauthor_name\u001b[0m \u001b[0;34m=\u001b[0m \u001b[0mtd\u001b[0m\u001b[0;34m.\u001b[0m\u001b[0mfind\u001b[0m\u001b[0;34m(\u001b[0m\u001b[0;34m'div'\u001b[0m\u001b[0;34m,\u001b[0m \u001b[0;34m'AuthorName'\u001b[0m\u001b[0;34m)\u001b[0m\u001b[0;34m.\u001b[0m\u001b[0mtext\u001b[0m\u001b[0;34m\u001b[0m\u001b[0m\n\u001b[1;32m      6\u001b[0m \u001b[0mauthors\u001b[0m \u001b[0;34m=\u001b[0m \u001b[0;34m[\u001b[0m\u001b[0mx\u001b[0m\u001b[0;34m.\u001b[0m\u001b[0mstrip\u001b[0m\u001b[0;34m(\u001b[0m\u001b[0;34m)\u001b[0m \u001b[0;32mfor\u001b[0m \u001b[0mx\u001b[0m \u001b[0;32min\u001b[0m \u001b[0mre\u001b[0m\u001b[0;34m.\u001b[0m\u001b[0msub\u001b[0m\u001b[0;34m(\u001b[0m\u001b[0;34m\"^By \"\u001b[0m\u001b[0;34m,\u001b[0m \u001b[0;34m\"\"\u001b[0m\u001b[0;34m,\u001b[0m \u001b[0mauthor_name\u001b[0m\u001b[0;34m)\u001b[0m\u001b[0;34m.\u001b[0m\u001b[0msplit\u001b[0m\u001b[0;34m(\u001b[0m\u001b[0;34m\",\"\u001b[0m\u001b[0;34m)\u001b[0m\u001b[0;34m]\u001b[0m\u001b[0;34m\u001b[0m\u001b[0m\n",
      "\u001b[0;31mNameError\u001b[0m: name 'td' is not defined"
     ]
    }
   ],
   "source": [
    "# “Now we’re ready to start pulling data out of the td elements. It looks like the book title is the text inside \n",
    "# the <a> tag inside the <div class=\"thumbheader\">:”\n",
    "\n",
    "title = td.find(\"div\", \"thumbheader\").a.text\n",
    "author_name = td.find('div', 'AuthorName').text\n",
    "authors = [x.strip() for x in re.sub(\"^By \", \"\", author_name).split(\",\")]"
   ]
  },
  {
   "cell_type": "code",
   "execution_count": 8,
   "metadata": {},
   "outputs": [],
   "source": [
    "# The ISBN seems to be contained in the link that’s in the thumbheader <div>:\n",
    "\n",
    "#isbn_link = td.find(\"div\", \"thumbheader\").a.get(\"href\")\n",
    "\n",
    "# re.match captures the part of the regex in parentheses\n",
    "\n",
    "#isbn = re.match(\"/product/(.*)\\.do\", isbn_link).group(1)"
   ]
  },
  {
   "cell_type": "code",
   "execution_count": 10,
   "metadata": {},
   "outputs": [],
   "source": [
    "# And the date is just the contents of the <span class=\"directorydate\">:\n",
    "\n",
    "#date = td.find(\"span\", \"directorydate\").text.strip()"
   ]
  },
  {
   "cell_type": "code",
   "execution_count": 11,
   "metadata": {},
   "outputs": [],
   "source": [
    "def book_info(td):\n",
    "    \"\"\"given a BeautifulSoup <td> Tag representing a book,\n",
    "    extract the book's details and return a dict\"\"\"\n",
    "\n",
    "    title = td.find(\"div\", \"thumbheader\").a.text\n",
    "    by_author = td.find('div', 'AuthorName').text\n",
    "    authors = [x.strip() for x in re.sub(\"^By \", \"\", by_author).split(\",\")]\n",
    "    isbn_link = td.find(\"div\", \"thumbheader\").a.get(\"href\")\n",
    "    isbn = re.match(\"/product/(.*)\\.do\", isbn_link).groups()[0]\n",
    "    date = td.find(\"span\", \"directorydate\").text.strip()\n",
    "    \n",
    "    return {\n",
    "        \"title\" : title,\n",
    "        \"authors\" : authors,\n",
    "        \"isbn\" : isbn,\n",
    "        \"date\" : date\n",
    "    }"
   ]
  },
  {
   "cell_type": "code",
   "execution_count": 12,
   "metadata": {},
   "outputs": [
    {
     "name": "stdout",
     "output_type": "stream",
     "text": [
      "souping page 1 , 0  found so far\n",
      "souping page 2 , 0  found so far\n",
      "souping page 3 , 0  found so far\n",
      "souping page 4 , 0  found so far\n",
      "souping page 5 , 0  found so far\n",
      "souping page 6 , 0  found so far\n",
      "souping page 7 , 0  found so far\n",
      "souping page 8 , 0  found so far\n",
      "souping page 9 , 0  found so far\n",
      "souping page 10 , 0  found so far\n",
      "souping page 11 , 0  found so far\n",
      "souping page 12 , 0  found so far\n",
      "souping page 13 , 0  found so far\n",
      "souping page 14 , 0  found so far\n",
      "souping page 15 , 0  found so far\n",
      "souping page 16 , 0  found so far\n",
      "souping page 17 , 0  found so far\n",
      "souping page 18 , 0  found so far\n",
      "souping page 19 , 0  found so far\n",
      "souping page 20 , 0  found so far\n",
      "souping page 21 , 0  found so far\n",
      "souping page 22 , 0  found so far\n",
      "souping page 23 , 0  found so far\n",
      "souping page 24 , 0  found so far\n",
      "souping page 25 , 0  found so far\n",
      "souping page 26 , 0  found so far\n",
      "souping page 27 , 0  found so far\n",
      "souping page 28 , 0  found so far\n",
      "souping page 29 , 0  found so far\n",
      "souping page 30 , 0  found so far\n",
      "souping page 31 , 0  found so far\n"
     ]
    }
   ],
   "source": [
    "from bs4 import BeautifulSoup\n",
    "import requests\n",
    "from time import sleep\n",
    "base_url = \"http://shop.oreilly.com/category/browse-subjects/\" + \\\n",
    "           \"data.do?sortby=publicationDate&page=\"\n",
    "\n",
    "books = []\n",
    "\n",
    "NUM_PAGES = 31     # at the time of writing, probably more by now\n",
    "\n",
    "for page_num in range(1, NUM_PAGES + 1):\n",
    "    print \"souping page\", page_num, \",\", len(books), \" found so far\"\n",
    "    url = base_url + str(page_num)\n",
    "    soup = BeautifulSoup(requests.get(url).text, 'html5lib')\n",
    "\n",
    "    for td in soup('td', 'thumbtext'):\n",
    "        if not is_video(td):\n",
    "            books.append(book_info(td))\n",
    "\n",
    "    # respect the robots.txt!\n",
    "    sleep(30)"
   ]
  },
  {
   "cell_type": "code",
   "execution_count": 17,
   "metadata": {},
   "outputs": [
    {
     "data": {
      "image/png": "[encoded data removed]",
      "text/plain": [
       "<Figure size 432x288 with 1 Axes>"
      ]
     },
     "metadata": {
      "needs_background": "light"
     },
     "output_type": "display_data"
    }
   ],
   "source": [
    "# “Now that we’ve collected the data, we can plot the number of books published each year”\n",
    "\n",
    "def get_year(book):\n",
    "    \"\"\"book[\"date\"] looks like 'November 2014' so we need to\n",
    "    split on the space and then take the second piece\"\"\"\n",
    "    return int(book[\"date\"].split()[1])\n",
    "\n",
    "# 2014 is the last complete year of data (when I ran this)\n",
    "from collections import Counter\n",
    "\n",
    "year_counts = Counter(get_year(book) for book in books\n",
    "                      if get_year(book) <= 2014)\n",
    "\n",
    "import matplotlib.pyplot as plt\n",
    "years = sorted(year_counts)\n",
    "book_counts = [year_counts[year] for year in years]\n",
    "plt.plot(years, book_counts)\n",
    "plt.ylabel(\"# of data books\")\n",
    "plt.title(\"Data is Big!\")\n",
    "plt.show()"
   ]
  },
  {
   "cell_type": "code",
   "execution_count": 19,
   "metadata": {},
   "outputs": [
    {
     "name": "stdout",
     "output_type": "stream",
     "text": [
      "{u'publicationYear': 2014, u'author': u'Joel Grus', u'topics': [u'data', u'science', u'data science'], u'title': u'Data Science Book'}\n"
     ]
    }
   ],
   "source": [
    "# JSON\n",
    "# Because HTTP is a protocol for transferring text, the data you request through a web API needs to be serialized \n",
    "# into a string format. Often this serialization uses JSON\n",
    "\n",
    "import json\n",
    "serialized = \"\"\"{ \"title\" : \"Data Science Book\",\n",
    "                  \"author\" : \"Joel Grus\",\n",
    "                  \"publicationYear\" : 2014,\n",
    "                  \"topics\" : [ \"data\", \"science\", \"data science\"] }\"\"\"\n",
    "# parse the JSON to create a Python dict\n",
    "deserialized = json.loads(serialized)\n",
    "if \"data science\" in deserialized[\"topics\"]:\n",
    "    print deserialized"
   ]
  },
  {
   "cell_type": "code",
   "execution_count": 21,
   "metadata": {},
   "outputs": [],
   "source": [
    "# Most APIs these days require you to first authenticate yourself in order to use them”\n",
    "\n",
    "import requests, json\n",
    "endpoint = \"https://api.github.com/users/ceciliarmt/repos\"\n",
    "\n",
    "repos = json.loads(requests.get(endpoint).text)\n",
    "\n",
    "from dateutil.parser import parse\n",
    "\n",
    "dates = [parse(repo[\"created_at\"]) for repo in repos]\n",
    "month_counts = Counter(date.month for date in dates)\n",
    "weekday_counts = Counter(date.weekday() for date in dates)"
   ]
  },
  {
   "cell_type": "code",
   "execution_count": 22,
   "metadata": {},
   "outputs": [],
   "source": [
    "last_5_repositories = sorted(repos,\n",
    "                             key=lambda r: r[\"created_at\"],\n",
    "                             reverse=True)[:5]\n",
    "\n",
    "last_5_languages = [repo[\"language\"]\n",
    "                    for repo in last_5_repositories]"
   ]
  },
  {
   "cell_type": "code",
   "execution_count": 23,
   "metadata": {},
   "outputs": [],
   "source": [
    "# Example: Using the Twitter APIs\n",
    "\n",
    "#from twython import Twython\n",
    "\n",
    "#twitter = Twython(CONSUMER_KEY, CONSUMER_SECRET)\n",
    "\n",
    "# search for tweets containing the phrase \"data science\"\n",
    "#for status in twitter.search(q='\"data science\"')[\"statuses\"]:\n",
    "    #user = status[\"user\"][\"screen_name\"].encode('utf-8')\n",
    "    #text = status[\"text\"].encode('utf-8')\n",
    "    #print user, \":\", text\n",
    "    #print"
   ]
  },
  {
   "cell_type": "code",
   "execution_count": 24,
   "metadata": {},
   "outputs": [],
   "source": [
    "#from twython import TwythonStreamer\n",
    "\n",
    "# appending data to a global variable is pretty poor form\n",
    "# but it makes the example much simpler\n",
    "#tweets = []\n",
    "\n",
    "#class MyStreamer(TwythonStreamer):\n",
    "    #\"\"\"our own subclass of TwythonStreamer that specifies\n",
    "    #how to interact with the stream\"\"\"\n",
    "\n",
    "    #def on_success(self, data):\n",
    "        #\"\"\"\"what do we do when twitter sends us data? here data will be a Python dict representing a tweet\"\"\"\"\n",
    "        # only want to collect English-language tweets\n",
    "        #if data['lang'] == 'en':\n",
    "            #tweets.append(data)\n",
    "            #print \"received tweet #\", len(tweets)\n",
    "\n",
    "        # stop when we've collected enough\n",
    "        #if len(tweets) >= 1000:\n",
    "            #self.disconnect()\n",
    "\n",
    "    #def on_error(self, status_code, data):\n",
    "        #print status_code, data\n",
    "        #self.disconnect()"
   ]
  },
  {
   "cell_type": "code",
   "execution_count": 25,
   "metadata": {},
   "outputs": [],
   "source": [
    "#stream = MyStreamer(CONSUMER_KEY, CONSUMER_SECRET, ACCESS_TOKEN, ACCESS_TOKEN_SECRET)\n",
    "\n",
    "# starts consuming public statuses that contain the keyword 'data'\n",
    "\n",
    "#stream.statuses.filter(track='data')\n",
    "\n",
    "# if instead we wanted to start consuming a sample of *all* public statuses\n",
    "# stream.statuses.sample()"
   ]
  },
  {
   "cell_type": "code",
   "execution_count": 26,
   "metadata": {},
   "outputs": [],
   "source": [
    "# you could find the most common hashtags with:\n",
    "\n",
    "#top_hashtags = Counter(hashtag['text'].lower()\n",
    "                       #for tweet in tweets\n",
    "                       #for hashtag in tweet[\"entities\"][\"hashtags\"])\n",
    "\n",
    "#print top_hashtags.most_common(5)"
   ]
  },
  {
   "cell_type": "code",
   "execution_count": null,
   "metadata": {},
   "outputs": [],
   "source": []
  }
 ],
 "metadata": {
  "kernelspec": {
   "display_name": "Python 2",
   "language": "python",
   "name": "python2"
  },
  "language_info": {
   "codemirror_mode": {
    "name": "ipython",
    "version": 2
   },
   "file_extension": ".py",
   "mimetype": "text/x-python",
   "name": "python",
   "nbconvert_exporter": "python",
   "pygments_lexer": "ipython2",
   "version": "2.7.15"
  }
 },
 "nbformat": 4,
 "nbformat_minor": 2
}
