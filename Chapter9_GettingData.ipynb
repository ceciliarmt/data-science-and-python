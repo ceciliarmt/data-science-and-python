{
 "cells": [
  {
   "cell_type": "code",
   "execution_count": 1,
   "metadata": {},
   "outputs": [],
   "source": [
    "# stdin and stdout\n",
    "# You can pipe data through them using sys.stdin and sys.stdout\n",
    "# For example, here is a script that reads in lines of text and spits back out the ones that match \n",
    "# a regular expression:\n",
    "\n",
    "# egrep.py\n",
    "import sys, re\n",
    "\n",
    "# sys.argv is the list of command-line arguments\n",
    "# sys.argv[0] is the name of the program itself\n",
    "# sys.argv[1] will be the regex specified at the command line\n",
    "regex = sys.argv[1]\n",
    "# for every line passed into the script\n",
    "for line in sys.stdin:\n",
    "    # if it matches the regex, write it to stdout\n",
    "    if re.search(regex, line):\n",
    "        sys.stdout.write(line)"
   ]
  },
  {
   "cell_type": "code",
   "execution_count": 2,
   "metadata": {},
   "outputs": [
    {
     "name": "stdout",
     "output_type": "stream",
     "text": [
      "0\n"
     ]
    }
   ],
   "source": [
    "# This code counts the lines it receives and then writes out the count:\n",
    "\n",
    "# line_count.py\n",
    "import sys\n",
    "\n",
    "count = 0\n",
    "for line in sys.stdin:\n",
    "    count += 1\n",
    "\n",
    "# print goes to sys.stdout\n",
    "print count"
   ]
  },
  {
   "cell_type": "code",
   "execution_count": 4,
   "metadata": {
    "scrolled": true
   },
   "outputs": [],
   "source": [
    "# Here’s a script that counts the words in its input and writes out the most common ones:\n",
    "\n",
    "# most_common_words.py\n",
    "#import sys\n",
    "#from collections import Counter\n",
    "\n",
    "# pass in number of words as first argument\n",
    "#try:\n",
    "    #num_words = int(sys.argv[1])\n",
    "#except:\n",
    "    #print \"usage: most_common_words.py num_words\"\n",
    "    #sys.exit(1)   # non-zero exit code indicates error\n",
    "\n",
    "#counter = Counter(word.lower()  # lowercase words\n",
    "                  #for line in sys.stdin             #\n",
    "                  #for word in line.strip().split()  # split on spaces\n",
    "                  #if word)                          # skip empty 'words'\n",
    "\n",
    "#for word, count in counter.most_common(num_words):\n",
    "    #sys.stdout.write(str(count))\n",
    "    #sys.stdout.write(\"\\t\")\n",
    "    #sys.stdout.write(word)\n",
    "    #sys.stdout.write(\"\\n\")      \n",
    "\n",
    "#“after which you could do something like: \n",
    "#“C:\\DataScience>type the_bible.txt | python most_common_words.py 10\n",
    "#64193   the\n",
    "#51380   and\n",
    "#34753   of\n",
    "#13643   to\n",
    "#12799   that\n",
    "#12560   in\n",
    "#10263   he\n",
    "#9840    shall\n",
    "#8987    unto\n",
    "#8836    for "
   ]
  },
  {
   "cell_type": "code",
   "execution_count": 6,
   "metadata": {},
   "outputs": [],
   "source": [
    "# BASICS OF TEXTFILES\n",
    "# The first step to working with a text file is to obtain a file object using open:\n",
    "\n",
    "# 'r' means read-only\n",
    "#file_for_reading = open('reading_file.txt', 'r')\n",
    "\n",
    "# 'w' is write -- will destroy the file if it already exists!\n",
    "#file_for_writing = open('writing_file.txt', 'w')\n",
    "\n",
    "# 'a' is append -- for adding to the end of the file\n",
    "#file_for_appending = open('appending_file.txt', 'a')\n",
    "\n",
    "# don't forget to close your files when you're done\n",
    "#file_for_writing.close()"
   ]
  },
  {
   "cell_type": "code",
   "execution_count": 8,
   "metadata": {},
   "outputs": [],
   "source": [
    "# “Because it is easy to forget to close your files, you should always use them in a with block, \n",
    "# at the end of which they will be closed automatically:\n",
    "\n",
    "#with open(filename,'r') as f:\n",
    "    #data = function_that_gets_data_from(f)\n",
    "\n",
    "# at this point f has already been closed, so don't try to use it\n",
    "#process(data)"
   ]
  },
  {
   "cell_type": "code",
   "execution_count": 9,
   "metadata": {},
   "outputs": [],
   "source": [
    "# If you need to read a whole text file, you can just iterate over the lines of the file using for:\n",
    "\n",
    "#starts_with_hash = 0\n",
    "\n",
    "#with open('input.txt','r') as f:\n",
    "    #for line in file:               # look at each line in the file\n",
    "        #if re.match(\"^#\",line):     # use a regex to see if it starts with '#'\n",
    "            #starts_with_hash += 1   # if it does, add 1 to the count"
   ]
  },
  {
   "cell_type": "code",
   "execution_count": 11,
   "metadata": {},
   "outputs": [],
   "source": [
    "# For example, imagine you have a file full of email addresses, one per line, \n",
    "# and that you need to generate a histogram of the domain\n",
    "\n",
    "#def get_domain(email_address):\n",
    "    #\"\"\"split on '@' and return the last piece\"\"\"\n",
    "    #return email_address.lower().split(\"@\")[-1]\n",
    "\n",
    "#with open('email_addresses.txt', 'r') as f:\n",
    "    #domain_counts = Counter(get_domain(line.strip())\n",
    "                            #for line in f\n",
    "                            #if \"@\" in line)"
   ]
  },
  {
   "cell_type": "code",
   "execution_count": null,
   "metadata": {},
   "outputs": [],
   "source": []
  }
 ],
 "metadata": {
  "kernelspec": {
   "display_name": "Python 2",
   "language": "python",
   "name": "python2"
  },
  "language_info": {
   "codemirror_mode": {
    "name": "ipython",
    "version": 2
   },
   "file_extension": ".py",
   "mimetype": "text/x-python",
   "name": "python",
   "nbconvert_exporter": "python",
   "pygments_lexer": "ipython2",
   "version": "2.7.15"
  }
 },
 "nbformat": 4,
 "nbformat_minor": 2
}
