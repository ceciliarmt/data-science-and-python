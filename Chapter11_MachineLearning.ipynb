{
 "cells": [
  {
   "cell_type": "code",
   "execution_count": 1,
   "metadata": {},
   "outputs": [],
   "source": [
    "# OVERFITTING AND UNDERFITTING\n",
    "# So how do we make sure our models aren’t too complex? The most fundamental approach involves using different data \n",
    "# to train the model and to test the model. The simplest way to do this is to split your data set, so that \n",
    "# (for example) two-thirds of it is used to train the model, after which we measure the model’s performance \n",
    "# on the remaining third: \n",
    "\n",
    "def split_data(data, prob):\n",
    "    \"\"\"split data into fractions [prob, 1 - prob]\"\"\"\n",
    "    results = [], []\n",
    "    for row in data:\n",
    "        results[0 if random.random() < prob else 1].append(row)\n",
    "    return results"
   ]
  },
  {
   "cell_type": "code",
   "execution_count": 2,
   "metadata": {},
   "outputs": [],
   "source": [
    "# Often, we’ll have a matrix x of input variables and a vector y of output variables. In that case, we need to make \n",
    "# sure to put corresponding values together in either the training data or the test data:\n",
    "\n",
    "def train_test_split(x, y, test_pct):\n",
    "    data = zip(x, y)                              # pair corresponding values\n",
    "    train, test = split_data(data, 1 - test_pct)  # split the data set of pairs\n",
    "    x_train, y_train = zip(*train)                # magical un-zip trick\n",
    "    x_test, y_test = zip(*test)\n",
    "    return x_train, x_test, y_train, y_test"
   ]
  },
  {
   "cell_type": "code",
   "execution_count": 4,
   "metadata": {},
   "outputs": [],
   "source": [
    "# so that you might do something like:\n",
    "\n",
    "#model = SomeKindOfModel()\n",
    "#x_train, x_test, y_train, y_test = train_test_split(xs, ys, 0.33)\n",
    "#model.train(x_train, y_train)\n",
    "#performance = model.test(x_test, y_test)"
   ]
  },
  {
   "cell_type": "code",
   "execution_count": null,
   "metadata": {},
   "outputs": [],
   "source": []
  }
 ],
 "metadata": {
  "kernelspec": {
   "display_name": "Python 2",
   "language": "python",
   "name": "python2"
  },
  "language_info": {
   "codemirror_mode": {
    "name": "ipython",
    "version": 2
   },
   "file_extension": ".py",
   "mimetype": "text/x-python",
   "name": "python",
   "nbconvert_exporter": "python",
   "pygments_lexer": "ipython2",
   "version": "2.7.15"
  }
 },
 "nbformat": 4,
 "nbformat_minor": 2
}
