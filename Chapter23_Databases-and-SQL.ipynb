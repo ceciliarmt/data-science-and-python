{
 "cells": [
  {
   "cell_type": "code",
   "execution_count": 15,
   "metadata": {},
   "outputs": [],
   "source": [
    "# In NotQuiteABase, you’ll create a Table simply by specifying the names of its columns. And to insert a row, \n",
    "# you’ll use the table’s insert() method, which takes a list of row values that need to be in the same order\n",
    "# as the table’s column names. Behind the scenes, we’ll store each row as a dict from column names to values.\n",
    "# A real database would never use such a space-wasting representation, but doing so will make NotQuiteABase much \n",
    "# easier to work with\n",
    "\n",
    "\n",
    "class Table:\n",
    "    def __init__(self, columns):\n",
    "        self.columns = columns\n",
    "        self.rows = []\n",
    "\n",
    "    def __repr__(self):\n",
    "        \"\"\"pretty representation of the table: columns then rows\"\"\"\n",
    "        return str(self.columns) + \"\\n\" + \"\\n\".join(map(str, self.rows))\n",
    "\n",
    "    def insert(self, row_values):\n",
    "        if len(row_values) != len(self.columns):\n",
    "            raise TypeError(\"wrong number of elements\")\n",
    "        row_dict = dict(zip(self.columns, row_values))\n",
    "        self.rows.append(row_dict)\n",
    "\n",
    "    def update(self, updates, predicate):\n",
    "        for row in self.rows:\n",
    "            if predicate(row):\n",
    "                for column, new_value in updates.items():\n",
    "                    row[column] = new_value\n",
    "\n",
    "    def delete(self, predicate=lambda row: True):\n",
    "        \"\"\"delete all rows matching predicate\n",
    "        or all rows if no predicate supplied\"\"\"\n",
    "        self.rows = [row for row in self.rows if not(predicate(row))]\n",
    "\n",
    "    def select(self, keep_columns=None, additional_columns=None):\n",
    "\n",
    "        if keep_columns is None:         # if no columns specified,\n",
    "            keep_columns = self.columns  # return all columns\n",
    "\n",
    "        if additional_columns is None:\n",
    "            additional_columns = {}\n",
    "\n",
    "        # new table for results\n",
    "        result_table = Table(keep_columns + list(additional_columns.keys()))\n",
    "\n",
    "        for row in self.rows:\n",
    "            new_row = [row[column] for column in keep_columns]\n",
    "            for column_name, calculation in additional_columns.items():\n",
    "                new_row.append(calculation(row))\n",
    "            result_table.insert(new_row)\n",
    "\n",
    "        return result_table\n",
    "\n",
    "    def where(self, predicate=lambda row: True):\n",
    "        \"\"\"return only the rows that satisfy the supplied predicate\"\"\"\n",
    "        where_table = Table(self.columns)\n",
    "        where_table.rows = list(filter(predicate, self.rows))\n",
    "        return where_table\n",
    "\n",
    "    def limit(self, num_rows=None):\n",
    "        \"\"\"return only the first num_rows rows\"\"\"\n",
    "        limit_table = Table(self.columns)\n",
    "        limit_table.rows = (self.rows[:num_rows]\n",
    "                            if num_rows is not None\n",
    "                            else self.rows)\n",
    "        return limit_table\n",
    "\n",
    "    def group_by(self, group_by_columns, aggregates, having=None):\n",
    "\n",
    "        grouped_rows = defaultdict(list)\n",
    "\n",
    "        # populate groups\n",
    "        for row in self.rows:\n",
    "            key = tuple(row[column] for column in group_by_columns)\n",
    "            grouped_rows[key].append(row)\n",
    "\n",
    "        result_table = Table(group_by_columns + list(aggregates.keys()))\n",
    "\n",
    "        for key, rows in grouped_rows.items():\n",
    "            if having is None or having(rows):\n",
    "                new_row = list(key)\n",
    "                for aggregate_name, aggregate_fn in aggregates.items():\n",
    "                    new_row.append(aggregate_fn(rows))\n",
    "                result_table.insert(new_row)\n",
    "\n",
    "        return result_table\n",
    "\n",
    "    def order_by(self, order):\n",
    "        new_table = self.select()       # make a copy\n",
    "        new_table.rows.sort(key=order)\n",
    "        return new_table\n",
    "\n",
    "    def join(self, other_table, left_join=False):\n",
    "\n",
    "        join_on_columns = [c for c in self.columns           # columns in\n",
    "                           if c in other_table.columns]      # both tables\n",
    "\n",
    "        additional_columns = [c for c in other_table.columns # columns only\n",
    "                              if c not in join_on_columns]   # in right table\n",
    "\n",
    "        # all columns from left table + additional_columns from right table\n",
    "        join_table = Table(self.columns + additional_columns)\n",
    "\n",
    "        for row in self.rows:\n",
    "            def is_join(other_row):\n",
    "                return all(other_row[c] == row[c] for c in join_on_columns)\n",
    "\n",
    "            other_rows = other_table.where(is_join).rows\n",
    "\n",
    "            # each other row that matches this one produces a result row\n",
    "            for other_row in other_rows:\n",
    "                join_table.insert([row[c] for c in self.columns] +\n",
    "                                  [other_row[c] for c in additional_columns])\n",
    "\n",
    "            # if no rows match and it's a left join, output with Nones\n",
    "            if left_join and not other_rows:\n",
    "                join_table.insert([row[c] for c in self.columns] +\n",
    "                                  [None for c in additional_columns])\n",
    "\n",
    "        return join_table"
   ]
  },
  {
   "cell_type": "code",
   "execution_count": 16,
   "metadata": {},
   "outputs": [],
   "source": [
    "users = Table([\"user_id\", \"name\", \"num_friends\"])\n",
    "users.insert([0, \"Hero\", 0])\n",
    "users.insert([1, \"Dunn\", 2])\n",
    "users.insert([2, \"Sue\", 3])\n",
    "users.insert([3, \"Chi\", 3])\n",
    "users.insert([4, \"Thor\", 3])\n",
    "users.insert([5, \"Clive\", 2])\n",
    "users.insert([6, \"Hicks\", 3])\n",
    "users.insert([7, \"Devin\", 2])\n",
    "users.insert([8, \"Kate\", 2])\n",
    "users.insert([9, \"Klein\", 3])\n",
    "users.insert([10, \"Jen\", 1])"
   ]
  },
  {
   "cell_type": "code",
   "execution_count": 17,
   "metadata": {},
   "outputs": [
    {
     "name": "stdout",
     "output_type": "stream",
     "text": [
      "['user_id', 'name', 'num_friends']\n",
      "{'user_id': 0, 'name': 'Hero', 'num_friends': 0}\n",
      "{'user_id': 1, 'name': 'Dunn', 'num_friends': 2}\n",
      "{'user_id': 2, 'name': 'Sue', 'num_friends': 3}\n",
      "{'user_id': 3, 'name': 'Chi', 'num_friends': 3}\n",
      "{'user_id': 4, 'name': 'Thor', 'num_friends': 3}\n",
      "{'user_id': 5, 'name': 'Clive', 'num_friends': 2}\n",
      "{'user_id': 6, 'name': 'Hicks', 'num_friends': 3}\n",
      "{'user_id': 7, 'name': 'Devin', 'num_friends': 2}\n",
      "{'user_id': 8, 'name': 'Kate', 'num_friends': 2}\n",
      "{'user_id': 9, 'name': 'Klein', 'num_friends': 3}\n",
      "{'user_id': 10, 'name': 'Jen', 'num_friends': 1}\n"
     ]
    }
   ],
   "source": [
    "print (users)"
   ]
  },
  {
   "cell_type": "code",
   "execution_count": 18,
   "metadata": {},
   "outputs": [],
   "source": [
    "users.update({'num_friends' : 3},               # set num_friends = 3\n",
    "             lambda row: row['user_id'] == 1)   # in rows where user_id == 1”"
   ]
  },
  {
   "cell_type": "code",
   "execution_count": 19,
   "metadata": {},
   "outputs": [
    {
     "name": "stdout",
     "output_type": "stream",
     "text": [
      "['user_id', 'name', 'num_friends']\n",
      "{'user_id': 0, 'name': 'Hero', 'num_friends': 0}\n",
      "{'user_id': 1, 'name': 'Dunn', 'num_friends': 3}\n",
      "{'user_id': 2, 'name': 'Sue', 'num_friends': 3}\n",
      "{'user_id': 3, 'name': 'Chi', 'num_friends': 3}\n",
      "{'user_id': 4, 'name': 'Thor', 'num_friends': 3}\n",
      "{'user_id': 5, 'name': 'Clive', 'num_friends': 2}\n",
      "{'user_id': 6, 'name': 'Hicks', 'num_friends': 3}\n",
      "{'user_id': 7, 'name': 'Devin', 'num_friends': 2}\n",
      "{'user_id': 8, 'name': 'Kate', 'num_friends': 2}\n",
      "{'user_id': 9, 'name': 'Klein', 'num_friends': 3}\n",
      "{'user_id': 10, 'name': 'Jen', 'num_friends': 1}\n"
     ]
    }
   ],
   "source": [
    "print (users)"
   ]
  },
  {
   "cell_type": "code",
   "execution_count": 36,
   "metadata": {},
   "outputs": [],
   "source": [
    "users.delete(lambda row: row[\"user_id\"] == 1)  # deletes rows with user_id == 1\n",
    "users.delete()                                 # deletes every row"
   ]
  },
  {
   "cell_type": "code",
   "execution_count": 37,
   "metadata": {},
   "outputs": [
    {
     "name": "stdout",
     "output_type": "stream",
     "text": [
      "['user_id', 'name', 'num_friends']\n",
      "\n"
     ]
    }
   ],
   "source": [
    "print (users)"
   ]
  },
  {
   "cell_type": "code",
   "execution_count": 20,
   "metadata": {},
   "outputs": [
    {
     "data": {
      "text/plain": [
       "['user_id']\n",
       "{'user_id': 1}"
      ]
     },
     "execution_count": 20,
     "metadata": {},
     "output_type": "execute_result"
    }
   ],
   "source": [
    "# SELECT * FROM users;\n",
    "users.select()\n",
    "\n",
    "# SELECT * FROM users LIMIT 2;\n",
    "users.limit(2)\n",
    "\n",
    "# SELECT user_id FROM users;\n",
    "users.select(keep_columns=[\"user_id\"])\n",
    "\n",
    "# SELECT user_id FROM users WHERE name = 'Dunn';\n",
    "users.where(lambda row: row[\"name\"] == \"Dunn\") \\\n",
    "     .select(keep_columns=[\"user_id\"])"
   ]
  },
  {
   "cell_type": "code",
   "execution_count": 21,
   "metadata": {},
   "outputs": [
    {
     "data": {
      "text/plain": [
       "['name_length']\n",
       "{'name_length': 4}\n",
       "{'name_length': 4}\n",
       "{'name_length': 3}\n",
       "{'name_length': 3}\n",
       "{'name_length': 4}\n",
       "{'name_length': 5}\n",
       "{'name_length': 5}\n",
       "{'name_length': 5}\n",
       "{'name_length': 4}\n",
       "{'name_length': 5}\n",
       "{'name_length': 3}"
      ]
     },
     "execution_count": 21,
     "metadata": {},
     "output_type": "execute_result"
    }
   ],
   "source": [
    "# SELECT LENGTH(name) AS name_length FROM users;\n",
    "def name_length(row): return len(row[\"name\"])\n",
    "\n",
    "users.select(keep_columns=[],\n",
    "             additional_columns = { \"name_length\" : name_length })"
   ]
  },
  {
   "cell_type": "code",
   "execution_count": 26,
   "metadata": {},
   "outputs": [],
   "source": [
    "# GROUP BY \n",
    "\n",
    "from collections import defaultdict\n",
    "\n",
    "\n",
    "def first_letter_of_name(row):\n",
    "    return row[\"name\"][0] if row[\"name\"] else \"\"\n",
    "\n",
    "def average_num_friends(rows):\n",
    "    return sum(row[\"num_friends\"] for row in rows) / len(rows)\n",
    "\n",
    "def enough_friends(rows):\n",
    "    return average_num_friends(rows) > 1\n",
    "\n",
    "stats_by_length = users \\\n",
    "    .select(additional_columns={\"name_length\" : name_length}) \\\n",
    "    .group_by(group_by_columns=[\"name_length\"],\n",
    "              aggregates={ \"min_user_id\" : min_user_id,\n",
    "                           \"num_users\" : len })\n",
    "\n",
    "avg_friends_by_letter = users \\\n",
    "    .select(additional_columns={'first_letter' : first_letter_of_name}) \\\n",
    "    .group_by(group_by_columns=['first_letter'],\n",
    "              aggregates={ \"avg_num_friends\" : average_num_friends },\n",
    "              having=enough_friends)\n",
    "\n",
    "#ORDER BY\n",
    "friendliest_letters = avg_friends_by_letter \\\n",
    "    .order_by(lambda row: -row[\"avg_num_friends\"]) \\\n",
    "    .limit(4)"
   ]
  },
  {
   "cell_type": "code",
   "execution_count": 27,
   "metadata": {},
   "outputs": [],
   "source": [
    "# JOIN\n",
    "\n",
    "user_interests = Table([\"user_id\", \"interest\"])\n",
    "user_interests.insert([0, \"SQL\"])\n",
    "user_interests.insert([0, \"NoSQL\"])\n",
    "user_interests.insert([2, \"SQL\"])\n",
    "user_interests.insert([2, \"MySQL\"])"
   ]
  },
  {
   "cell_type": "code",
   "execution_count": 28,
   "metadata": {},
   "outputs": [],
   "source": [
    "# So, we could find users interested in SQL with:\n",
    "\n",
    "sql_users = users \\\n",
    "    .join(user_interests) \\\n",
    "    .where(lambda row: row[\"interest\"] == \"SQL\") \\\n",
    "    .select(keep_columns=[\"name\"])\n",
    "\n",
    "# And we could get the interest counts with:\n",
    "\n",
    "def count_interests(rows):\n",
    "    \"\"\"counts how many rows have non-None interests\"\"\"\n",
    "    return len([row for row in rows if row[\"interest\"] is not None])\n",
    "\n",
    "user_interest_counts = users \\\n",
    "    .join(user_interests, left_join=True) \\\n",
    "    .group_by(group_by_columns=[\"user_id\"],\n",
    "              aggregates={\"num_interests\" : count_interests })"
   ]
  },
  {
   "cell_type": "code",
   "execution_count": 29,
   "metadata": {},
   "outputs": [
    {
     "data": {
      "text/plain": [
       "['min_user_id']\n",
       "{'min_user_id': 0}"
      ]
     },
     "execution_count": 29,
     "metadata": {},
     "output_type": "execute_result"
    }
   ],
   "source": [
    "# SUBQUERIES\n",
    "\n",
    "# In SQL, you can SELECT from (and JOIN) the results of queries as if they were tables. So if you wanted to \n",
    "# find the smallest user_id of anyone interested in SQL, you could use a subquery. (Of course, you could do \n",
    "# the same calculation using a JOIN, but that wouldn’t illustrate subqueries.)\n",
    "\n",
    "likes_sql_user_ids = user_interests \\\n",
    "    .where(lambda row: row[\"interest\"] == \"SQL\") \\\n",
    "    .select(keep_columns=['user_id'])\n",
    "\n",
    "likes_sql_user_ids.group_by(group_by_columns=[],\n",
    "                            aggregates={ \"min_user_id\" : min_user_id })"
   ]
  },
  {
   "cell_type": "code",
   "execution_count": 30,
   "metadata": {},
   "outputs": [
    {
     "data": {
      "text/plain": [
       "['name']\n",
       "{'name': 'Hero'}\n",
       "{'name': 'Sue'}"
      ]
     },
     "execution_count": 30,
     "metadata": {},
     "output_type": "execute_result"
    }
   ],
   "source": [
    " # Query Optimization\n",
    "    \n",
    "# In NotQuiteABase there are (at least) two different ways to write this query. You could filter the \n",
    "# user_interests table before performing the join:\n",
    "\n",
    "user_interests \\\n",
    "    .where(lambda row: row[\"interest\"] == \"SQL\") \\\n",
    "    .join(users) \\\n",
    "    .select([\"name\"])"
   ]
  },
  {
   "cell_type": "code",
   "execution_count": 31,
   "metadata": {},
   "outputs": [
    {
     "data": {
      "text/plain": [
       "['name']\n",
       "{'name': 'Hero'}\n",
       "{'name': 'Sue'}"
      ]
     },
     "execution_count": 31,
     "metadata": {},
     "output_type": "execute_result"
    }
   ],
   "source": [
    "# Or you could filter the results of the join:\n",
    "\n",
    "user_interests \\\n",
    "    .join(users) \\\n",
    "    .where(lambda row: row[\"interest\"] == \"SQL\") \\\n",
    "    .select([\"name\"])"
   ]
  },
  {
   "cell_type": "code",
   "execution_count": null,
   "metadata": {},
   "outputs": [],
   "source": []
  }
 ],
 "metadata": {
  "kernelspec": {
   "display_name": "Python 2",
   "language": "python",
   "name": "python2"
  },
  "language_info": {
   "codemirror_mode": {
    "name": "ipython",
    "version": 2
   },
   "file_extension": ".py",
   "mimetype": "text/x-python",
   "name": "python",
   "nbconvert_exporter": "python",
   "pygments_lexer": "ipython2",
   "version": "2.7.15"
  }
 },
 "nbformat": 4,
 "nbformat_minor": 2
}
