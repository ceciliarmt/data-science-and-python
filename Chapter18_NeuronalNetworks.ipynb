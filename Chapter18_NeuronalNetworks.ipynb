{
 "cells": [
  {
   "cell_type": "code",
   "execution_count": 6,
   "metadata": {},
   "outputs": [],
   "source": [
    "# PERCEPTRONS\n",
    "# the simplest neural network is the perceptron, which approximates a single neuron with n binary inputs. \n",
    "# It computes a weighted sum of its inputs and “fires” if that weighted sum is zero or greater\n",
    "\n",
    "def step_function(x):\n",
    "    return 1 if x >= 0 else 0\n",
    "\n",
    "def perceptron_output(weights, bias, x):\n",
    "    \"\"\"returns 1 if the perceptron 'fires', 0 if not\"\"\"\n",
    "    calculation = dot(weights, x) + bias\n",
    "    return step_function(calculation)"
   ]
  },
  {
   "cell_type": "code",
   "execution_count": 7,
   "metadata": {},
   "outputs": [],
   "source": [
    "# The perceptron is simply distinguishing between the half spaces separated by the hyperplane of points x for which:\n",
    "\n",
    "def dot(v, w):\n",
    "    \"\"\"v_1 * w_1 + ... + v_n * w_n\"\"\"\n",
    "    return sum(v_i * w_i\n",
    "        for v_i, w_i in zip(v, w))\n",
    "\n",
    "#dot(weights,x) + bias == 0\n",
    "#weights = [2, 2]\n",
    "#bias = -3"
   ]
  },
  {
   "cell_type": "code",
   "execution_count": 8,
   "metadata": {},
   "outputs": [],
   "source": [
    "# However, there are some problems that simply can’t be solved by a single perceptron. For example, no matter how \n",
    "# hard you try, you cannot use a perceptron to build an XOR gate that outputs 1 if exactly one of its inputs is 1 \n",
    "# and 0 otherwise. This is where we start needing more-complicated neural networks.\n",
    "\n",
    "and_gate = min\n",
    "or_gate = max\n",
    "xor_gate = lambda x, y: 0 if x == y else 1"
   ]
  },
  {
   "cell_type": "code",
   "execution_count": 9,
   "metadata": {},
   "outputs": [],
   "source": [
    "\n",
    "# Feed-forward neural network that consists of discrete layers of neurons, each connected to the next. \n",
    "# This typically entails an input layer, one or more “hidden layers (each of which consists of neurons that take \n",
    "# the outputs of the previous layer, performs some calculation, and passes the result to the next layer\n",
    "# and an output layer (which produces the final outputs)\n",
    "\n",
    "def sigmoid(t):\n",
    "    return 1 / (1 + math.exp(-t))"
   ]
  },
  {
   "cell_type": "code",
   "execution_count": 10,
   "metadata": {},
   "outputs": [],
   "source": [
    "def neuron_output(weights, inputs):\n",
    "    return sigmoid(dot(weights, inputs))"
   ]
  },
  {
   "cell_type": "code",
   "execution_count": 11,
   "metadata": {},
   "outputs": [],
   "source": [
    "def feed_forward(neural_network, input_vector):\n",
    "    \"\"\"takes in a neural network\n",
    "    (represented as a list of lists of lists of weights)\n",
    "    and returns the output from forward-propagating the input\"\"\"\n",
    "\n",
    "    outputs = []\n",
    "\n",
    "    # process one layer at a time\n",
    "    for layer in neural_network:\n",
    "        input_with_bias = input_vector + [1]              # add a bias input\n",
    "        output = [neuron_output(neuron, input_with_bias)  # compute the output\n",
    "                  for neuron in layer]                    # for each neuron\n",
    "        outputs.append(output)                            # and remember it\n",
    "\n",
    "        # then the input to the next layer is the output of this one\n",
    "        input_vector = output\n",
    "\n",
    "    return outputs"
   ]
  },
  {
   "cell_type": "code",
   "execution_count": 12,
   "metadata": {},
   "outputs": [
    {
     "name": "stdout",
     "output_type": "stream",
     "text": [
      "0 0 [9.38314668300676e-14]\n",
      "0 1 [0.9999999999999059]\n",
      "1 0 [0.9999999999999059]\n",
      "1 1 [9.383146683006828e-14]\n"
     ]
    }
   ],
   "source": [
    "import math\n",
    "\n",
    "xor_network = [# hidden layer\n",
    "               [[20, 20, -30],      # 'and' neuron\n",
    "                [20, 20, -10]],     # 'or'  neuron\n",
    "               # output layer\n",
    "               [[-60, 60, -30]]]    # '2nd input but not 1st input' neuron\n",
    "\n",
    "for x in [0, 1]:\n",
    "    for y in [0, 1]:\n",
    "        # feed_forward produces the outputs of every neuron\n",
    "        # feed_forward[-1] is the outputs of the output-layer neurons\n",
    "        print x, y, feed_forward(xor_network,[x, y])[-1]"
   ]
  },
  {
   "cell_type": "code",
   "execution_count": 13,
   "metadata": {},
   "outputs": [],
   "source": [
    "def backpropagate(network, input_vector, targets):\n",
    "\n",
    "    hidden_outputs, outputs = feed_forward(network, input_vector)\n",
    "\n",
    "    # the output * (1 - output) is from the derivative of sigmoid\n",
    "    output_deltas = [output * (1 - output) * (output - target)\n",
    "                     for output, target in zip(outputs, targets)]\n",
    "\n",
    "    # adjust weights for output layer, one neuron at a time\n",
    "    for i, output_neuron in enumerate(network[-1]):\n",
    "        # focus on the ith output layer neuron\n",
    "        for j, hidden_output in enumerate(hidden_outputs + [1]):\n",
    "            # adjust the jth weight based on both\n",
    "            # this neuron's delta and its jth input\n",
    "            output_neuron[j] -= output_deltas[i] * hidden_output\n",
    "\n",
    "    # back-propagate errors to hidden layer\n",
    "    hidden_deltas = [hidden_output * (1 - hidden_output) *\n",
    "                      dot(output_deltas, [n[i] for n in output_layer])\n",
    "                     for i, hidden_output in enumerate(hidden_outputs)]\n",
    "\n",
    "    # adjust weights for hidden layer, one neuron at a time\n",
    "    for i, hidden_neuron in enumerate(network[0]):\n",
    "        for j, input in enumerate(input_vector + [1]):\n",
    "            hidden_neuron[j] -= hidden_deltas[i] * input "
   ]
  },
  {
   "cell_type": "code",
   "execution_count": 14,
   "metadata": {},
   "outputs": [],
   "source": [
    "# Example: Defeating a CAPTCHA\n",
    "\n",
    "# In particular, he’d like to show users a picture of a digit and require them to input that digit to prove \n",
    "# they’re human.\n",
    "\n",
    "zero_digit = [1,1,1,1,1,\n",
    "              1,0,0,0,1,\n",
    "              1,0,0,0,1,\n",
    "              1,0,0,0,1,\n",
    "              1,1,1,1,1]"
   ]
  },
  {
   "cell_type": "code",
   "execution_count": 15,
   "metadata": {},
   "outputs": [
    {
     "data": {
      "text/plain": [
       "[0, 0, 0, 0, 1, 0, 0, 0, 0, 0]"
      ]
     },
     "execution_count": 15,
     "metadata": {},
     "output_type": "execute_result"
    }
   ],
   "source": [
    "# We’ll want our output to indicate which digit the neural network thinks it is, so we’ll need 10 outputs. \n",
    "# The correct output for digit 4, for instance, will be:\n",
    "\n",
    "[0, 0, 0, 0, 1, 0, 0, 0, 0, 0]"
   ]
  },
  {
   "cell_type": "code",
   "execution_count": 16,
   "metadata": {},
   "outputs": [],
   "source": [
    "# “Then, assuming our inputs are correctly ordered from 0 to 9, our targets will be:\n",
    "\n",
    "targets = [[1 if i == j else 0 for i in range(10)]\n",
    "           for j in range(10)]"
   ]
  },
  {
   "cell_type": "code",
   "execution_count": 17,
   "metadata": {},
   "outputs": [],
   "source": [
    "# At which point we’re ready to build our neural network:\n",
    "\n",
    "import random \n",
    "\n",
    "random.seed(0)      # to get repeatable results\n",
    "input_size = 25     # each input is a vector of length 25\n",
    "num_hidden = 5      # we'll have 5 neurons in the hidden layer\n",
    "output_size = 10    # we need 10 outputs for each input\n",
    "\n",
    "# each hidden neuron has one weight per input, plus a bias weight\n",
    "hidden_layer = [[random.random() for __ in range(input_size + 1)]\n",
    "                for __ in range(num_hidden)]\n",
    "\n",
    "# each output neuron has one weight per hidden neuron, plus a bias weight\n",
    "output_layer = [[random.random() for __ in range(num_hidden + 1)]\n",
    "                for __ in range(output_size)]\n",
    "\n",
    "# the network starts out with random weights\n",
    "network = [hidden_layer, output_layer]"
   ]
  },
  {
   "cell_type": "code",
   "execution_count": 22,
   "metadata": {},
   "outputs": [],
   "source": [
    "    raw_digits = [\n",
    "          \"\"\"11111\n",
    "             1...1\n",
    "             1...1\n",
    "             1...1\n",
    "             11111\"\"\",\n",
    "\n",
    "          \"\"\"..1..\n",
    "             ..1..\n",
    "             ..1..\n",
    "             ..1..\n",
    "             ..1..\"\"\",\n",
    "\n",
    "          \"\"\"11111\n",
    "             ....1\n",
    "             11111\n",
    "             1....\n",
    "             11111\"\"\",\n",
    "\n",
    "          \"\"\"11111\n",
    "             ....1\n",
    "             11111\n",
    "             ....1\n",
    "             11111\"\"\",\n",
    "\n",
    "          \"\"\"1...1\n",
    "             1...1\n",
    "             11111\n",
    "             ....1\n",
    "             ....1\"\"\",\n",
    "\n",
    "          \"\"\"11111\n",
    "             1....\n",
    "             11111\n",
    "             ....1\n",
    "             11111\"\"\",\n",
    "\n",
    "          \"\"\"11111\n",
    "             1....\n",
    "             11111\n",
    "             1...1\n",
    "             11111\"\"\",\n",
    "\n",
    "          \"\"\"11111\n",
    "             ....1\n",
    "             ....1\n",
    "             ....1\n",
    "             ....1\"\"\",\n",
    "\n",
    "          \"\"\"11111\n",
    "             1...1\n",
    "             11111\n",
    "             1...1\n",
    "             11111\"\"\",\n",
    "\n",
    "          \"\"\"11111\n",
    "             1...1\n",
    "             11111\n",
    "             ....1\n",
    "             11111\"\"\"]\n",
    "\n",
    "    def make_digit(raw_digit):\n",
    "        return [1 if c == '1' else 0\n",
    "                for row in raw_digit.split(\"\\n\")\n",
    "                for c in row.strip()]\n",
    "    \n",
    "inputs = list(map(make_digit, raw_digits))    "
   ]
  },
  {
   "cell_type": "code",
   "execution_count": 23,
   "metadata": {},
   "outputs": [],
   "source": [
    "# And we can train it using the backpropagation algorithm:\n",
    "\n",
    "# 10,000 iterations seems enough to converge\n",
    "for __ in range(10000):\n",
    "    for input_vector, target_vector in zip(inputs, targets):\n",
    "        backpropagate(network, input_vector, target_vector)"
   ]
  },
  {
   "cell_type": "code",
   "execution_count": 24,
   "metadata": {},
   "outputs": [
    {
     "data": {
      "text/plain": [
       "[0.0253613342567603,\n",
       " 1.0763103307031964e-05,\n",
       " 1.2345860565941365e-10,\n",
       " 0.017928582780863102,\n",
       " 0.0008665440350657816,\n",
       " 5.979309218296072e-10,\n",
       " 3.267997415221431e-08,\n",
       " 0.967411806405591,\n",
       " 1.66229065217321e-08,\n",
       " 4.394241877748721e-08]"
      ]
     },
     "execution_count": 24,
     "metadata": {},
     "output_type": "execute_result"
    }
   ],
   "source": [
    "def predict(input):\n",
    "    return feed_forward(network, input)[-1]\n",
    "\n",
    "predict(inputs[7])\n",
    "# [0.026, 0.0, 0.0, 0.018, 0.001, 0.0, 0.0, 0.967, 0.0, 0.0]"
   ]
  },
  {
   "cell_type": "code",
   "execution_count": 25,
   "metadata": {},
   "outputs": [
    {
     "data": {
      "text/plain": [
       "[1.0101045598243533e-08,\n",
       " 0.001726887935497551,\n",
       " 1.78191113310607e-08,\n",
       " 0.9344276025778887,\n",
       " 5.097944343977291e-07,\n",
       " 3.6294250408123e-06,\n",
       " 2.2726529247374686e-10,\n",
       " 0.007047567870016199,\n",
       " 3.9216678958134186e-08,\n",
       " 0.09973408445781098]"
      ]
     },
     "execution_count": 25,
     "metadata": {},
     "output_type": "execute_result"
    }
   ],
   "source": [
    "# Which indicates that the digit 7 output neuron produces 0.97, while all the other output neurons \n",
    "# produce very small numbers. But we can also apply it to differently drawn digits, like my stylized 3:\n",
    "\n",
    "predict([0,1,1,1,0,  # .@@@.\n",
    "         0,0,0,1,1,  # ...@@\n",
    "         0,0,1,1,0,  # ..@@.\n",
    "         0,0,0,1,1,  # ...@@\n",
    "         0,1,1,1,0]) # .@@@.\n",
    "\n",
    "# [0.0, 0.0, 0.0, 0.92, 0.0, 0.0, 0.0, 0.01, 0.0, 0.12]"
   ]
  },
  {
   "cell_type": "code",
   "execution_count": 26,
   "metadata": {},
   "outputs": [
    {
     "data": {
      "text/plain": [
       "[2.0462000883297418e-06,\n",
       " 4.3282683762421793e-13,\n",
       " 7.538605319160643e-09,\n",
       " 0.00046289833754861753,\n",
       " 1.0265125035042659e-10,\n",
       " 0.5362247897883677,\n",
       " 2.63374015575664e-05,\n",
       " 6.728904926488385e-08,\n",
       " 0.9146090904428066,\n",
       " 0.9957966984536238]"
      ]
     },
     "execution_count": 26,
     "metadata": {},
     "output_type": "execute_result"
    }
   ],
   "source": [
    "# The network still thinks it looks like a 3, whereas my stylized 8 gets votes for being a 5, an 8, and a 9:\n",
    "\n",
    "predict([0,1,1,1,0,  # .@@@.\n",
    "         1,0,0,1,1,  # @..@@\n",
    "         0,1,1,1,0,  # .@@@.\n",
    "         1,0,0,1,1,  # @..@@\n",
    "         0,1,1,1,0]) # .@@@.\n",
    "\n",
    "# [0.0, 0.0, 0.0, 0.0, 0.0, 0.55, 0.0, 0.0, 0.93, 1.0]"
   ]
  },
  {
   "cell_type": "code",
   "execution_count": 29,
   "metadata": {},
   "outputs": [
    {
     "data": {
      "image/png": "[encoded data removed]",
      "text/plain": [
       "<Figure size 432x288 with 1 Axes>"
      ]
     },
     "metadata": {
      "needs_background": "light"
     },
     "output_type": "display_data"
    }
   ],
   "source": [
    "from matplotlib import pyplot as plt\n",
    "\n",
    "weights = network[0][0]               # first neuron in hidden layer\n",
    "abs_weights = map(abs, weights)       # darkness only depends on absolute value\n",
    "\n",
    "\n",
    "grid = [abs_weights[row:(row+5)]      # turn the weights into a 5x5 grid\n",
    "        for row in range(0,25,5)]     # [weights[0:5], ..., weights[20:25]]\n",
    "\n",
    "ax = plt.gca()                        # to use hatching, we'll need the axis\n",
    "\n",
    "ax.imshow(grid,                       # here same as plt.imshow\n",
    "          cmap=matplotlib.cm.binary,  # use white-black color scale\n",
    "          interpolation='none')       # plot blocks as blocks\n",
    "\n",
    "def patch(x, y, hatch, color):\n",
    "    \"\"\"return a matplotlib 'patch' object with the specified\n",
    "    location, crosshatch pattern, and color\"\"\"\n",
    "    return matplotlib.patches.Rectangle((x - 0.5, y - 0.5), 1, 1,\n",
    "                                        hatch=hatch, fill=False, color=color)\n",
    "\n",
    "# cross-hatch the negative weights\n",
    "for i in range(5):                    # row\n",
    "    for j in range(5):                # column\n",
    "        if weights[5*i + j] < 0:      # row i, column j = weights[5*i + j]\n",
    "            # add black and white hatches, so visible whether dark or light\n",
    "            ax.add_patch(patch(j, i, '/',  \"white\"))\n",
    "            ax.add_patch(patch(j, i, '\\\\', \"black\"))\n",
    "\n",
    "plt.show()"
   ]
  },
  {
   "cell_type": "code",
   "execution_count": 30,
   "metadata": {},
   "outputs": [
    {
     "name": "stdout",
     "output_type": "stream",
     "text": [
      "0.999959524615\n",
      "0.954107627065\n",
      "8.71509188498e-09\n"
     ]
    }
   ],
   "source": [
    "left_column_only = [1, 0, 0, 0, 0] * 5\n",
    "print feed_forward(network, left_column_only)[0][0]  # 1.0\n",
    "\n",
    "center_middle_row = [0, 0, 0, 0, 0] * 2 + [0, 1, 1, 1, 0] + [0, 0, 0, 0, 0] * 2\n",
    "print feed_forward(network, center_middle_row)[0][0]  # 0.95\n",
    "\n",
    "right_column_only = [0, 0, 0, 0, 1] * 5\n",
    "print feed_forward(network, right_column_only)[0][0]  # 0.0"
   ]
  },
  {
   "cell_type": "code",
   "execution_count": 31,
   "metadata": {},
   "outputs": [],
   "source": [
    "my_three =  [0,1,1,1,0,  # .@@@.\n",
    "             0,0,0,1,1,  # ...@@\n",
    "             0,0,1,1,0,  # ..@@.\n",
    "             0,0,0,1,1,  # ...@@\n",
    "             0,1,1,1,0]  # .@@@.\n",
    "\n",
    "hidden, output = feed_forward(network, my_three)"
   ]
  },
  {
   "cell_type": "code",
   "execution_count": 32,
   "metadata": {},
   "outputs": [
    {
     "data": {
      "text/plain": [
       "0.9194716562747247"
      ]
     },
     "execution_count": 32,
     "metadata": {},
     "output_type": "execute_result"
    }
   ],
   "source": [
    "sigmoid(.121 * -11.61 + 1 * -2.17 + 1 * 9.31 - 1.38 * 1 - 0 * 11.47 - 1.92)"
   ]
  },
  {
   "cell_type": "code",
   "execution_count": null,
   "metadata": {},
   "outputs": [],
   "source": []
  }
 ],
 "metadata": {
  "kernelspec": {
   "display_name": "Python 2",
   "language": "python",
   "name": "python2"
  },
  "language_info": {
   "codemirror_mode": {
    "name": "ipython",
    "version": 2
   },
   "file_extension": ".py",
   "mimetype": "text/x-python",
   "name": "python",
   "nbconvert_exporter": "python",
   "pygments_lexer": "ipython2",
   "version": "2.7.15"
  }
 },
 "nbformat": 4,
 "nbformat_minor": 2
}
