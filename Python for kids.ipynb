{
 "cells": [
  {
   "cell_type": "code",
   "execution_count": 2,
   "metadata": {},
   "outputs": [],
   "source": [
    "found_coins = 20\n",
    "magic_coins = 10\n",
    "stolen_coins = 3"
   ]
  },
  {
   "cell_type": "code",
   "execution_count": 3,
   "metadata": {},
   "outputs": [
    {
     "data": {
      "text/plain": [
       "3514"
      ]
     },
     "execution_count": 3,
     "metadata": {},
     "output_type": "execute_result"
    }
   ],
   "source": [
    "found_coins + magic_coins * 365 - stolen_coins * 52"
   ]
  },
  {
   "cell_type": "code",
   "execution_count": 4,
   "metadata": {},
   "outputs": [],
   "source": [
    "stolen_coins = 2"
   ]
  },
  {
   "cell_type": "code",
   "execution_count": 5,
   "metadata": {},
   "outputs": [
    {
     "data": {
      "text/plain": [
       "3566"
      ]
     },
     "execution_count": 5,
     "metadata": {},
     "output_type": "execute_result"
    }
   ],
   "source": [
    "found_coins + magic_coins * 365 - stolen_coins * 52"
   ]
  },
  {
   "cell_type": "code",
   "execution_count": 6,
   "metadata": {},
   "outputs": [],
   "source": [
    "magic_coins = 13"
   ]
  },
  {
   "cell_type": "code",
   "execution_count": 7,
   "metadata": {},
   "outputs": [
    {
     "data": {
      "text/plain": [
       "4661"
      ]
     },
     "execution_count": 7,
     "metadata": {},
     "output_type": "execute_result"
    }
   ],
   "source": [
    "found_coins + magic_coins * 365 - stolen_coins * 52"
   ]
  },
  {
   "cell_type": "code",
   "execution_count": 9,
   "metadata": {},
   "outputs": [],
   "source": [
    "# single quote string \n",
    "single_quote_str = 'He said, \"Aren\\'t can\\'t shouldn\\'t wouldn\\'t.”'"
   ]
  },
  {
   "cell_type": "code",
   "execution_count": 11,
   "metadata": {},
   "outputs": [],
   "source": [
    "# double quote string \n",
    "double_quote_str = \"He said, \\\"Aren't can't shouldn't wouldn't.\\\"\""
   ]
  },
  {
   "cell_type": "code",
   "execution_count": 12,
   "metadata": {},
   "outputs": [
    {
     "name": "stdout",
     "output_type": "stream",
     "text": [
      "He said, \"Aren't can't shouldn't wouldn't.”\n"
     ]
    }
   ],
   "source": [
    "print(single_quote_str)"
   ]
  },
  {
   "cell_type": "code",
   "execution_count": 13,
   "metadata": {},
   "outputs": [
    {
     "name": "stdout",
     "output_type": "stream",
     "text": [
      "He said, \"Aren't can't shouldn't wouldn't.\"\n"
     ]
    }
   ],
   "source": [
    "print(double_quote_str)"
   ]
  },
  {
   "cell_type": "code",
   "execution_count": 14,
   "metadata": {},
   "outputs": [
    {
     "name": "stdout",
     "output_type": "stream",
     "text": [
      "I scored 1000 points\n"
     ]
    }
   ],
   "source": [
    "myscore = 1000\n",
    "message = 'I scored %s points'\n",
    "print(message % myscore)"
   ]
  },
  {
   "cell_type": "code",
   "execution_count": 15,
   "metadata": {},
   "outputs": [],
   "source": [
    "joke_text = '%s: a device for finding furniture in the dark'\n",
    "bodypart1 = 'Knee'\n",
    "bodypart2 = 'Shin'"
   ]
  },
  {
   "cell_type": "code",
   "execution_count": 16,
   "metadata": {},
   "outputs": [
    {
     "name": "stdout",
     "output_type": "stream",
     "text": [
      "Knee: a device for finding furniture in the dark\n"
     ]
    }
   ],
   "source": [
    "print(joke_text % bodypart1)"
   ]
  },
  {
   "cell_type": "code",
   "execution_count": 17,
   "metadata": {},
   "outputs": [
    {
     "name": "stdout",
     "output_type": "stream",
     "text": [
      "Shin: a device for finding furniture in the dark\n"
     ]
    }
   ],
   "source": [
    "print(joke_text % bodypart2)"
   ]
  },
  {
   "cell_type": "code",
   "execution_count": 18,
   "metadata": {},
   "outputs": [],
   "source": [
    "nums = 'What did the number %s say to the number %s? Nice belt!!'"
   ]
  },
  {
   "cell_type": "code",
   "execution_count": 19,
   "metadata": {},
   "outputs": [
    {
     "name": "stdout",
     "output_type": "stream",
     "text": [
      "What did the number 0 say to the number 8? Nice belt!!\n"
     ]
    }
   ],
   "source": [
    "print(nums % (0, 8))"
   ]
  },
  {
   "cell_type": "code",
   "execution_count": 25,
   "metadata": {},
   "outputs": [
    {
     "name": "stdout",
     "output_type": "stream",
     "text": [
      "                          12 Butts Wynd\n",
      "                          Twinklebottom Heath\n",
      "                          West Snoring\n",
      "()\n",
      "()\n",
      "Dear Sir\n",
      "()\n",
      "I wish to report that tiles are missing from the\n",
      "outside toilet roof.\n",
      "I think it was bad wind the other night that blew them away.\n",
      "()\n",
      "Regards\n",
      "Malcolm Dithering\n"
     ]
    }
   ],
   "source": [
    "# MULTIPLYING STRINGS\n",
    "spaces = ' ' * 25\n",
    "print('%s 12 Butts Wynd' % spaces)\n",
    "print('%s Twinklebottom Heath' % spaces)\n",
    "print('%s West Snoring' % spaces)\n",
    "print()\n",
    "print()\n",
    "print('Dear Sir')\n",
    "print()\n",
    "print('I wish to report that tiles are missing from the')\n",
    "print('outside toilet roof.')\n",
    "print('I think it was bad wind the other night that blew them away.')\n",
    "print()\n",
    "print('Regards')\n",
    "print('Malcolm Dithering')"
   ]
  },
  {
   "cell_type": "code",
   "execution_count": 2,
   "metadata": {},
   "outputs": [],
   "source": [
    "wizard_list = ['spider legs', 'toe of frog', 'eye of newt','bat wing', 'slug butter', 'snake dandruff']"
   ]
  },
  {
   "cell_type": "code",
   "execution_count": 3,
   "metadata": {},
   "outputs": [
    {
     "name": "stdout",
     "output_type": "stream",
     "text": [
      "['spider legs', 'toe of frog', 'eye of newt', 'bat wing', 'slug butter', 'snake dandruff']\n"
     ]
    }
   ],
   "source": [
    "print(wizard_list)"
   ]
  },
  {
   "cell_type": "code",
   "execution_count": 4,
   "metadata": {},
   "outputs": [
    {
     "name": "stdout",
     "output_type": "stream",
     "text": [
      "eye of newt\n"
     ]
    }
   ],
   "source": [
    "print(wizard_list[2])"
   ]
  },
  {
   "cell_type": "code",
   "execution_count": 5,
   "metadata": {},
   "outputs": [],
   "source": [
    "wizard_list[2] = 'snail tongue'"
   ]
  },
  {
   "cell_type": "code",
   "execution_count": 6,
   "metadata": {},
   "outputs": [
    {
     "name": "stdout",
     "output_type": "stream",
     "text": [
      "['spider legs', 'toe of frog', 'snail tongue', 'bat wing', 'slug butter', 'snake dandruff']\n"
     ]
    }
   ],
   "source": [
    "print(wizard_list)"
   ]
  },
  {
   "cell_type": "code",
   "execution_count": 7,
   "metadata": {},
   "outputs": [
    {
     "name": "stdout",
     "output_type": "stream",
     "text": [
      "['snail tongue', 'bat wing', 'slug butter']\n"
     ]
    }
   ],
   "source": [
    "print(wizard_list[2:5])"
   ]
  },
  {
   "cell_type": "code",
   "execution_count": 8,
   "metadata": {},
   "outputs": [],
   "source": [
    "some_numbers = [1, 2, 5, 10, 20]"
   ]
  },
  {
   "cell_type": "code",
   "execution_count": 9,
   "metadata": {},
   "outputs": [],
   "source": [
    "some_strings = ['Which', 'Witch', 'Is', 'Which']"
   ]
  },
  {
   "cell_type": "code",
   "execution_count": 10,
   "metadata": {},
   "outputs": [],
   "source": [
    "numbers_and_strings = ['Why', 'was', 6, 'afraid', 'of', 7,'because', 7, 8, 9]"
   ]
  },
  {
   "cell_type": "code",
   "execution_count": 11,
   "metadata": {},
   "outputs": [
    {
     "name": "stdout",
     "output_type": "stream",
     "text": [
      "['Why', 'was', 6, 'afraid', 'of', 7, 'because', 7, 8, 9]\n"
     ]
    }
   ],
   "source": [
    "print(numbers_and_strings)"
   ]
  },
  {
   "cell_type": "code",
   "execution_count": 12,
   "metadata": {},
   "outputs": [],
   "source": [
    "# “And lists might even store other lists:”\n",
    "numbers = [1, 2, 3, 4]\n",
    "strings = ['I', 'kicked', 'my', 'toe', 'and', 'it', 'is', 'sore']\n",
    "mylist = [numbers, strings]"
   ]
  },
  {
   "cell_type": "code",
   "execution_count": 13,
   "metadata": {},
   "outputs": [
    {
     "name": "stdout",
     "output_type": "stream",
     "text": [
      "[[1, 2, 3, 4], ['I', 'kicked', 'my', 'toe', 'and', 'it', 'is', 'sore']]\n"
     ]
    }
   ],
   "source": [
    "print(mylist)"
   ]
  },
  {
   "cell_type": "code",
   "execution_count": 14,
   "metadata": {},
   "outputs": [],
   "source": [
    "#append adds an item to the end of a list.\n",
    "wizard_list.append('bear burp')"
   ]
  },
  {
   "cell_type": "code",
   "execution_count": 15,
   "metadata": {},
   "outputs": [
    {
     "name": "stdout",
     "output_type": "stream",
     "text": [
      "['spider legs', 'toe of frog', 'snail tongue', 'bat wing', 'slug butter', 'snake dandruff', 'bear burp']\n"
     ]
    }
   ],
   "source": [
    "print(wizard_list)"
   ]
  },
  {
   "cell_type": "code",
   "execution_count": 16,
   "metadata": {},
   "outputs": [],
   "source": [
    "wizard_list.append('mandrake')\n",
    "wizard_list.append('hemlock')\n",
    "wizard_list.append('swamp gas')"
   ]
  },
  {
   "cell_type": "code",
   "execution_count": 17,
   "metadata": {},
   "outputs": [
    {
     "name": "stdout",
     "output_type": "stream",
     "text": [
      "['spider legs', 'toe of frog', 'snail tongue', 'bat wing', 'slug butter', 'snake dandruff', 'bear burp', 'mandrake', 'hemlock', 'swamp gas']\n"
     ]
    }
   ],
   "source": [
    "print(wizard_list)"
   ]
  },
  {
   "cell_type": "code",
   "execution_count": 18,
   "metadata": {},
   "outputs": [],
   "source": [
    "# “REMOVING ITEMS FROM A LIST”\n",
    "del wizard_list[5]"
   ]
  },
  {
   "cell_type": "code",
   "execution_count": 19,
   "metadata": {},
   "outputs": [
    {
     "name": "stdout",
     "output_type": "stream",
     "text": [
      "['spider legs', 'toe of frog', 'snail tongue', 'bat wing', 'slug butter', 'bear burp', 'mandrake', 'hemlock', 'swamp gas']\n"
     ]
    }
   ],
   "source": [
    "print(wizard_list)"
   ]
  },
  {
   "cell_type": "code",
   "execution_count": 20,
   "metadata": {},
   "outputs": [],
   "source": [
    "del wizard_list[8]\n",
    "del wizard_list[7]\n",
    "del wizard_list[6]"
   ]
  },
  {
   "cell_type": "code",
   "execution_count": 21,
   "metadata": {},
   "outputs": [
    {
     "name": "stdout",
     "output_type": "stream",
     "text": [
      "['spider legs', 'toe of frog', 'snail tongue', 'bat wing', 'slug butter', 'bear burp']\n"
     ]
    }
   ],
   "source": [
    "print(wizard_list)"
   ]
  },
  {
   "cell_type": "code",
   "execution_count": 22,
   "metadata": {},
   "outputs": [],
   "source": [
    "# LIST ARITHMETIC\n",
    "\n",
    "list1 = [1, 2, 3, 4]\n",
    "list2 = ['I', 'tripped', 'over', 'and', 'hit', 'the', 'floor']"
   ]
  },
  {
   "cell_type": "code",
   "execution_count": 23,
   "metadata": {},
   "outputs": [
    {
     "name": "stdout",
     "output_type": "stream",
     "text": [
      "[1, 2, 3, 4, 'I', 'tripped', 'over', 'and', 'hit', 'the', 'floor']\n"
     ]
    }
   ],
   "source": [
    "print(list1 + list2)"
   ]
  },
  {
   "cell_type": "code",
   "execution_count": 24,
   "metadata": {},
   "outputs": [],
   "source": [
    "list1 = [1, 2, 3, 4]\n",
    "list2 = ['I', 'ate', 'chocolate', 'and', 'I', 'want', 'more']"
   ]
  },
  {
   "cell_type": "code",
   "execution_count": 25,
   "metadata": {},
   "outputs": [],
   "source": [
    "list3 = list1 + list2"
   ]
  },
  {
   "cell_type": "code",
   "execution_count": 26,
   "metadata": {},
   "outputs": [
    {
     "name": "stdout",
     "output_type": "stream",
     "text": [
      "[1, 2, 3, 4, 'I', 'ate', 'chocolate', 'and', 'I', 'want', 'more']\n"
     ]
    }
   ],
   "source": [
    "print(list3)"
   ]
  },
  {
   "cell_type": "code",
   "execution_count": 28,
   "metadata": {},
   "outputs": [
    {
     "name": "stdout",
     "output_type": "stream",
     "text": [
      "[1, 2, 1, 2, 1, 2, 1, 2, 1, 2]\n"
     ]
    }
   ],
   "source": [
    "# LIST ARITHMETIC\n",
    "list1 = [1, 2]\n",
    "print(list1 * 5)\n",
    "\n",
    "# This is actually telling Python to repeat list1 five times"
   ]
  },
  {
   "cell_type": "code",
   "execution_count": 29,
   "metadata": {},
   "outputs": [
    {
     "name": "stdout",
     "output_type": "stream",
     "text": [
      "2\n"
     ]
    }
   ],
   "source": [
    "# TUPLE \n",
    "# A tuple is like a list that uses parentheses\n",
    "# The main difference between a tuple and a list is that a tuple cannot change once you’ve created it. \n",
    "\n",
    "fibs = (0, 1, 1, 2, 3)\n",
    "print(fibs[3])"
   ]
  },
  {
   "cell_type": "code",
   "execution_count": 31,
   "metadata": {},
   "outputs": [],
   "source": [
    "# MAPS \n",
    "# A map (also referred to as a dict, short for dictionary) is a collection of things, like lists and tuples. \n",
    "# The difference between maps and lists or tuples is that each item in a map has a key and a corresponding value\n",
    "\n",
    "favorite_sports = {'Ralph Williams' : 'Football', 'Michael Tippett' : 'Basketball', 'Edward Elgar' : 'Baseball', 'Rebecca Clarke' : 'Netball', 'Ethel Smyth' : 'Badminton', 'Frank Bridge' : 'Rugby'}"
   ]
  },
  {
   "cell_type": "code",
   "execution_count": 33,
   "metadata": {},
   "outputs": [
    {
     "name": "stdout",
     "output_type": "stream",
     "text": [
      "Netball\n"
     ]
    }
   ],
   "source": [
    "print(favorite_sports['Rebecca Clarke'])"
   ]
  },
  {
   "cell_type": "code",
   "execution_count": 34,
   "metadata": {},
   "outputs": [
    {
     "name": "stdout",
     "output_type": "stream",
     "text": [
      "{'Rebecca Clarke': 'Netball', 'Michael Tippett': 'Basketball', 'Ralph Williams': 'Football', 'Edward Elgar': 'Baseball', 'Frank Bridge': 'Rugby'}\n"
     ]
    }
   ],
   "source": [
    "del favorite_sports['Ethel Smyth']\n",
    "print(favorite_sports)"
   ]
  },
  {
   "cell_type": "code",
   "execution_count": 35,
   "metadata": {},
   "outputs": [
    {
     "name": "stdout",
     "output_type": "stream",
     "text": [
      "{'Rebecca Clarke': 'Netball', 'Michael Tippett': 'Basketball', 'Ralph Williams': 'Ice Hockey', 'Edward Elgar': 'Baseball', 'Frank Bridge': 'Rugby'}\n"
     ]
    }
   ],
   "source": [
    "favorite_sports['Ralph Williams'] = 'Ice Hockey'\n",
    "print(favorite_sports)"
   ]
  },
  {
   "cell_type": "code",
   "execution_count": 36,
   "metadata": {},
   "outputs": [
    {
     "name": "stdout",
     "output_type": "stream",
     "text": [
      "['Listening to music', 'Watching movies', 'Hanging out', 'Eating', 'Reading', 'Enchiladas', 'Cochinita pibil', 'Tacos', 'Pizza', 'Chocolate']\n"
     ]
    }
   ],
   "source": [
    "# EXERCISES CHAPTER 3 \n",
    "# Make a list of your favorite hobbies and give the list the variable name games. \n",
    "\n",
    "games = ['Listening to music', 'Watching movies', 'Hanging out','Eating', 'Reading']\n",
    "\n",
    "# Now make a list of your favorite foods and name the variable foods. \n",
    "\n",
    "foods = ['Enchiladas', 'Cochinita pibil', 'Tacos','Pizza', 'Chocolate']\n",
    "\n",
    "# Join the two lists and name the result favorites. Finally, print the variable favorites.\n",
    "\n",
    "favorites= games + foods\n",
    "print(favorites)"
   ]
  },
  {
   "cell_type": "code",
   "execution_count": 48,
   "metadata": {},
   "outputs": [
    {
     "name": "stdout",
     "output_type": "stream",
     "text": [
      "Hi there, Cecilia Ramos\n"
     ]
    }
   ],
   "source": [
    "# Create two variables: one that points to your first name and one that points to your last name. \n",
    "# Now create a string and use placeholders to print your name with a message using those two variables, \n",
    "# such as “Hi there, Brando Ickett!”\n",
    "\n",
    "firstname = 'Cecilia'\n",
    "secondname = 'Ramos'\n",
    "message = ('Hi there, %s') + ' ' + secondname\n",
    "print(message % firstname)"
   ]
  },
  {
   "cell_type": "code",
   "execution_count": 1,
   "metadata": {},
   "outputs": [],
   "source": [
    "# “In the world of Python, a turtle is a small, black arrow that moves slowly around the screen. ”\n",
    "import turtle\n"
   ]
  },
  {
   "cell_type": "code",
   "execution_count": 2,
   "metadata": {},
   "outputs": [],
   "source": [
    "t = turtle.Pen()"
   ]
  },
  {
   "cell_type": "code",
   "execution_count": 3,
   "metadata": {},
   "outputs": [],
   "source": [
    "t.forward(50)"
   ]
  },
  {
   "cell_type": "code",
   "execution_count": 4,
   "metadata": {},
   "outputs": [],
   "source": [
    " t.left(90)"
   ]
  },
  {
   "cell_type": "code",
   "execution_count": 5,
   "metadata": {},
   "outputs": [],
   "source": [
    "t.forward(50)\n",
    "t.left(90)\n",
    "t.forward(50)\n",
    "t.left(90)\n",
    "t.forward(50)\n",
    "t.left(90)"
   ]
  },
  {
   "cell_type": "code",
   "execution_count": 6,
   "metadata": {},
   "outputs": [],
   "source": [
    "t.reset()"
   ]
  },
  {
   "cell_type": "code",
   "execution_count": 7,
   "metadata": {},
   "outputs": [],
   "source": [
    "t.reset()\n",
    "t.backward(100)\n",
    "t.up()\n",
    "t.right(90)\n",
    "t.forward(20)\n",
    "t.left(90)\n",
    "t.down()\n",
    "t.forward(100)"
   ]
  },
  {
   "cell_type": "code",
   "execution_count": 6,
   "metadata": {},
   "outputs": [],
   "source": [
    "# IF STATEMENTS\n",
    "\n",
    "age = 13\n",
    "if age > 20:\n",
    "    print('You are too old!')"
   ]
  },
  {
   "cell_type": "code",
   "execution_count": 7,
   "metadata": {},
   "outputs": [
    {
     "name": "stdout",
     "output_type": "stream",
     "text": [
      "You are too old!\n",
      "Why are you here?\n",
      "Why aren't you mowing a lawn or sorting papers?\n"
     ]
    }
   ],
   "source": [
    "# A block of code is a grouped set of programming statements.\n",
    "\n",
    "age = 25\n",
    "if age > 20:\n",
    "    print('You are too old!')\n",
    "    print('Why are you here?')\n",
    "    print('Why aren\\'t you mowing a lawn or sorting papers?')\n",
    "    \n",
    "# In Python, whitespace, such as a tab or a space,is meaningful. Code that is at the same position \n",
    "# indented the same number of spaces from the left margin) is grouped into a block, and whenever you start a \n",
    "# new line with more spaces than the previous one, you are starting a new block that is part of the previous one”"
   ]
  },
  {
   "cell_type": "code",
   "execution_count": 8,
   "metadata": {},
   "outputs": [
    {
     "name": "stdout",
     "output_type": "stream",
     "text": [
      "You are too old for my jokes!\n"
     ]
    }
   ],
   "source": [
    "age = 10\n",
    "if age >= 10:\n",
    "    print('You are too old for my jokes!')"
   ]
  },
  {
   "cell_type": "code",
   "execution_count": 9,
   "metadata": {},
   "outputs": [
    {
     "name": "stdout",
     "output_type": "stream",
     "text": [
      "What's brown and sticky? A stick!!\n"
     ]
    }
   ],
   "source": [
    "age = 10\n",
    "if age == 10:\n",
    "    print('What\\'s brown and sticky? A stick!!')"
   ]
  },
  {
   "cell_type": "code",
   "execution_count": 10,
   "metadata": {},
   "outputs": [
    {
     "name": "stdout",
     "output_type": "stream",
     "text": [
      "Want to hear a dirty joke?\n",
      "A pig fell in the mud!\n"
     ]
    }
   ],
   "source": [
    "# IF-THEN-ELSE STATEMENTS\n",
    "print(\"Want to hear a dirty joke?\")\n",
    "age = 12\n",
    "if age == 12:\n",
    "    print(\"A pig fell in the mud!\")\n",
    "else:\n",
    "    print(\"Shh. It's a secret.\")"
   ]
  },
  {
   "cell_type": "code",
   "execution_count": 11,
   "metadata": {},
   "outputs": [
    {
     "name": "stdout",
     "output_type": "stream",
     "text": [
      "Want to hear a dirty joke?\n",
      "Shh. It's a secret.\n"
     ]
    }
   ],
   "source": [
    "# IF-THEN-ELSE STATEMENTS\n",
    "print(\"Want to hear a dirty joke?\")\n",
    "age = 8\n",
    "if age == 12:\n",
    "    print(\"A pig fell in the mud!\")\n",
    "else:\n",
    "    print(\"Shh. It's a secret.\")"
   ]
  },
  {
   "cell_type": "code",
   "execution_count": 14,
   "metadata": {},
   "outputs": [
    {
     "name": "stdout",
     "output_type": "stream",
     "text": [
      "What did 0 say to 8?\n",
      "Hi guys!\n"
     ]
    }
   ],
   "source": [
    "# IF AND ELIF STATEMENTS\n",
    "\n",
    "age = 12\n",
    "if age == 10:\n",
    "    print(\"What do you call an unhappy cranberry?\")\n",
    "    print(\"A blueberry!\")\n",
    "elif age == 11:\n",
    "    print(\"What did the green grape say to the blue grape?\")\n",
    "    print(\"Breathe! Breathe!\")\n",
    "elif age == 12:\n",
    "    print(\"What did 0 say to 8?\")\n",
    "    print(\"Hi guys!\")\n",
    "elif age == 13:\n",
    "    print(\"Why wasn't 10 afraid of 7?\")\n",
    "    print(\"Because rather than eating 9, 7 8 pi.\")\n",
    "else:\n",
    "    print(\"Huh?\")"
   ]
  },
  {
   "cell_type": "code",
   "execution_count": 1,
   "metadata": {},
   "outputs": [
    {
     "name": "stdout",
     "output_type": "stream",
     "text": [
      "The variable myval doesn't have a value\n"
     ]
    }
   ],
   "source": [
    "# “VARIABLES WITH NO VALUE—NONE”\n",
    "\n",
    "myval = None\n",
    "if myval == None:\n",
    "    print(\"The variable myval doesn't have a value\")"
   ]
  },
  {
   "cell_type": "code",
   "execution_count": 2,
   "metadata": {},
   "outputs": [
    {
     "name": "stdout",
     "output_type": "stream",
     "text": [
      "What's the best way to speak to a monster?\n",
      "From as far away as possible!\n"
     ]
    }
   ],
   "source": [
    "# Python has magic functions that can turn strings into numbers and numbers into strings.\n",
    "\n",
    "age = '10'\n",
    "converted_age = int(age)\n",
    "if converted_age == 10:\n",
    "    print(\"What's the best way to speak to a monster?\")\n",
    "    print(\"From as far away as possible!\")"
   ]
  },
  {
   "cell_type": "code",
   "execution_count": 3,
   "metadata": {},
   "outputs": [
    {
     "name": "stdout",
     "output_type": "stream",
     "text": [
      "I'm rich!!\n"
     ]
    }
   ],
   "source": [
    "money = 2000\n",
    "if money > 1000:\n",
    "    print(\"I'm rich!!\")\n",
    "else:\n",
    "    print(\"I'm not rich!!\")\n",
    "    print(\"But I might be later...\")"
   ]
  },
  {
   "cell_type": "code",
   "execution_count": 5,
   "metadata": {},
   "outputs": [
    {
     "name": "stdout",
     "output_type": "stream",
     "text": [
      "Your number is between 100 and 500\n"
     ]
    }
   ],
   "source": [
    "# PROGRAMMING PUZZLES\n",
    "# Create an if statement that checks whether the amount of money contained in the variable money \n",
    "# is between 100 and 500 or between 1,000 and 5,000.\n",
    "\n",
    "money= 458 \n",
    "if money >= 100 and money <= 500:\n",
    "    print (\"Your number is between 100 and 500\")\n",
    "elif money >= 1000 and money <= 5000:\n",
    "    print (\"Your number is between 1000 and 5000\")\n",
    "else: \n",
    "    print (\"Your number is not in the range (100-500) or in the range (1000-5000)\")"
   ]
  },
  {
   "cell_type": "code",
   "execution_count": 6,
   "metadata": {},
   "outputs": [
    {
     "name": "stdout",
     "output_type": "stream",
     "text": [
      "Your number is between 1000 and 5000\n"
     ]
    }
   ],
   "source": [
    "# PROGRAMMING PUZZLES\n",
    "# Create an if statement that checks whether the amount of money contained in the variable money \n",
    "# is between 100 and 500 or between 1,000 and 5,000.\n",
    "\n",
    "money= 2020 \n",
    "if money >= 100 and money <= 500:\n",
    "    print (\"Your number is between 100 and 500\")\n",
    "elif money >= 1000 and money <= 5000:\n",
    "    print (\"Your number is between 1000 and 5000\")\n",
    "else: \n",
    "    print (\"Your number is not in the range (100-500) or in the range (1000-5000)\")"
   ]
  },
  {
   "cell_type": "code",
   "execution_count": 7,
   "metadata": {},
   "outputs": [
    {
     "name": "stdout",
     "output_type": "stream",
     "text": [
      "Your number is not in the range (100-500) or in the range (1000-5000)\n"
     ]
    }
   ],
   "source": [
    "# PROGRAMMING PUZZLES\n",
    "# Create an if statement that checks whether the amount of money contained in the variable money \n",
    "# is between 100 and 500 or between 1,000 and 5,000.\n",
    "\n",
    "money= 36350 \n",
    "if money >= 100 and money <= 500:\n",
    "    print (\"Your number is between 100 and 500\")\n",
    "elif money >= 1000 and money <= 5000:\n",
    "    print (\"Your number is between 1000 and 5000\")\n",
    "else: \n",
    "    print (\"Your number is not in the range (100-500) or in the range (1000-5000)\")"
   ]
  },
  {
   "cell_type": "code",
   "execution_count": 2,
   "metadata": {},
   "outputs": [
    {
     "name": "stdout",
     "output_type": "stream",
     "text": [
      "hello\n",
      "hello\n",
      "hello\n",
      "hello\n",
      "hello\n"
     ]
    }
   ],
   "source": [
    "# LOOPS\n",
    "\n",
    "# The function -range- can be used to create a list of numbers ranging from a starting number up \n",
    "# to the number just before the ending \n",
    "\n",
    "for x in range(0, 5):\n",
    "    print('hello')"
   ]
  },
  {
   "cell_type": "code",
   "execution_count": 3,
   "metadata": {},
   "outputs": [
    {
     "name": "stdout",
     "output_type": "stream",
     "text": [
      "[10, 11, 12, 13, 14, 15, 16, 17, 18, 19]\n"
     ]
    }
   ],
   "source": [
    "# The range function doesn’t actually create a list of numbers; \n",
    "# it returns an iterator, which is a type of Python object specially designed to work with loops. \n",
    "# However, if we combine range with list, we get a list of numbers.\n",
    "\n",
    "print(list(range(10, 20)))"
   ]
  },
  {
   "cell_type": "code",
   "execution_count": 4,
   "metadata": {},
   "outputs": [
    {
     "name": "stdout",
     "output_type": "stream",
     "text": [
      "hello 0\n",
      "hello 1\n",
      "hello 2\n",
      "hello 3\n",
      "hello 4\n"
     ]
    }
   ],
   "source": [
    "for x in range(0, 5):\n",
    "    print('hello %s' % x)"
   ]
  },
  {
   "cell_type": "code",
   "execution_count": 5,
   "metadata": {},
   "outputs": [
    {
     "name": "stdout",
     "output_type": "stream",
     "text": [
      "spider legs\n",
      "toe of frog\n",
      "snail tongue\n",
      "bat wing\n",
      "slug butter\n",
      "bear burp\n"
     ]
    }
   ],
   "source": [
    "wizard_list = ['spider legs', 'toe of frog', 'snail tongue','bat wing', 'slug butter', 'bear burp']\n",
    "for i in wizard_list:\n",
    "    print(i)\n",
    "# This code is a way of saying, “For each item in wizard_list, store the value in the variable i, \n",
    "# and then print the contents of that variable.” "
   ]
  },
  {
   "cell_type": "code",
   "execution_count": 6,
   "metadata": {},
   "outputs": [
    {
     "name": "stdout",
     "output_type": "stream",
     "text": [
      "huge\n",
      "huge\n",
      "hairy\n",
      "hairy\n",
      "pants\n",
      "pants\n"
     ]
    }
   ],
   "source": [
    "hugehairypants = ['huge', 'hairy', 'pants']\n",
    "for i in hugehairypants:\n",
    "    print(i)\n",
    "    print(i)\n",
    "    "
   ]
  },
  {
   "cell_type": "code",
   "execution_count": 7,
   "metadata": {},
   "outputs": [
    {
     "name": "stdout",
     "output_type": "stream",
     "text": [
      "huge\n",
      "huge\n",
      "hairy\n",
      "pants\n",
      "hairy\n",
      "huge\n",
      "hairy\n",
      "pants\n",
      "pants\n",
      "huge\n",
      "hairy\n",
      "pants\n"
     ]
    }
   ],
   "source": [
    "hugehairypants = ['huge', 'hairy', 'pants']\n",
    "for i in hugehairypants:\n",
    "    print(i)\n",
    "    for j in hugehairypants:\n",
    "        print(j)"
   ]
  },
  {
   "cell_type": "code",
   "execution_count": 8,
   "metadata": {},
   "outputs": [
    {
     "name": "stdout",
     "output_type": "stream",
     "text": [
      "Week 1 = 87\n",
      "Week 2 = 154\n",
      "Week 3 = 221\n",
      "Week 4 = 288\n",
      "Week 5 = 355\n",
      "Week 6 = 422\n",
      "Week 7 = 489\n",
      "Week 8 = 556\n",
      "Week 9 = 623\n",
      "Week 10 = 690\n",
      "Week 11 = 757\n",
      "Week 12 = 824\n",
      "Week 13 = 891\n",
      "Week 14 = 958\n",
      "Week 15 = 1025\n",
      "Week 16 = 1092\n",
      "Week 17 = 1159\n",
      "Week 18 = 1226\n",
      "Week 19 = 1293\n",
      "Week 20 = 1360\n",
      "Week 21 = 1427\n",
      "Week 22 = 1494\n",
      "Week 23 = 1561\n",
      "Week 24 = 1628\n",
      "Week 25 = 1695\n",
      "Week 26 = 1762\n",
      "Week 27 = 1829\n",
      "Week 28 = 1896\n",
      "Week 29 = 1963\n",
      "Week 30 = 2030\n",
      "Week 31 = 2097\n",
      "Week 32 = 2164\n",
      "Week 33 = 2231\n",
      "Week 34 = 2298\n",
      "Week 35 = 2365\n",
      "Week 36 = 2432\n",
      "Week 37 = 2499\n",
      "Week 38 = 2566\n",
      "Week 39 = 2633\n",
      "Week 40 = 2700\n",
      "Week 41 = 2767\n",
      "Week 42 = 2834\n",
      "Week 43 = 2901\n",
      "Week 44 = 2968\n",
      "Week 45 = 3035\n",
      "Week 46 = 3102\n",
      "Week 47 = 3169\n",
      "Week 48 = 3236\n",
      "Week 49 = 3303\n",
      "Week 50 = 3370\n",
      "Week 51 = 3437\n",
      "Week 52 = 3504\n"
     ]
    }
   ],
   "source": [
    "found_coins = 20\n",
    "magic_coins = 70\n",
    "stolen_coins = 3\n",
    "\n",
    "coins = found_coins\n",
    "for week in range(1, 53):\n",
    "    coins = coins + magic_coins - stolen_coins\n",
    "    print('Week %s = %s' % (week, coins))"
   ]
  },
  {
   "cell_type": "code",
   "execution_count": 1,
   "metadata": {},
   "outputs": [
    {
     "name": "stdout",
     "output_type": "stream",
     "text": [
      "(46, 81)\n",
      "(47, 82)\n",
      "(48, 83)\n",
      "(49, 84)\n",
      "(50, 85)\n"
     ]
    }
   ],
   "source": [
    "# WHILE LOOP \n",
    "\n",
    "# A while loop is a loop that is used when you don’t know ahead of time when it needs to stop looping.\n",
    "\n",
    "# The steps of a while loop are as follows:\n",
    "# 1. Check the condition.\n",
    "# 2. Execute the code in the block.\n",
    "# 3. Repeat.\n",
    "\n",
    "x = 45\n",
    "y = 80\n",
    "while x < 50 and y < 100:\n",
    "    x = x + 1\n",
    "    y = y + 1\n",
    "    print(x, y)"
   ]
  },
  {
   "cell_type": "code",
   "execution_count": 1,
   "metadata": {},
   "outputs": [
    {
     "name": "stdout",
     "output_type": "stream",
     "text": [
      "hello 0\n"
     ]
    }
   ],
   "source": [
    "# “What do you think the following code will do? \n",
    "# First, guess what will happen, and then run the code in Python to see if you were right.\n",
    "# R= sólo imprime 0 porque 0>9 y se sale del ciclo\n",
    "\n",
    "for x in range(0, 20):\n",
    "    print('hello %s' % x)\n",
    "    if x < 9:\n",
    "        break"
   ]
  },
  {
   "cell_type": "code",
   "execution_count": 9,
   "metadata": {},
   "outputs": [
    {
     "name": "stdout",
     "output_type": "stream",
     "text": [
      "1\n",
      "3\n",
      "5\n",
      "7\n",
      "9\n",
      "11\n",
      "13\n",
      "15\n",
      "17\n",
      "19\n",
      "21\n",
      "23\n"
     ]
    }
   ],
   "source": [
    "# Create a loop that prints even numbers until it reaches your year of age or, \n",
    "# if your age is an odd number, prints out odd numbers until it reaches your age.\n",
    "\n",
    "for x in range(1, 24):\n",
    "    if x%2 != 0:\n",
    "        print (x)        "
   ]
  },
  {
   "cell_type": "code",
   "execution_count": 20,
   "metadata": {},
   "outputs": [
    {
     "name": "stdout",
     "output_type": "stream",
     "text": [
      "1 pan\n",
      "2 jamón\n",
      "3 crema\n",
      "4 queso manchego\n",
      "5 aguacate\n"
     ]
    }
   ],
   "source": [
    "# “Create a list containing five different sandwich ingredients\n",
    "# Now create a loop that prints out the list (including the numbers)\n",
    "\n",
    "ingredients = ['pan', 'jamón', 'crema','queso manchego', 'aguacate']\n",
    "\n",
    "x = 1\n",
    "for i in ingredients:\n",
    "    print('%s %s' % (x,i))\n",
    "    x=x+1"
   ]
  },
  {
   "cell_type": "code",
   "execution_count": 35,
   "metadata": {},
   "outputs": [
    {
     "name": "stdout",
     "output_type": "stream",
     "text": [
      "Year 1 = 59.415\n",
      "Year 2 = 60.58\n",
      "Year 3 = 61.745\n",
      "Year 4 = 62.91\n",
      "Year 5 = 64.075\n",
      "Year 6 = 65.24\n",
      "Year 7 = 66.405\n",
      "Year 8 = 67.57\n",
      "Year 9 = 68.735\n",
      "Year 10 = 69.9\n",
      "Year 11 = 71.065\n",
      "Year 12 = 72.23\n",
      "Year 13 = 73.395\n",
      "Year 14 = 74.56\n",
      "Year 15 = 75.725\n"
     ]
    }
   ],
   "source": [
    "# “If you gained a kilo in weight every year for the next 15 years, \n",
    "# what would your weight be when you visited the moon each year and at the end of the 15 years? \n",
    "\n",
    "weight = 50\n",
    "\n",
    "for year in range(1, 16):\n",
    "    weight=weight+1\n",
    "    finalweight = (weight*0.165)+weight\n",
    "    print('Year %s = %s' % (year, finalweight))\n",
    "    \n",
    "    "
   ]
  },
  {
   "cell_type": "code",
   "execution_count": 38,
   "metadata": {},
   "outputs": [
    {
     "name": "stdout",
     "output_type": "stream",
     "text": [
      "Hello, Cecilia Ramos\n"
     ]
    }
   ],
   "source": [
    "# Functions are chunks of code that tell Python to do something.\n",
    "# A function has three parts: a name, parameters, and a body\n",
    "\n",
    "def testfunc(fname, lname):\n",
    "    print('Hello, %s %s' % (fname, lname))\n",
    "\n",
    "testfunc('Cecilia', 'Ramos')"
   ]
  },
  {
   "cell_type": "code",
   "execution_count": 39,
   "metadata": {},
   "outputs": [
    {
     "name": "stdout",
     "output_type": "stream",
     "text": [
      "Hello, Joe Robertson\n"
     ]
    }
   ],
   "source": [
    "firstname = 'Joe'\n",
    "lastname = 'Robertson'\n",
    "testfunc(firstname, lastname)"
   ]
  },
  {
   "cell_type": "code",
   "execution_count": 41,
   "metadata": {},
   "outputs": [
    {
     "name": "stdout",
     "output_type": "stream",
     "text": [
      "15\n"
     ]
    }
   ],
   "source": [
    "# A function is often used to return a value, using a return statement. \n",
    "# For example, you could write a function to calculate how much money you were saving:\n",
    "\n",
    "def savings(pocket_money, paper_route, spending):\n",
    "    return pocket_money + paper_route - spending\n",
    "\n",
    "print(savings(10, 10, 5))"
   ]
  },
  {
   "cell_type": "code",
   "execution_count": 42,
   "metadata": {},
   "outputs": [
    {
     "name": "stdout",
     "output_type": "stream",
     "text": [
      "20000\n"
     ]
    }
   ],
   "source": [
    "# A variable that’s inside the body of a function can’t be used again when the function has finished running \n",
    "# because it exists only inside the function. In the world of programming, this is called scope.\n",
    "\n",
    "#If a variable is defined outside the function, it has a different scope. \n",
    "# For example, let’s define a variable before we create our function, and then try using it inside the function:\n",
    "\n",
    "another_variable = 100\n",
    "def variable_test2():\n",
    "    first_variable = 10\n",
    "    second_variable = 20\n",
    "    return first_variable * second_variable * another_variable\n",
    "\n",
    "print(variable_test2())"
   ]
  },
  {
   "cell_type": "code",
   "execution_count": 46,
   "metadata": {},
   "outputs": [],
   "source": [
    "def spaceship_building(cans):\n",
    "    total_cans = 0\n",
    "    for week in range(1, 11):\n",
    "        total_cans = total_cans + cans\n",
    "        print('Week %s = %s cans' % (week, total_cans))"
   ]
  },
  {
   "cell_type": "code",
   "execution_count": 47,
   "metadata": {},
   "outputs": [
    {
     "name": "stdout",
     "output_type": "stream",
     "text": [
      "Week 1 = 2 cans\n",
      "Week 2 = 4 cans\n",
      "Week 3 = 6 cans\n",
      "Week 4 = 8 cans\n",
      "Week 5 = 10 cans\n",
      "Week 6 = 12 cans\n",
      "Week 7 = 14 cans\n",
      "Week 8 = 16 cans\n",
      "Week 9 = 18 cans\n",
      "Week 10 = 20 cans\n"
     ]
    }
   ],
   "source": [
    "spaceship_building(2)"
   ]
  },
  {
   "cell_type": "code",
   "execution_count": 48,
   "metadata": {},
   "outputs": [
    {
     "name": "stdout",
     "output_type": "stream",
     "text": [
      "Week 1 = 13 cans\n",
      "Week 2 = 26 cans\n",
      "Week 3 = 39 cans\n",
      "Week 4 = 52 cans\n",
      "Week 5 = 65 cans\n",
      "Week 6 = 78 cans\n",
      "Week 7 = 91 cans\n",
      "Week 8 = 104 cans\n",
      "Week 9 = 117 cans\n",
      "Week 10 = 130 cans\n"
     ]
    }
   ],
   "source": [
    "spaceship_building(13)"
   ]
  },
  {
   "cell_type": "code",
   "execution_count": 49,
   "metadata": {},
   "outputs": [
    {
     "name": "stdout",
     "output_type": "stream",
     "text": [
      "Mon Apr  6 17:39:09 2020\n"
     ]
    }
   ],
   "source": [
    "# USING MODULES\n",
    "# Modules are used to group functions, variables, and other things together into larger, more powerful programs.\n",
    "\n",
    "# We can then call functions that are available in this module, using the dot symbol.\n",
    "\n",
    "import time\n",
    "print(time.asctime())\n"
   ]
  },
  {
   "cell_type": "code",
   "execution_count": 1,
   "metadata": {},
   "outputs": [],
   "source": [
    "# You can use a print statement, to display a message, and the sys (short for system) module, \n",
    "# which contains utilities for interacting with the Python system itself.\n",
    "\n",
    "import sys"
   ]
  },
  {
   "cell_type": "code",
   "execution_count": 2,
   "metadata": {},
   "outputs": [],
   "source": [
    "# “let’s make the function ask for a person’s age”\n",
    "\n",
    "def silly_age_joke():\n",
    "    print('How old are you?')\n",
    "    age = int(sys.stdin.readline())\n",
    "    if age >= 10 and age <= 13:\n",
    "        print('What is 13 + 49 + 84 + 155 + 97? A headache!')\n",
    "    else:\n",
    "        print('Huh?')"
   ]
  },
  {
   "cell_type": "code",
   "execution_count": 3,
   "metadata": {
    "scrolled": true
   },
   "outputs": [
    {
     "name": "stdout",
     "output_type": "stream",
     "text": [
      "How old are you?\n"
     ]
    },
    {
     "ename": "ValueError",
     "evalue": "invalid literal for int() with base 10: ''",
     "output_type": "error",
     "traceback": [
      "\u001b[0;31m---------------------------------------------------------------------------\u001b[0m",
      "\u001b[0;31mValueError\u001b[0m                                Traceback (most recent call last)",
      "\u001b[0;32m<ipython-input-3-eccaabc2c01e>\u001b[0m in \u001b[0;36m<module>\u001b[0;34m()\u001b[0m\n\u001b[0;32m----> 1\u001b[0;31m \u001b[0msilly_age_joke\u001b[0m\u001b[0;34m(\u001b[0m\u001b[0;34m)\u001b[0m\u001b[0;34m\u001b[0m\u001b[0m\n\u001b[0m",
      "\u001b[0;32m<ipython-input-2-6f45492492d8>\u001b[0m in \u001b[0;36msilly_age_joke\u001b[0;34m()\u001b[0m\n\u001b[1;32m      3\u001b[0m \u001b[0;32mdef\u001b[0m \u001b[0msilly_age_joke\u001b[0m\u001b[0;34m(\u001b[0m\u001b[0;34m)\u001b[0m\u001b[0;34m:\u001b[0m\u001b[0;34m\u001b[0m\u001b[0m\n\u001b[1;32m      4\u001b[0m     \u001b[0;32mprint\u001b[0m\u001b[0;34m(\u001b[0m\u001b[0;34m'How old are you?'\u001b[0m\u001b[0;34m)\u001b[0m\u001b[0;34m\u001b[0m\u001b[0m\n\u001b[0;32m----> 5\u001b[0;31m     \u001b[0mage\u001b[0m \u001b[0;34m=\u001b[0m \u001b[0mint\u001b[0m\u001b[0;34m(\u001b[0m\u001b[0msys\u001b[0m\u001b[0;34m.\u001b[0m\u001b[0mstdin\u001b[0m\u001b[0;34m.\u001b[0m\u001b[0mreadline\u001b[0m\u001b[0;34m(\u001b[0m\u001b[0;34m)\u001b[0m\u001b[0;34m)\u001b[0m\u001b[0;34m\u001b[0m\u001b[0m\n\u001b[0m\u001b[1;32m      6\u001b[0m     \u001b[0;32mif\u001b[0m \u001b[0mage\u001b[0m \u001b[0;34m>=\u001b[0m \u001b[0;36m10\u001b[0m \u001b[0;32mand\u001b[0m \u001b[0mage\u001b[0m \u001b[0;34m<=\u001b[0m \u001b[0;36m13\u001b[0m\u001b[0;34m:\u001b[0m\u001b[0;34m\u001b[0m\u001b[0m\n\u001b[1;32m      7\u001b[0m         \u001b[0;32mprint\u001b[0m\u001b[0;34m(\u001b[0m\u001b[0;34m'What is 13 + 49 + 84 + 155 + 97? A headache!'\u001b[0m\u001b[0;34m)\u001b[0m\u001b[0;34m\u001b[0m\u001b[0m\n",
      "\u001b[0;31mValueError\u001b[0m: invalid literal for int() with base 10: ''"
     ]
    }
   ],
   "source": [
    "silly_age_joke()"
   ]
  },
  {
   "cell_type": "code",
   "execution_count": 6,
   "metadata": {},
   "outputs": [],
   "source": [
    "# PUZZLES \n",
    "\n",
    "# Try creating a function that takes a starting weight and increases the weight amount each year.\n",
    "\n",
    "def moon_weight(weight,increase):\n",
    "    for year in range(1, 16):\n",
    "        weight=weight+increase\n",
    "        finalweight = (weight*0.165)+weight\n",
    "        print('Year %s = %s' % (year, finalweight))"
   ]
  },
  {
   "cell_type": "code",
   "execution_count": 7,
   "metadata": {},
   "outputs": [
    {
     "name": "stdout",
     "output_type": "stream",
     "text": [
      "Year 1 = 35.24125\n",
      "Year 2 = 35.5325\n",
      "Year 3 = 35.82375\n",
      "Year 4 = 36.115\n",
      "Year 5 = 36.40625\n",
      "Year 6 = 36.6975\n",
      "Year 7 = 36.98875\n",
      "Year 8 = 37.28\n",
      "Year 9 = 37.57125\n",
      "Year 10 = 37.8625\n",
      "Year 11 = 38.15375\n",
      "Year 12 = 38.445\n",
      "Year 13 = 38.73625\n",
      "Year 14 = 39.0275\n",
      "Year 15 = 39.31875\n"
     ]
    }
   ],
   "source": [
    "moon_weight(30, 0.25)"
   ]
  },
  {
   "cell_type": "code",
   "execution_count": 13,
   "metadata": {},
   "outputs": [],
   "source": [
    "# Take the function you’ve just created, and change it to work out the weight over different periods, \n",
    "# such as 5 years or 20 years. Be sure to change the function so that it takes three arguments: \n",
    "# initial weight, weight gained each year, and number of years\n",
    "\n",
    "def moon_weight(weight,increase,num_years):\n",
    "    for num_years in range(1, num_years+1):\n",
    "        weight=weight+increase\n",
    "        finalweight = (weight*0.165)+weight\n",
    "        print('Year %s = %s' % (num_years, finalweight))"
   ]
  },
  {
   "cell_type": "code",
   "execution_count": 14,
   "metadata": {},
   "outputs": [
    {
     "name": "stdout",
     "output_type": "stream",
     "text": [
      "Year 1 = 41.1245\n",
      "Year 2 = 41.474\n",
      "Year 3 = 41.8235\n",
      "Year 4 = 42.173\n",
      "Year 5 = 42.5225\n"
     ]
    }
   ],
   "source": [
    "moon_weight(35, 0.3, 5)"
   ]
  },
  {
   "cell_type": "code",
   "execution_count": 20,
   "metadata": {},
   "outputs": [],
   "source": [
    "# Instead of a simple function, where you pass in the values as parameters, \n",
    "# you can make a mini-program that prompts for the values using sys.stdin.readline\n",
    "\n",
    "import sys\n",
    "\n",
    "def moon_weight():\n",
    "    print ('Please enter your current Earth weight')\n",
    "    weight = int(sys.stdin.readline())\n",
    "    print ('Please enter the amount your weight might increase each year')\n",
    "    increase = float(sys.stdin.readline())\n",
    "    print ('Please enter the number of years')\n",
    "    num_years = int(sys.stdin.readline())\n",
    "    \n",
    "    for num_years in range(1, num_years+1):\n",
    "        weight=weight+increase\n",
    "        finalweight = (weight*0.165)+weight\n",
    "        print('Year %s = %s' % (num_years, finalweight))"
   ]
  },
  {
   "cell_type": "code",
   "execution_count": 21,
   "metadata": {},
   "outputs": [
    {
     "name": "stdout",
     "output_type": "stream",
     "text": [
      "Please enter your current Earth weight\n"
     ]
    },
    {
     "ename": "ValueError",
     "evalue": "invalid literal for int() with base 10: ''",
     "output_type": "error",
     "traceback": [
      "\u001b[0;31m---------------------------------------------------------------------------\u001b[0m",
      "\u001b[0;31mValueError\u001b[0m                                Traceback (most recent call last)",
      "\u001b[0;32m<ipython-input-21-3ca609c44b83>\u001b[0m in \u001b[0;36m<module>\u001b[0;34m()\u001b[0m\n\u001b[0;32m----> 1\u001b[0;31m \u001b[0mmoon_weight\u001b[0m\u001b[0;34m(\u001b[0m\u001b[0;34m)\u001b[0m\u001b[0;34m\u001b[0m\u001b[0m\n\u001b[0m",
      "\u001b[0;32m<ipython-input-20-5cfbda154a42>\u001b[0m in \u001b[0;36mmoon_weight\u001b[0;34m()\u001b[0m\n\u001b[1;32m      6\u001b[0m \u001b[0;32mdef\u001b[0m \u001b[0mmoon_weight\u001b[0m\u001b[0;34m(\u001b[0m\u001b[0;34m)\u001b[0m\u001b[0;34m:\u001b[0m\u001b[0;34m\u001b[0m\u001b[0m\n\u001b[1;32m      7\u001b[0m     \u001b[0;32mprint\u001b[0m \u001b[0;34m(\u001b[0m\u001b[0;34m'Please enter your current Earth weight'\u001b[0m\u001b[0;34m)\u001b[0m\u001b[0;34m\u001b[0m\u001b[0m\n\u001b[0;32m----> 8\u001b[0;31m     \u001b[0mweight\u001b[0m \u001b[0;34m=\u001b[0m \u001b[0mint\u001b[0m\u001b[0;34m(\u001b[0m\u001b[0msys\u001b[0m\u001b[0;34m.\u001b[0m\u001b[0mstdin\u001b[0m\u001b[0;34m.\u001b[0m\u001b[0mreadline\u001b[0m\u001b[0;34m(\u001b[0m\u001b[0;34m)\u001b[0m\u001b[0;34m)\u001b[0m\u001b[0;34m\u001b[0m\u001b[0m\n\u001b[0m\u001b[1;32m      9\u001b[0m     \u001b[0;32mprint\u001b[0m \u001b[0;34m(\u001b[0m\u001b[0;34m'Please enter the amount your weight might increase each year'\u001b[0m\u001b[0;34m)\u001b[0m\u001b[0;34m\u001b[0m\u001b[0m\n\u001b[1;32m     10\u001b[0m     \u001b[0mincrease\u001b[0m \u001b[0;34m=\u001b[0m \u001b[0mfloat\u001b[0m\u001b[0;34m(\u001b[0m\u001b[0msys\u001b[0m\u001b[0;34m.\u001b[0m\u001b[0mstdin\u001b[0m\u001b[0;34m.\u001b[0m\u001b[0mreadline\u001b[0m\u001b[0;34m(\u001b[0m\u001b[0;34m)\u001b[0m\u001b[0;34m)\u001b[0m\u001b[0;34m\u001b[0m\u001b[0m\n",
      "\u001b[0;31mValueError\u001b[0m: invalid literal for int() with base 10: ''"
     ]
    }
   ],
   "source": [
    "moon_weight()"
   ]
  },
  {
   "cell_type": "code",
   "execution_count": 22,
   "metadata": {},
   "outputs": [],
   "source": [
    "# An object can be thought of as a member of a class, and we can create any number of objects for a class\n",
    "# We define classes using the class keyword followed by a name\n",
    "# We name the class and use the pass statement to let Python know that we’re not going to give any more information.\n",
    "# pass is used when we want to provide a class or function but don’t want to fill in the details at the moment.\n",
    "\n",
    "class Things:\n",
    "    pass\n",
    "\n",
    "# To tell Python that a class is a child of another class, \n",
    "# we add the name of the parent class in parentheses after the name of our new class\n",
    "\n",
    "class Inanimate(Things):\n",
    "    pass\n",
    "\n",
    "class Animate(Things):\n",
    "    pass\n",
    "\n",
    "class Sidewalks(Inanimate):\n",
    "    pass\n",
    "\n",
    "class Animals(Animate):\n",
    "    pass\n",
    "\n",
    "class Mammals(Animals):\n",
    "    pass\n",
    "\n",
    "class Giraffes(Mammals):\n",
    "    pass"
   ]
  },
  {
   "cell_type": "code",
   "execution_count": 25,
   "metadata": {},
   "outputs": [],
   "source": [
    "# We can add characteristics to each class to describe what it is and what it can do.\n",
    "# A characteristic is a trait that all of the members of the class (and its children) share.\n",
    "\n",
    "# These characteristics can be thought of as actions, or functions— things that an object of that class can do.\n",
    "# To add a function to a class, we use the def keyword.\n",
    "\n",
    "# The self parameter is a way for one function in the class to call another function in the class \n",
    "# and in the parent class\n",
    "\n",
    "class Animals(Animate):\n",
    "    def breathe(self):\n",
    "        pass\n",
    "    def move(self):\n",
    "        pass\n",
    "    def eat_food(self):\n",
    "        pass\n",
    "\n",
    "class Mammals(Animals):\n",
    "    def feed_young_with_milk(self):\n",
    "        pass\n",
    "\n",
    "class Giraffes(Mammals):\n",
    "    def eat_leaves_from_trees(self):\n",
    "        pass"
   ]
  },
  {
   "cell_type": "code",
   "execution_count": 26,
   "metadata": {},
   "outputs": [],
   "source": [
    "reginald = Giraffes()\n",
    "\n",
    "# We call functions on an object by using the dot operator and the name of the function. \n",
    "# To tell Reginald the giraffe to move or eat, we can call the functions like this:\n",
    "\n",
    "reginald.move()\n",
    "reginald.eat_leaves_from_trees()"
   ]
  },
  {
   "cell_type": "code",
   "execution_count": 27,
   "metadata": {},
   "outputs": [],
   "source": [
    "class Animals(Animate):\n",
    "    def breathe(self):\n",
    "        print('breathing')\n",
    "    def move(self):\n",
    "        print('moving')\n",
    "    def eat_food(self):\n",
    "        print('eating food')\n",
    "\n",
    "class Mammals(Animals):\n",
    "    def feed_young_with_milk(self):\n",
    "        print('feeding young')\n",
    "        \n",
    "class Giraffes(Mammals):\n",
    "    def eat_leaves_from_trees(self):\n",
    "        print('eating leaves')"
   ]
  },
  {
   "cell_type": "code",
   "execution_count": 28,
   "metadata": {},
   "outputs": [
    {
     "name": "stdout",
     "output_type": "stream",
     "text": [
      "moving\n"
     ]
    }
   ],
   "source": [
    "reginald = Giraffes()\n",
    "harold = Giraffes()\n",
    "reginald.move()"
   ]
  },
  {
   "cell_type": "code",
   "execution_count": 29,
   "metadata": {},
   "outputs": [
    {
     "name": "stdout",
     "output_type": "stream",
     "text": [
      "eating leaves\n"
     ]
    }
   ],
   "source": [
    "harold.eat_leaves_from_trees()"
   ]
  },
  {
   "cell_type": "code",
   "execution_count": 30,
   "metadata": {},
   "outputs": [],
   "source": [
    "# The self parameter is a way for one function in the class to call another function. \n",
    "# For example, suppose we add a function called find_food to the Giraffes class:”\n",
    "\n",
    "class Giraffes(Mammals):\n",
    "    def find_food(self):\n",
    "        self.move()\n",
    "        print(\"I've found food!\")\n",
    "        self.eat_food()"
   ]
  },
  {
   "cell_type": "code",
   "execution_count": 32,
   "metadata": {},
   "outputs": [],
   "source": [
    "# INITIALIZING AN OBJECT\n",
    "# Sometimes when creating an object, we want to set some values (also called properties) for later use. \n",
    "# When we initialize an object, we are getting it ready to be used.\n",
    "\n",
    "# The init function is a way to set the properties for an object when the object is first created, \n",
    "# and Python will automatically call this function when we create a new object\n",
    "\n",
    "class Giraffes:\n",
    "    def __init__(self, spots):\n",
    "        self.giraffe_spots = spots\n",
    "\n",
    "# You might think of this line of code as saying, “Take the value of the parameter spots and save it for later \n",
    "#(using the object variable giraffe_spots)."
   ]
  },
  {
   "cell_type": "code",
   "execution_count": 33,
   "metadata": {},
   "outputs": [
    {
     "name": "stdout",
     "output_type": "stream",
     "text": [
      "100\n",
      "150\n"
     ]
    }
   ],
   "source": [
    "ozwald = Giraffes(100)\n",
    "gertrude = Giraffes(150)\n",
    "print(ozwald.giraffe_spots)\n",
    "print(gertrude.giraffe_spots)"
   ]
  },
  {
   "cell_type": "code",
   "execution_count": 39,
   "metadata": {},
   "outputs": [],
   "source": [
    "# Puzzles \n",
    "# Add functions to the Giraffes class to move the giraffe’s left and right feet forward and backward. \n",
    "\n",
    "class Giraffes(Mammals):\n",
    "    def left_foot_forward(self): \n",
    "        print('left foot forward')\n",
    "    def right_foot_forward(self): \n",
    "        print('right foot forward')\n",
    "    def left_foot_backward(self): \n",
    "        print('left foot back')\n",
    "    def right_foot_backward(self): \n",
    "        print('right foot back')\n",
    "    def dance(self):\n",
    "        self.left_foot_forward() \n",
    "        self.left_foot_backward() \n",
    "        self.right_foot_forward() \n",
    "        self.right_foot_backward() \n",
    "        self.left_foot_backward() \n",
    "        self.right_foot_backward() \n",
    "        self.right_foot_forward() \n",
    "        self.left_foot_forward()"
   ]
  },
  {
   "cell_type": "code",
   "execution_count": 40,
   "metadata": {},
   "outputs": [
    {
     "name": "stdout",
     "output_type": "stream",
     "text": [
      "left foot forward\n",
      "left foot back\n",
      "right foot forward\n",
      "right foot back\n",
      "left foot back\n",
      "right foot back\n",
      "right foot forward\n",
      "left foot forward\n"
     ]
    }
   ],
   "source": [
    "jirafita = Giraffes()\n",
    "jirafita.dance()"
   ]
  },
  {
   "cell_type": "code",
   "execution_count": null,
   "metadata": {},
   "outputs": [],
   "source": []
  }
 ],
 "metadata": {
  "kernelspec": {
   "display_name": "Python 2",
   "language": "python",
   "name": "python2"
  },
  "language_info": {
   "codemirror_mode": {
    "name": "ipython",
    "version": 2
   },
   "file_extension": ".py",
   "mimetype": "text/x-python",
   "name": "python",
   "nbconvert_exporter": "python",
   "pygments_lexer": "ipython2",
   "version": "2.7.15"
  }
 },
 "nbformat": 4,
 "nbformat_minor": 2
}
