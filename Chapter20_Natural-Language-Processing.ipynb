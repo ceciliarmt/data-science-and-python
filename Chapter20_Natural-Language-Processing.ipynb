{
 "cells": [
  {
   "cell_type": "code",
   "execution_count": 1,
   "metadata": {},
   "outputs": [],
   "source": [
    "# Imagine that, for each of some collection of data science–related buzzwords, you have two numbers between\n",
    "# 0 and 100—the first representing how frequently it appears in job postings, the second how frequently \n",
    "# it appears on resumes:\n",
    "\n",
    "data = [ (\"big data\", 100, 15), (\"Hadoop\", 95, 25), (\"Python\", 75, 50),\n",
    "         (\"R\", 50, 40), (\"machine learning\", 80, 20), (\"statistics\", 20, 60),\n",
    "         (\"data science\", 60, 70), (\"analytics\", 90, 3),\n",
    "         (\"team player\", 85, 85), (\"dynamic\", 2, 90), (\"synergies\", 70, 0),\n",
    "         (\"actionable insights\", 40, 30), (\"think out of the box\", 45, 10),\n",
    "         (\"self-starter\", 30, 50), (\"customer focus\", 65, 15),\n",
    "         (\"thought leadership\", 35, 35)]"
   ]
  },
  {
   "cell_type": "code",
   "execution_count": 3,
   "metadata": {},
   "outputs": [
    {
     "data": {
      "image/png": "[encoded data removed]",
      "text/plain": [
       "<Figure size 432x288 with 1 Axes>"
      ]
     },
     "metadata": {},
     "output_type": "display_data"
    }
   ],
   "source": [
    "# A more interesting approach might be to scatter them so that horizontal position indicates posting popularity \n",
    "# and vertical position indicates resume popularity, which produces a visualization that conveys a few insights\n",
    "\n",
    "from matplotlib import pyplot as plt\n",
    "\n",
    "def text_size(total):\n",
    "    \"\"\"equals 8 if total is 0, 28 if total is 200\"\"\"\n",
    "    return 8 + total / 200 * 20\n",
    "\n",
    "for word, job_popularity, resume_popularity in data:\n",
    "    plt.text(job_popularity, resume_popularity, word,\n",
    "             ha='center', va='center',\n",
    "             size=text_size(job_popularity + resume_popularity))\n",
    "plt.xlabel(\"Popularity on Job Postings\")\n",
    "plt.ylabel(\"Popularity on Resumes\")\n",
    "plt.axis([0, 100, 0, 100])\n",
    "plt.xticks([])\n",
    "plt.yticks([])\n",
    "plt.show()"
   ]
  },
  {
   "cell_type": "code",
   "execution_count": 4,
   "metadata": {},
   "outputs": [],
   "source": [
    "# n-gram Models\n",
    "# The DataSciencester VP of Search Engine Marketing wants to create thousands of web pages about data science \n",
    "# so that your site will rank higher in search results for data science–related terms.\n",
    "\n",
    "# To do this, we’ll need some way of modeling language. One approach is to start with a corpus of documents \n",
    "# and learn a statistical model of language. In our case, we’ll start with Mike Loukides’s essay \n",
    "# “What is data science?” As in Chapter 9, we’ll use requests and BeautifulSoup to retrieve the data. \n"
   ]
  },
  {
   "cell_type": "code",
   "execution_count": 5,
   "metadata": {},
   "outputs": [],
   "source": [
    "# There are a couple of issues worth calling attention to. The first is that the apostrophes in the text are \n",
    "# actually the Unicode character u\"\\u2019\". We’ll create a helper function to replace them with normal apostrophes\n",
    "\n",
    "def fix_unicode(text):\n",
    "    return text.replace(u\"\\u2019\", \"'\")"
   ]
  },
  {
   "cell_type": "code",
   "execution_count": 6,
   "metadata": {},
   "outputs": [
    {
     "ename": "TypeError",
     "evalue": "'NoneType' object is not callable",
     "output_type": "error",
     "traceback": [
      "\u001b[0;31m---------------------------------------------------------------------------\u001b[0m",
      "\u001b[0;31mTypeError\u001b[0m                                 Traceback (most recent call last)",
      "\u001b[0;32m<ipython-input-6-7fc41170004b>\u001b[0m in \u001b[0;36m<module>\u001b[0;34m()\u001b[0m\n\u001b[1;32m     14\u001b[0m \u001b[0mdocument\u001b[0m \u001b[0;34m=\u001b[0m \u001b[0;34m[\u001b[0m\u001b[0;34m]\u001b[0m\u001b[0;34m\u001b[0m\u001b[0m\n\u001b[1;32m     15\u001b[0m \u001b[0;34m\u001b[0m\u001b[0m\n\u001b[0;32m---> 16\u001b[0;31m \u001b[0;32mfor\u001b[0m \u001b[0mparagraph\u001b[0m \u001b[0;32min\u001b[0m \u001b[0mcontent\u001b[0m\u001b[0;34m(\u001b[0m\u001b[0;34m\"p\"\u001b[0m\u001b[0;34m)\u001b[0m\u001b[0;34m:\u001b[0m\u001b[0;34m\u001b[0m\u001b[0m\n\u001b[0m\u001b[1;32m     17\u001b[0m     \u001b[0mwords\u001b[0m \u001b[0;34m=\u001b[0m \u001b[0mre\u001b[0m\u001b[0;34m.\u001b[0m\u001b[0mfindall\u001b[0m\u001b[0;34m(\u001b[0m\u001b[0mregex\u001b[0m\u001b[0;34m,\u001b[0m \u001b[0mfix_unicode\u001b[0m\u001b[0;34m(\u001b[0m\u001b[0mparagraph\u001b[0m\u001b[0;34m.\u001b[0m\u001b[0mtext\u001b[0m\u001b[0;34m)\u001b[0m\u001b[0;34m)\u001b[0m\u001b[0;34m\u001b[0m\u001b[0m\n\u001b[1;32m     18\u001b[0m     \u001b[0mdocument\u001b[0m\u001b[0;34m.\u001b[0m\u001b[0mextend\u001b[0m\u001b[0;34m(\u001b[0m\u001b[0mwords\u001b[0m\u001b[0;34m)\u001b[0m\u001b[0;34m\u001b[0m\u001b[0m\n",
      "\u001b[0;31mTypeError\u001b[0m: 'NoneType' object is not callable"
     ]
    }
   ],
   "source": [
    "# The second issue is that once we get the text of the web page, we’ll want to split it into a sequence of words \n",
    "# and periods (so that we can tell where sentences end). We can do this using re.findall()\n",
    "\n",
    "from bs4 import BeautifulSoup\n",
    "import requests\n",
    "\n",
    "url = \"http://radar.oreilly.com/2010/06/what-is-data-science.html\"\n",
    "html = requests.get(url).text\n",
    "soup = BeautifulSoup(html, 'html5lib')\n",
    "\n",
    "content = soup.find(\"div\", \"entry-content\")   # find entry-content div\n",
    "regex = r\"[\\w']+|[\\.]\"                        # matches a word or a period\n",
    "\n",
    "document = []\n",
    "\n",
    "for paragraph in content(\"p\"):\n",
    "    words = re.findall(regex, fix_unicode(paragraph.text))\n",
    "    document.extend(words)"
   ]
  },
  {
   "cell_type": "code",
   "execution_count": 7,
   "metadata": {},
   "outputs": [],
   "source": [
    "from collections import defaultdict\n",
    "\n",
    "bigrams = zip(document, document[1:])\n",
    "transitions = defaultdict(list)\n",
    "for prev, current in bigrams:\n",
    "    transitions[prev].append(current)"
   ]
  },
  {
   "cell_type": "code",
   "execution_count": 8,
   "metadata": {},
   "outputs": [],
   "source": [
    "# Now we’re ready to generate sentences:\n",
    "\n",
    "def generate_using_bigrams():\n",
    "    current = \".\"   # this means the next word will start a sentence\n",
    "    result = []\n",
    "    while True:\n",
    "        next_word_candidates = transitions[current]    # bigrams (current, _)\n",
    "        current = random.choice(next_word_candidates)  # choose one at random\n",
    "        result.append(current)                         # append it to results\n",
    "        if current == \".\": return \" \".join(result)     # if \".\" we're done"
   ]
  },
  {
   "cell_type": "code",
   "execution_count": 9,
   "metadata": {},
   "outputs": [],
   "source": [
    "# We can make the sentences less gibberishy by looking at trigrams, triplets of consecutive words. \n",
    "# (More generally, you might look at n-grams consisting of n consecutive words, but three will be plenty for us.) \n",
    "# Now the transitions will depend on the previous two words:\n",
    "\n",
    "trigrams = zip(document, document[1:], document[2:])\n",
    "trigram_transitions = defaultdict(list)\n",
    "starts = []\n",
    "\n",
    "for prev, current, next in trigrams:\n",
    "\n",
    "    if prev == \".\":              # if the previous \"word\" was a period\n",
    "        starts.append(current)   # then this is a start word\n",
    "\n",
    "    trigram_transitions[(prev, current)].append(next)"
   ]
  },
  {
   "cell_type": "code",
   "execution_count": 10,
   "metadata": {},
   "outputs": [],
   "source": [
    "# Notice that now we have to track the starting words separately. We can generate sentences in pretty much the same \n",
    "# way:\n",
    "\n",
    "def generate_using_trigrams():\n",
    "    current = random.choice(starts)   # choose a random starting word\n",
    "    prev = \".\"                        # and precede it with a '.'\n",
    "    result = [current]\n",
    "    while True:\n",
    "        next_word_candidates = trigram_transitions[(prev, current)]\n",
    "        next_word = random.choice(next_word_candidates)\n",
    "        prev, current = current, next_word\n",
    "        result.append(current)\n",
    "\n",
    "        if current == \".\":\n",
    "            return \" \".join(result)"
   ]
  },
  {
   "cell_type": "code",
   "execution_count": 11,
   "metadata": {},
   "outputs": [],
   "source": [
    "# Grammars \n",
    "\n",
    "grammar = {\n",
    "    \"_S\"  : [\"_NP _VP\"],\n",
    "    \"_NP\" : [\"_N\",\n",
    "             \"_A _NP _P _A _N\"],\n",
    "    \"_VP\" : [\"_V\",\n",
    "             \"_V _NP\"],\n",
    "    \"_N\"  : [\"data science\", \"Python\", \"regression\"],\n",
    "    \"_A\"  : [\"big\", \"linear\", \"logistic\"],\n",
    "    \"_P\"  : [\"about\", \"near\"],\n",
    "    \"_V\"  : [\"learns\", \"trains\", \"tests\", \"is\"]\n",
    "}\n",
    "\n",
    "# “So, for example, \"_S\" is the “sentence” rule, which produces a \"_NP\" (“noun phrase”) rule followed by a \"_VP\" \n",
    "# (“verb phrase”) rule. The verb phrase rule can produce either the \"_V\" (“verb”) rule, or the verb rule followed \n",
    "# by the noun phrase rule."
   ]
  },
  {
   "cell_type": "code",
   "execution_count": 12,
   "metadata": {},
   "outputs": [
    {
     "data": {
      "text/plain": [
       "['Python', 'trains', 'logistic', 'data science', 'about', 'logistic', 'Python']"
      ]
     },
     "execution_count": 12,
     "metadata": {},
     "output_type": "execute_result"
    }
   ],
   "source": [
    "# How do we generate sentences from this grammar? We’ll start with a list containing the sentence rule [\"_S\"]. \n",
    "# And then we’ll repeatedly expand each rule by replacing it with a randomly chosen one of its productions. \n",
    "# We stop when we have a list consisting solely of terminals\n",
    "\n",
    "['_S']\n",
    "['_NP','_VP']\n",
    "['_N','_VP']\n",
    "['Python','_VP']\n",
    "['Python','_V','_NP']\n",
    "['Python','trains','_NP']\n",
    "['Python','trains','_A','_NP','_P','_A','_N']\n",
    "['Python','trains','logistic','_NP','_P','_A','_N']\n",
    "['Python','trains','logistic','_N','_P','_A','_N']\n",
    "['Python','trains','logistic','data science','_P','_A','_N']\n",
    "['Python','trains','logistic','data science','about','_A', '_N']\n",
    "['Python','trains','logistic','data science','about','logistic','_N']\n",
    "['Python','trains','logistic','data science','about','logistic','Python']"
   ]
  },
  {
   "cell_type": "code",
   "execution_count": 13,
   "metadata": {},
   "outputs": [],
   "source": [
    "# How do we implement this? Well, to start, we’ll create a simple helper function to identify terminals:\n",
    "\n",
    "def is_terminal(token):\n",
    "    return token[0] != \"_\""
   ]
  },
  {
   "cell_type": "code",
   "execution_count": 14,
   "metadata": {},
   "outputs": [],
   "source": [
    "# Next we need to write a function to turn a list of tokens into a sentence.\n",
    "\n",
    "def expand(grammar, tokens):\n",
    "    for i, token in enumerate(tokens):\n",
    "\n",
    "        # skip over terminals\n",
    "        if is_terminal(token): continue\n",
    "\n",
    "        # if we get here, we found a non-terminal token\n",
    "        # so we need to choose a replacement at random\n",
    "        replacement = random.choice(grammar[token])\n",
    "\n",
    "        if is_terminal(replacement):\n",
    "            tokens[i] = replacement\n",
    "        else:\n",
    "            tokens = tokens[:i] + replacement.split() + tokens[(i+1):]\n",
    "\n",
    "        # now call expand on the new list of tokens\n",
    "        return expand(grammar, tokens)\n",
    "\n",
    "    # if we get here we had all terminals and are done\n",
    "    return tokens"
   ]
  },
  {
   "cell_type": "code",
   "execution_count": 15,
   "metadata": {},
   "outputs": [],
   "source": [
    "# And now we can start generating sentences:\n",
    "\n",
    "def generate_sentence(grammar):\n",
    "    return expand(grammar, [\"_S\"])"
   ]
  },
  {
   "cell_type": "code",
   "execution_count": 16,
   "metadata": {},
   "outputs": [],
   "source": [
    "# An Aside: Gibbs Sampling\n",
    "\n",
    "# Gibbs sampling is a technique for generating samples from multidimensional distributions when we only know\n",
    "# some of the conditional distributions."
   ]
  },
  {
   "cell_type": "code",
   "execution_count": 17,
   "metadata": {},
   "outputs": [],
   "source": [
    "# “For example, imagine rolling two dice. Let x be the value of the first die and y be the sum of the dice, \n",
    "# and imagine you wanted to generate lots of (x, y) pairs. In this case it’s easy to generate the samples directly:\n",
    "\n",
    "def roll_a_die():\n",
    "    return random.choice([1,2,3,4,5,6])\n",
    "\n",
    "def direct_sample():\n",
    "    d1 = roll_a_die()\n",
    "    d2 = roll_a_die()\n",
    "    return d1, d1 + d2"
   ]
  },
  {
   "cell_type": "code",
   "execution_count": 18,
   "metadata": {},
   "outputs": [],
   "source": [
    "# But imagine that you only knew the conditional distributions. The distribution of y conditional on x is easy—if \n",
    "# you know the value of x, y is equally likely to be x + 1, x + 2, x + 3, x + 4, x + 5, or x + 6:”\n",
    "\n",
    "def random_y_given_x(x):\n",
    "    \"\"\"equally likely to be x + 1, x + 2, ... , x + 6\"\"\"\n",
    "    return x + roll_a_die()"
   ]
  },
  {
   "cell_type": "code",
   "execution_count": 19,
   "metadata": {},
   "outputs": [],
   "source": [
    "# If you know that y is 2, then necessarily x is 1 (since the only way two dice can sum to 2 is if both\n",
    "# of them are 1). If you know y is 3, then x is equally likely to be 1 or 2. Similarly, if y is 11, then \n",
    "# x has to be either 5 or 6\n",
    "\n",
    "def random_x_given_y(y):\n",
    "    if y <= 7:\n",
    "        # if the total is 7 or less, the first die is equally likely to be\n",
    "        # 1, 2, ..., (total - 1)\n",
    "        return random.randrange(1, y)\n",
    "    else:\n",
    "        # if the total is 7 or more, the first die is equally likely to be\n",
    "        # (total - 6), (total - 5), ..., 6\n",
    "        return random.randrange(y - 6, 7)"
   ]
  },
  {
   "cell_type": "code",
   "execution_count": 20,
   "metadata": {},
   "outputs": [],
   "source": [
    "# The way Gibbs sampling works is that we start with any (valid) value for x and y and then repeatedly \n",
    "# alternate replacing x with a random value picked conditional on y and replacing y with a random value \n",
    "# picked conditional on x. After a number of iterations, the resulting values of x and y will represent \n",
    "# a sample from the unconditional joint distribution:\n",
    "\n",
    "def gibbs_sample(num_iters=100):\n",
    "    x, y = 1, 2 # doesn't really matter\n",
    "    for _ in range(num_iters):\n",
    "        x = random_x_given_y(y)\n",
    "        y = random_y_given_x(x)\n",
    "    return x, y"
   ]
  },
  {
   "cell_type": "code",
   "execution_count": 21,
   "metadata": {},
   "outputs": [],
   "source": [
    "# You can check that this gives similar results to the direct sample:\n",
    "\n",
    "def compare_distributions(num_samples=1000):\n",
    "    counts = defaultdict(lambda: [0, 0])\n",
    "    for _ in range(num_samples):\n",
    "        counts[gibbs_sample()][0] += 1\n",
    "        counts[direct_sample()][1] += 1\n",
    "    return counts"
   ]
  },
  {
   "cell_type": "code",
   "execution_count": 22,
   "metadata": {},
   "outputs": [],
   "source": [
    "# Topic Modeling\n",
    "\n",
    "# A more sophisticated approach to understanding our users’ interests might try to identify the topics that \n",
    "# underlie those interests. A technique called Latent Dirichlet Analysis (LDA) is commonly used to identify \n",
    "# common topics in a set of documents. We’ll apply it to documents that consist of each user’s interests.\n",
    "\n",
    "# There is a random variable that assigns each topic an associated probability distribution over words. \n",
    "# You should think of this distribution as the probability of seeing word w given topic k.\n",
    "# There is another random variable that assigns each document a probability distribution over topics. \n",
    "# You should think of this distribution as the mixture of topics in document d.\n",
    "# Each word in a document was generated by first randomly picking a topic (from the document’s distribution \n",
    "# of topics) and then randomly picking a word (from the topic’s distribution of words)."
   ]
  },
  {
   "cell_type": "code",
   "execution_count": 23,
   "metadata": {},
   "outputs": [],
   "source": [
    "# To start with, we’ll need a function to randomly choose an index based on an arbitrary set of weights:\n",
    "\n",
    "def sample_from(weights):\n",
    "    \"\"\"returns i with probability weights[i] / sum(weights)\"\"\"\n",
    "    total = sum(weights)\n",
    "    rnd = total * random.random()      # uniform between 0 and total\n",
    "    for i, w in enumerate(weights):\n",
    "        rnd -= w                       # return the smallest i such that\n",
    "        if rnd <= 0: return i          # weights[0] + ... + weights[i] >= rnd"
   ]
  },
  {
   "cell_type": "code",
   "execution_count": 24,
   "metadata": {},
   "outputs": [],
   "source": [
    "# “For instance, if you give it weights [1, 1, 3] then one-fifth of the time it will return 0, one-fifth of \n",
    "# the time it will return 1, and three-fifths of the time it will return 2.\n",
    "# Our documents are our users’ interests, which look like:\n",
    "\n",
    "documents = [\n",
    "    [\"Hadoop\", \"Big Data\", \"HBase\", \"Java\", \"Spark\", \"Storm\", \"Cassandra\"],\n",
    "    [\"NoSQL\", \"MongoDB\", \"Cassandra\", \"HBase\", \"Postgres\"],\n",
    "    [\"Python\", \"scikit-learn\", \"scipy\", \"numpy\", \"statsmodels\", \"pandas\"],\n",
    "    [\"R\", \"Python\", \"statistics\", \"regression\", \"probability\"],\n",
    "    [\"machine learning\", \"regression\", \"decision trees\", \"libsvm\"],\n",
    "    [\"Python\", \"R\", \"Java\", \"C++\", \"Haskell\", \"programming languages\"],\n",
    "    [\"statistics\", \"probability\", \"mathematics\", \"theory\"],\n",
    "    [\"machine learning\", \"scikit-learn\", \"Mahout\", \"neural networks\"],\n",
    "    [\"neural networks\", \"deep learning\", \"Big Data\", \"artificial intelligence\"],\n",
    "    [\"Hadoop\", \"Java\", \"MapReduce\", \"Big Data\"],\n",
    "    [\"statistics\", \"R\", \"statsmodels\"],\n",
    "    [\"C++\", \"deep learning\", \"artificial intelligence\", \"probability\"],\n",
    "    [\"pandas\", \"R\", \"Python\"],\n",
    "    [\"databases\", \"HBase\", \"Postgres\", \"MySQL\", \"MongoDB\"],\n",
    "    [\"libsvm\", \"regression\", \"support vector machines\"]\n",
    "]"
   ]
  },
  {
   "cell_type": "code",
   "execution_count": 26,
   "metadata": {},
   "outputs": [],
   "source": [
    "# In order to calculate the sampling weights, we’ll need to keep track of several counts. Let’s first create\n",
    "# the data structures for them.\n",
    "\n",
    "# How many times each topic is assigned to each document:\n",
    "\n",
    "# a list of Counters, one for each document\n",
    "\n",
    "from collections import Counter\n",
    "document_topic_counts = [Counter() for _ in documents]"
   ]
  },
  {
   "cell_type": "code",
   "execution_count": 28,
   "metadata": {},
   "outputs": [],
   "source": [
    "# How many times each word is assigned to each topic:\n",
    "\n",
    "# a list of Counters, one for each topic\n",
    "\n",
    "K=4 #topics\n",
    "\n",
    "topic_word_counts = [Counter() for _ in range(K)]"
   ]
  },
  {
   "cell_type": "code",
   "execution_count": 29,
   "metadata": {},
   "outputs": [],
   "source": [
    "# The total number of words assigned to each topic:\n",
    "\n",
    "# a list of numbers, one for each topic\n",
    "topic_counts = [0 for _ in range(K)]"
   ]
  },
  {
   "cell_type": "code",
   "execution_count": 30,
   "metadata": {},
   "outputs": [],
   "source": [
    "# The total number of words contained in each document:\n",
    "\n",
    "# a list of numbers, one for each document\n",
    "document_lengths = map(len, documents)"
   ]
  },
  {
   "cell_type": "code",
   "execution_count": 31,
   "metadata": {},
   "outputs": [],
   "source": [
    "# The number of distinct words:\n",
    "\n",
    "distinct_words = set(word for document in documents for word in document)\n",
    "W = len(distinct_words)"
   ]
  },
  {
   "cell_type": "code",
   "execution_count": 32,
   "metadata": {},
   "outputs": [],
   "source": [
    "# And the number of documents:\n",
    "\n",
    "D = len(documents)"
   ]
  },
  {
   "cell_type": "code",
   "execution_count": 33,
   "metadata": {},
   "outputs": [
    {
     "data": {
      "text/plain": [
       "0"
      ]
     },
     "execution_count": 33,
     "metadata": {},
     "output_type": "execute_result"
    }
   ],
   "source": [
    "# “For example, once we populate these, we can find, for example, the number of words in documents[3] \n",
    "# associated with topic 1 as:\n",
    "\n",
    "document_topic_counts[3][1]"
   ]
  },
  {
   "cell_type": "code",
   "execution_count": 34,
   "metadata": {},
   "outputs": [
    {
     "data": {
      "text/plain": [
       "0"
      ]
     },
     "execution_count": 34,
     "metadata": {},
     "output_type": "execute_result"
    }
   ],
   "source": [
    "# “And we can find the number of times nlp is associated with topic 2 as:\n",
    "\n",
    "topic_word_counts[2][\"nlp\"]"
   ]
  },
  {
   "cell_type": "code",
   "execution_count": 35,
   "metadata": {},
   "outputs": [],
   "source": [
    "# Now we’re ready to define our conditional probability functions. Each has a smoothing term that ensures every\n",
    "# topic has a nonzero chance of being chosen in any document and that every word has a nonzero chance of being \n",
    "# chosen for any topic\n",
    "\n",
    "def p_topic_given_document(topic, d, alpha=0.1):\n",
    "    \"\"\"the fraction of words in document _d_\n",
    "    that are assigned to _topic_ (plus some smoothing)\"\"\"\n",
    "\n",
    "    return ((document_topic_counts[d][topic] + alpha) /\n",
    "            (document_lengths[d] + K * alpha))\n",
    "\n",
    "def p_word_given_topic(word, topic, beta=0.1):\n",
    "    \"\"\"the fraction of words assigned to _topic_\n",
    "    that equal _word_ (plus some smoothing)\"\"\"\n",
    "\n",
    "    return ((topic_word_counts[topic][word] + beta) /\n",
    "            (topic_counts[topic] + W * beta))"
   ]
  },
  {
   "cell_type": "code",
   "execution_count": 36,
   "metadata": {},
   "outputs": [],
   "source": [
    "# We’ll use these to create the weights for updating topics:\n",
    "\n",
    "def topic_weight(d, word, k):\n",
    "    \"\"\"given a document and a word in that document,\n",
    "    return the weight for the kth topic\"\"\"\n",
    "\n",
    "    return p_word_given_topic(word, k) * p_topic_given_document(k, d)\n",
    "\n",
    "def choose_new_topic(d, word):\n",
    "    return sample_from([topic_weight(d, word, k)\n",
    "                        for k in range(K)])"
   ]
  },
  {
   "cell_type": "code",
   "execution_count": 38,
   "metadata": {},
   "outputs": [],
   "source": [
    "# “We start by assigning every word to a random topic, and populating our counters appropriately:\n",
    "\n",
    "import random\n",
    "random.seed(0)\n",
    "document_topics = [[random.randrange(K) for word in document]\n",
    "                   for document in documents]\n",
    "\n",
    "for d in range(D):\n",
    "    for word, topic in zip(documents[d], document_topics[d]):\n",
    "        document_topic_counts[d][topic] += 1\n",
    "        topic_word_counts[topic][word] += 1\n",
    "        topic_counts[topic] += 1"
   ]
  },
  {
   "cell_type": "code",
   "execution_count": 39,
   "metadata": {},
   "outputs": [],
   "source": [
    "for iter in range(1000):\n",
    "    for d in range(D):\n",
    "        for i, (word, topic) in enumerate(zip(documents[d],\n",
    "                                              document_topics[d])):\n",
    "\n",
    "            # remove this word / topic from the counts\n",
    "            # so that it doesn't influence the weights\n",
    "            document_topic_counts[d][topic] -= 1\n",
    "            topic_word_counts[topic][word] -= 1\n",
    "            topic_counts[topic] -= 1\n",
    "            document_lengths[d] -= 1\n",
    "\n",
    "            # choose a new topic based on the weights\n",
    "            new_topic = choose_new_topic(d, word)\n",
    "            document_topics[d][i] = new_topic\n",
    "\n",
    "            # and now add it back to the counts\n",
    "            document_topic_counts[d][new_topic] += 1\n",
    "            topic_word_counts[new_topic][word] += 1\n",
    "            topic_counts[new_topic] += 1\n",
    "            document_lengths[d] += 1"
   ]
  },
  {
   "cell_type": "code",
   "execution_count": 40,
   "metadata": {},
   "outputs": [
    {
     "name": "stdout",
     "output_type": "stream",
     "text": [
      "0 Java 3\n",
      "0 Big Data 3\n",
      "0 Hadoop 2\n",
      "0 deep learning 2\n",
      "0 artificial intelligence 2\n",
      "0 C++ 2\n",
      "0 neural networks 1\n",
      "0 Storm 1\n",
      "0 programming languages 1\n",
      "0 MapReduce 1\n",
      "0 Haskell 1\n",
      "1 R 4\n",
      "1 statistics 3\n",
      "1 Python 3\n",
      "1 probability 2\n",
      "1 pandas 2\n",
      "1 statsmodels 2\n",
      "1 mathematics 1\n",
      "1 numpy 1\n",
      "1 theory 1\n",
      "1 scipy 1\n",
      "2 HBase 3\n",
      "2 Postgres 2\n",
      "2 MongoDB 2\n",
      "2 Cassandra 2\n",
      "2 NoSQL 1\n",
      "2 MySQL 1\n",
      "2 Spark 1\n",
      "3 regression 3\n",
      "3 libsvm 2\n",
      "3 scikit-learn 2\n",
      "3 machine learning 2\n",
      "3 neural networks 1\n",
      "3 probability 1\n",
      "3 Mahout 1\n",
      "3 Python 1\n",
      "3 decision trees 1\n",
      "3 databases 1\n",
      "3 support vector machines 1\n"
     ]
    }
   ],
   "source": [
    "# “What are the topics? They’re just numbers 0, 1, 2, and 3. If we want names for them we have to do that ourselves.\n",
    "# Let’s look at the five most heavily weighted words for each\n",
    "\n",
    "for k, word_counts in enumerate(topic_word_counts):\n",
    "    for word, count in word_counts.most_common():\n",
    "        if count > 0: print k, word, count"
   ]
  },
  {
   "cell_type": "code",
   "execution_count": 41,
   "metadata": {},
   "outputs": [],
   "source": [
    "# Based on these I’d probably assign topic names:\n",
    "topic_names = [\"Big Data and programming languages\",\n",
    "               \"Python and statistics\",\n",
    "               \"databases\",\n",
    "               \"machine learning\"]"
   ]
  },
  {
   "cell_type": "code",
   "execution_count": 42,
   "metadata": {},
   "outputs": [
    {
     "name": "stdout",
     "output_type": "stream",
     "text": [
      "['Hadoop', 'Big Data', 'HBase', 'Java', 'Spark', 'Storm', 'Cassandra']\n",
      "Big Data and programming languages 4 databases 3\n",
      "['NoSQL', 'MongoDB', 'Cassandra', 'HBase', 'Postgres']\n",
      "databases 5\n",
      "['Python', 'scikit-learn', 'scipy', 'numpy', 'statsmodels', 'pandas']\n",
      "Python and statistics 5 machine learning 1\n",
      "['R', 'Python', 'statistics', 'regression', 'probability']\n",
      "Python and statistics 4 machine learning 1\n",
      "['machine learning', 'regression', 'decision trees', 'libsvm']\n",
      "machine learning 4\n",
      "['Python', 'R', 'Java', 'C++', 'Haskell', 'programming languages']\n",
      "Big Data and programming languages 4 Python and statistics 1 machine learning 1\n",
      "['statistics', 'probability', 'mathematics', 'theory']\n",
      "Python and statistics 4\n",
      "['machine learning', 'scikit-learn', 'Mahout', 'neural networks']\n",
      "machine learning 4\n",
      "['neural networks', 'deep learning', 'Big Data', 'artificial intelligence']\n",
      "Big Data and programming languages 4\n",
      "['Hadoop', 'Java', 'MapReduce', 'Big Data']\n",
      "Big Data and programming languages 4\n",
      "['statistics', 'R', 'statsmodels']\n",
      "Python and statistics 3\n",
      "['C++', 'deep learning', 'artificial intelligence', 'probability']\n",
      "Big Data and programming languages 3 machine learning 1\n",
      "['pandas', 'R', 'Python']\n",
      "Python and statistics 3\n",
      "['databases', 'HBase', 'Postgres', 'MySQL', 'MongoDB']\n",
      "databases 4 machine learning 1\n",
      "['libsvm', 'regression', 'support vector machines']\n",
      "machine learning 3\n"
     ]
    }
   ],
   "source": [
    "# at which point we can see how the model assigns topics to each user’s interests:\n",
    "\n",
    "for document, topic_counts in zip(documents, document_topic_counts):\n",
    "    print document\n",
    "    for topic, count in topic_counts.most_common():\n",
    "        if count > 0:\n",
    "            print topic_names[topic], count,\n",
    "    print"
   ]
  },
  {
   "cell_type": "code",
   "execution_count": null,
   "metadata": {},
   "outputs": [],
   "source": []
  }
 ],
 "metadata": {
  "kernelspec": {
   "display_name": "Python 2",
   "language": "python",
   "name": "python2"
  },
  "language_info": {
   "codemirror_mode": {
    "name": "ipython",
    "version": 2
   },
   "file_extension": ".py",
   "mimetype": "text/x-python",
   "name": "python",
   "nbconvert_exporter": "python",
   "pygments_lexer": "ipython2",
   "version": "2.7.15"
  }
 },
 "nbformat": 4,
 "nbformat_minor": 2
}
