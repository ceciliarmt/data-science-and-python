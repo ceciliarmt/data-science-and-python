{
 "cells": [
  {
   "cell_type": "code",
   "execution_count": 1,
   "metadata": {},
   "outputs": [],
   "source": [
    "#IMPLEMENTATION \n",
    "\n",
    "# First, let’s create a simple function to tokenize messages into distinct words. \n",
    "# We’ll first convert each message to lowercase; use re.findall() to extract “words” consisting of letters, \n",
    "# numbers, and apostrophes; and finally use set() to get just the distinct words\n",
    "\n",
    "def tokenize(message):\n",
    "    message = message.lower()                       # convert to lowercase\n",
    "    all_words = re.findall(\"[a-z0-9']+\", message)   # extract the words\n",
    "    return set(all_words)                           # remove duplicates"
   ]
  },
  {
   "cell_type": "code",
   "execution_count": 2,
   "metadata": {},
   "outputs": [],
   "source": [
    "# Our second function will count the words in a labeled training set of messages. \n",
    "# We’ll have it return a dictionary whose keys are words, and whose values are two-element lists \n",
    "# [spam_count, non_spam_count] corresponding to how many times we saw that word in both spam and nonspam messages:\n",
    "\n",
    "def count_words(training_set):\n",
    "    \"\"\"training set consists of pairs (message, is_spam)\"\"\"\n",
    "    counts = defaultdict(lambda: [0, 0])\n",
    "    for message, is_spam in training_set:\n",
    "        for word in tokenize(message):\n",
    "            counts[word][0 if is_spam else 1] += 1\n",
    "    return counts"
   ]
  },
  {
   "cell_type": "code",
   "execution_count": 3,
   "metadata": {},
   "outputs": [],
   "source": [
    "# Our next step is to turn these counts into estimated probabilities\n",
    "# Our function will return a list of triplets containing each word, the probability of seeing that word in a \n",
    "# spam message, and the probability of seeing that word in a nonspam message\n",
    "\n",
    "def word_probabilities(counts, total_spams, total_non_spams, k=0.5):\n",
    "    \"\"\"turn the word_counts into a list of triplets\n",
    "    w, p(w | spam) and p(w | ~spam)\"\"\"\n",
    "    return [(w,\n",
    "             (spam + k) / (total_spams + 2 * k),\n",
    "             (non_spam + k) / (total_non_spams + 2 * k))\n",
    "             for w, (spam, non_spam) in counts.iteritems()]"
   ]
  },
  {
   "cell_type": "code",
   "execution_count": 4,
   "metadata": {},
   "outputs": [],
   "source": [
    "# The last piece is to use these word probabilities (and our Naive Bayes assumptions) to assign probabilities \n",
    "# to messages\n",
    "\n",
    "def spam_probability(word_probs, message):\n",
    "    message_words = tokenize(message)\n",
    "    log_prob_if_spam = log_prob_if_not_spam = 0.0\n",
    "\n",
    "    # iterate through each word in our vocabulary\n",
    "    for word, prob_if_spam, prob_if_not_spam in word_probs:\n",
    "\n",
    "        # if *word* appears in the message,\n",
    "        # add the log probability of seeing it\n",
    "        if word in message_words:\n",
    "            log_prob_if_spam += math.log(prob_if_spam)\n",
    "            log_prob_if_not_spam += math.log(prob_if_not_spam)\n",
    "\n",
    "        # if *word* doesn't appear in the message\n",
    "        # add the log probability of _not_ seeing it\n",
    "        # which is log(1 - probability of seeing it)\n",
    "        else:\n",
    "            log_prob_if_spam += math.log(1.0 - prob_if_spam)\n",
    "            log_prob_if_not_spam += math.log(1.0 - prob_if_not_spam)\n",
    "            prob_if_spam = math.exp(log_prob_if_spam)\n",
    "            prob_if_not_spam = math.exp(log_prob_if_not_spam)\n",
    "            return prob_if_spam / (prob_if_spam + prob_if_not_spam)"
   ]
  },
  {
   "cell_type": "code",
   "execution_count": 5,
   "metadata": {},
   "outputs": [],
   "source": [
    "# We can put this all together into our Naive Bayes Classifier:\n",
    "\n",
    "class NaiveBayesClassifier:\n",
    "\n",
    "    def __init__(self, k=0.5):\n",
    "        self.k = k\n",
    "        self.word_probs = []\n",
    "\n",
    "    def train(self, training_set):\n",
    "\n",
    "        # count spam and non-spam messages\n",
    "        num_spams = len([is_spam\n",
    "                         for message, is_spam in training_set\n",
    "                         if is_spam])\n",
    "        num_non_spams = len(training_set) - num_spams\n",
    "\n",
    "        # run training data through our \"pipeline\"\n",
    "        word_counts = count_words(training_set)\n",
    "        self.word_probs = word_probabilities(word_counts,\n",
    "                                             num_spams,\n",
    "                                             num_non_spams,\n",
    "                                             self.k)\n",
    "\n",
    "def classify(self, message):\n",
    "    return spam_probability(self.word_probs, message)"
   ]
  },
  {
   "cell_type": "code",
   "execution_count": 6,
   "metadata": {},
   "outputs": [],
   "source": [
    "#Example \n",
    "\n",
    "#import glob, re\n",
    "\n",
    "# modify the path with wherever you've put the files\n",
    "#path = r\"C:\\spam\\*\\*\"\n",
    "\n",
    "#data = []\n",
    "\n",
    "# glob.glob returns every filename that matches the wildcarded path\n",
    "#for fn in glob.glob(path):\n",
    "    #is_spam = \"ham\" not in fn\n",
    "    \n",
    "    #with open(fn,'r') as file:\n",
    "        #for line in file:\n",
    "            #if line.startswith(\"Subject:\"):\n",
    "                # remove the leading \"Subject: \" and keep what's left\n",
    "                #subject = re.sub(r\"^Subject: \", \"\", line).strip()\n",
    "                #data.append((subject, is_spam))"
   ]
  },
  {
   "cell_type": "code",
   "execution_count": 11,
   "metadata": {},
   "outputs": [],
   "source": [
    "# Now we can split the data into training data and test data, and then we’re ready to build a classifier:\n",
    "\n",
    "import random\n",
    "def split_data(data, prob):\n",
    "    \"\"\"split data into fractions [prob, 1 - prob]\"\"\"\n",
    "    results = [], []\n",
    "    for row in data:\n",
    "        results[0 if random.random() < prob else 1].append(row)\n",
    "    return results\n",
    "\n",
    "\n",
    "#random.seed(0)      # just so you get the same answers as me\n",
    "#train_data, test_data = split_data(data, 0.75)\n",
    "\n",
    "#classifier = NaiveBayesClassifier()\n",
    "#classifier.train(train_data)"
   ]
  },
  {
   "cell_type": "code",
   "execution_count": 12,
   "metadata": {},
   "outputs": [],
   "source": [
    "# And then we can check how our model does:\n",
    "\n",
    "# triplets (subject, actual is_spam, predicted spam probability)\n",
    "##classified = [(subject, is_spam, classifier.classify(subject))\n",
    "              ##for subject, is_spam in test_data]\n",
    "\n",
    "# assume that spam_probability > 0.5 corresponds to spam prediction\n",
    "# and count the combinations of (actual is_spam, predicted is_spam)\n",
    "##counts = Counter((is_spam, spam_probability > 0.5)\n",
    "                 ##for _, is_spam, spam_probability in classified)"
   ]
  },
  {
   "cell_type": "code",
   "execution_count": 13,
   "metadata": {},
   "outputs": [],
   "source": [
    "#It’s also interesting to look at the most misclassified:\n",
    "\n",
    "# sort by spam_probability from smallest to largest\n",
    "##classified.sort(key=lambda row: row[2])\n",
    "\n",
    "# the highest predicted spam probabilities among the non-spams\n",
    "##spammiest_hams = filter(lambda row: not row[1], classified)[-5:]\n",
    "\n",
    "# the lowest predicted spam probabilities among the actual spams\n",
    "##hammiest_spams = filter(lambda row: row[1], classified)[:5]"
   ]
  },
  {
   "cell_type": "code",
   "execution_count": 14,
   "metadata": {},
   "outputs": [],
   "source": [
    "# We can similarly look at the spammiest words:\n",
    "\n",
    "##def p_spam_given_word(word_prob):\n",
    "    ##\"\"\"uses bayes's theorem to compute p(spam | message contains word)\"\"\"\n",
    "\n",
    "    # word_prob is one of the triplets produced by word_probabilities\n",
    "    ##word, prob_if_spam, prob_if_not_spam = word_prob\n",
    "    ##return prob_if_spam / (prob_if_spam + prob_if_not_spam)\n",
    "\n",
    "##words = sorted(classifier.word_probs, key=p_spam_given_word)\n",
    "\n",
    "##spammiest_words = words[-5:]\n",
    "##hammiest_words = words[:5]"
   ]
  },
  {
   "cell_type": "code",
   "execution_count": 15,
   "metadata": {},
   "outputs": [],
   "source": [
    "#Modify the classifier to take an optional stemmer function that converts words to equivalence classes of words. \n",
    "# For example, a really simple stemmer function might be:\n",
    "\n",
    "##def drop_final_s(word):\n",
    "    ##return re.sub(\"s$\", \"\", word)"
   ]
  },
  {
   "cell_type": "code",
   "execution_count": null,
   "metadata": {},
   "outputs": [],
   "source": []
  }
 ],
 "metadata": {
  "kernelspec": {
   "display_name": "Python 2",
   "language": "python",
   "name": "python2"
  },
  "language_info": {
   "codemirror_mode": {
    "name": "ipython",
    "version": 2
   },
   "file_extension": ".py",
   "mimetype": "text/x-python",
   "name": "python",
   "nbconvert_exporter": "python",
   "pygments_lexer": "ipython2",
   "version": "2.7.15"
  }
 },
 "nbformat": 4,
 "nbformat_minor": 2
}
