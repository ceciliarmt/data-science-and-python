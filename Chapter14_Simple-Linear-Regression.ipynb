{
 "cells": [
  {
   "cell_type": "code",
   "execution_count": 1,
   "metadata": {},
   "outputs": [],
   "source": [
    "# Recall that we were investigating the relationship between a DataSciencester user’s number of friends and the\n",
    "# amount of time he spent on the site each day.\n",
    "\n",
    "import math \n",
    "def predict(alpha, beta, x_i):\n",
    "    return beta * x_i + alpha"
   ]
  },
  {
   "cell_type": "code",
   "execution_count": 2,
   "metadata": {},
   "outputs": [],
   "source": [
    "# How do we choose alpha and beta? Well, any choice of alpha and beta gives us a predicted output for each input x_i.\n",
    "# Since we know the actual output y_i we can compute the error for each pair:\n",
    "\n",
    "def error(alpha, beta, x_i, y_i):\n",
    "    \"\"\"the error from predicting beta * x_i + alpha\n",
    "    when the actual value is y_i\"\"\"\n",
    "    return y_i - predict(alpha, beta, x_i)"
   ]
  },
  {
   "cell_type": "code",
   "execution_count": 3,
   "metadata": {},
   "outputs": [],
   "source": [
    "# What we’d really like to know is the total error over the entire data set. But we don’t want to just add \n",
    "# the errors—if the prediction for x_1 is too high and the prediction for x_2 is too low, the errors may just \n",
    "# cancel out.\n",
    "\n",
    "def sum_of_squared_errors(alpha, beta, x, y):\n",
    "    return sum(error(alpha, beta, x_i, y_i) ** 2\n",
    "               for x_i, y_i in zip(x, y))"
   ]
  },
  {
   "cell_type": "code",
   "execution_count": 4,
   "metadata": {},
   "outputs": [],
   "source": [
    "# The least squares solution is to choose the alpha and beta that make sum_of_squared_errors as small as possible.\n",
    "\n",
    "def least_squares_fit(x, y):\n",
    "    \"\"\"given training values for x and y,\n",
    "    find the least-squares values of alpha and beta\"\"\"\n",
    "    beta = correlation(x, y) * standard_deviation(y) / standard_deviation(x)\n",
    "    alpha = mean(y) - beta * mean(x)\n",
    "    return alpha, beta"
   ]
  },
  {
   "cell_type": "code",
   "execution_count": 18,
   "metadata": {},
   "outputs": [],
   "source": [
    "# We need a better way to figure out how well we’ve fit the data than staring at the graph. \n",
    "# A common measure is the coefficient of determination (or R-squared), which measures the fraction of the total\n",
    "# variation in the dependent variable\n",
    "\n",
    "##num_friends = [100,49,41,40,25,21,21,19,19,18,18,16,15,15,15,15,14,14,13,13,13,13,12,12,11,10,10,10,10,10,10,10,10,10,10,10,10,10,10,10,9,9,9,9,9,9,9,9,9,9,9,9,9,9,9,9,9,9,8,8,8,8,8,8,8,8,8,8,8,8,8,7,7,7,7,7,7,7,7,7,7,7,7,7,7,7,6,6,6,6,6,6,6,6,6,6,6,6,6,6,6,6,6,6,6,6,6,6,5,5,5,5,5,5,5,5,5,5,5,5,5,5,5,5,5,4,4,4,4,4,4,4,4,4,4,4,4,4,4,4,4,4,4,4,4,3,3,3,3,3,3,3,3,3,3,3,3,3,3,3,3,3,3,3,3,2,2,2,2,2,2,2,2,2,2,2,2,2,2,2,2,2,1,1,1,1,1,1,1,1,1,1,1,1,1,1,1,1,1,1,1,1,1,1]\n",
    "\n",
    "##outlier = num_friends.index(100)    # index of outlier\n",
    "\n",
    "##num_friends_good = [x\n",
    "                    ##for i, x in enumerate(num_friends)\n",
    "                    ##if i != outlier]\n",
    "\n",
    "##daily_minutes = [1,68.77,51.25,52.08,38.36,44.54,57.13,51.4,41.42,31.22,34.76,54.01,38.79,47.59,49.1,27.66,41.03,36.73,48.65,28.12,46.62,35.57,32.98,35,26.07,23.77,39.73,40.57,31.65,31.21,36.32,20.45,21.93,26.02,27.34,23.49,46.94,30.5,33.8,24.23,21.4,27.94,32.24,40.57,25.07,19.42,22.39,18.42,46.96,23.72,26.41,26.97,36.76,40.32,35.02,29.47,30.2,31,38.11,38.18,36.31,21.03,30.86,36.07,28.66,29.08,37.28,15.28,24.17,22.31,30.17,25.53,19.85,35.37,44.6,17.23,13.47,26.33,35.02,32.09,24.81,19.33,28.77,24.26,31.98,25.73,24.86,16.28,34.51,15.23,39.72,40.8,26.06,35.76,34.76,16.13,44.04,18.03,19.65,32.62,35.59,39.43,14.18,35.24,40.13,41.82,35.45,36.07,43.67,24.61,20.9,21.9,18.79,27.61,27.21,26.61,29.77,20.59,27.53,13.82,33.2,25,33.1,36.65,18.63,14.87,22.2,36.81,25.53,24.62,26.25,18.21,28.08,19.42,29.79,32.8,35.99,28.32,27.79,35.88,29.06,36.28,14.1,36.63,37.49,26.9,18.58,38.48,24.48,18.95,33.55,14.24,29.04,32.51,25.63,22.22,19,32.73,15.16,13.9,27.2,32.01,29.27,33,13.74,20.42,27.32,18.23,35.35,28.48,9.08,24.62,20.12,35.26,19.92,31.02,16.49,12.16,30.7,31.22,34.65,13.13,27.51,33.2,31.57,14.1,33.42,17.44,10.12,24.42,9.82,23.39,30.93,15.03,21.67,31.09,33.29,22.61,26.89,23.48,8.38,27.81,32.35,23.84]\n",
    "\n",
    "##daily_minutes_good = [x\n",
    "                      ##for i, x in enumerate(daily_minutes)\n",
    "                      ##if i != outlier]\n",
    "\n",
    "##alpha, beta = least_squares_fit(num_friends_good, daily_minutes_good)\n",
    "\n",
    "##def dot(v, w):\n",
    "    ##\"\"\"v_1 * w_1 + ... + v_n * w_n\"\"\"\n",
    "    ##return sum(v_i * w_i\n",
    "               ##for v_i, w_i in zip(v, w))\n",
    "\n",
    "##def sum_of_squares(v):\n",
    "    ##\"\"\"v_1 * v_1 + ... + v_n * v_n\"\"\"\n",
    "    ##return dot(v, v)\n",
    "\n",
    "##def variance(x):\n",
    "    ##\"\"\"assumes x has at least two elements\"\"\"\n",
    "    ##n = len(x)\n",
    "    ##deviations = de_mean(x)\n",
    "    ##return sum_of_squares(deviations) / (n - 1)\n",
    "\n",
    "##def standard_deviation(x):\n",
    "    ##return math.sqrt(variance(x))\n",
    "\n",
    "##def covariance(x, y):\n",
    "    ##n = len(x)\n",
    "    ##return dot(de_mean(x), de_mean(y)) / (n - 1)\n",
    "\n",
    "##covariance(num_friends, daily_minutes) # 22.43”\n",
    "\n",
    "##def correlation(x, y):\n",
    "    ##stdev_x = standard_deviation(x)\n",
    "    ##stdev_y = standard_deviation(y)\n",
    "    ##if stdev_x > 0 and stdev_y > 0:\n",
    "        ##return covariance(x, y) / stdev_x / stdev_y\n",
    "    ##else:\n",
    "        ##return 0    # if no variation, correlation is zero    \n",
    "\n",
    "##correlation(num_friends, daily_minutes)    \n",
    "\n",
    "##def total_sum_of_squares(y):\n",
    "   ## \"\"\"the total squared variation of y_i's from their mean\"\"\"\n",
    "    ##return sum(v ** 2 for v in de_mean(y))\n",
    "\n",
    "##def r_squared(alpha, beta, x, y):\n",
    "    ##\"\"\"the fraction of variation in y captured by the model, which equals\n",
    "    ##1 - the fraction of variation in y not captured by the model\"\"\"\n",
    "\n",
    "    ##return 1.0 - (sum_of_squared_errors(alpha, beta, x, y) /\n",
    "                  ##total_sum_of_squares(y))\n",
    "\n",
    "##r_squared(alpha, beta, num_friends_good, daily_minutes_good)      # 0.329"
   ]
  },
  {
   "cell_type": "code",
   "execution_count": null,
   "metadata": {},
   "outputs": [],
   "source": []
  }
 ],
 "metadata": {
  "kernelspec": {
   "display_name": "Python 2",
   "language": "python",
   "name": "python2"
  },
  "language_info": {
   "codemirror_mode": {
    "name": "ipython",
    "version": 2
   },
   "file_extension": ".py",
   "mimetype": "text/x-python",
   "name": "python",
   "nbconvert_exporter": "python",
   "pygments_lexer": "ipython2",
   "version": "2.7.15"
  }
 },
 "nbformat": 4,
 "nbformat_minor": 2
}
